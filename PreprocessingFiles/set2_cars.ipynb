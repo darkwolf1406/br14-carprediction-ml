{
 "cells": [
  {
   "cell_type": "code",
   "execution_count": 1,
   "id": "d4a8c5cc-00c3-43dc-aa3a-e6921d0bbefc",
   "metadata": {},
   "outputs": [],
   "source": [
    "import pandas as pd\n",
    "import numpy as np"
   ]
  },
  {
   "cell_type": "code",
   "execution_count": 5,
   "id": "f95bffb0-50c9-43a4-bae7-55686b334b05",
   "metadata": {},
   "outputs": [],
   "source": [
    "m_cars = pd.read_csv('./set2.csv')"
   ]
  },
  {
   "cell_type": "code",
   "execution_count": null,
   "id": "121b5edd-3f20-4e64-952c-aa2df3a1980d",
   "metadata": {},
   "outputs": [],
   "source": [
    "m_cars.info()"
   ]
  },
  {
   "cell_type": "code",
   "execution_count": 19,
   "id": "052121ad-6c16-4f95-9228-9f138240d355",
   "metadata": {},
   "outputs": [
    {
     "data": {
      "text/plain": [
       "(2714, 11)"
      ]
     },
     "execution_count": 19,
     "metadata": {},
     "output_type": "execute_result"
    }
   ],
   "source": [
    "m_cars.shape"
   ]
  },
  {
   "cell_type": "markdown",
   "id": "63b7bc01-0a35-4cf0-bca0-d0127578ebad",
   "metadata": {
    "tags": []
   },
   "source": [
    "### Dealing with Missing Values"
   ]
  },
  {
   "cell_type": "code",
   "execution_count": 8,
   "id": "96c39edb-c71f-45c0-8df3-1ccd8ec012f7",
   "metadata": {},
   "outputs": [],
   "source": [
    "format_missing = m_cars.copy()"
   ]
  },
  {
   "cell_type": "code",
   "execution_count": null,
   "id": "6baf5ea9-0e24-4004-bfcb-a005f5d3ba96",
   "metadata": {},
   "outputs": [],
   "source": [
    "format_missing.isnull().sum()"
   ]
  },
  {
   "cell_type": "code",
   "execution_count": 37,
   "id": "eff119e9-45a2-43c0-bc69-d4c33b61a397",
   "metadata": {},
   "outputs": [],
   "source": [
    "format_missing.dropna(inplace=True)"
   ]
  },
  {
   "cell_type": "code",
   "execution_count": null,
   "id": "bfc22758-41d9-4c2f-a4f4-6a685f7fa406",
   "metadata": {},
   "outputs": [],
   "source": [
    "format_missing.isnull().sum()"
   ]
  },
  {
   "cell_type": "markdown",
   "id": "b77860b5-c259-4c63-9cdd-d1dcbd2fe75c",
   "metadata": {
    "tags": []
   },
   "source": [
    "### Backup after Dealing with Missing Values"
   ]
  },
  {
   "cell_type": "code",
   "execution_count": 39,
   "id": "8309be06-a9f3-456c-8417-57e1663327bf",
   "metadata": {},
   "outputs": [],
   "source": [
    "backupaft_missing = format_missing.copy()"
   ]
  },
  {
   "cell_type": "markdown",
   "id": "4b1a2fbb-d8e6-4bf1-9344-cafe01c4158a",
   "metadata": {
    "tags": []
   },
   "source": [
    "### Formatting and Transforming Price"
   ]
  },
  {
   "cell_type": "code",
   "execution_count": 41,
   "id": "b95c1099-01d3-4f8f-8c5c-b364bb73bde8",
   "metadata": {},
   "outputs": [],
   "source": [
    "format_price = backupaft_missing.copy()"
   ]
  },
  {
   "cell_type": "code",
   "execution_count": 51,
   "id": "42c659ca-0fcf-4491-804a-ab55e1ab9d1d",
   "metadata": {},
   "outputs": [
    {
     "data": {
      "text/plain": [
       "Name            object\n",
       "Price           object\n",
       "Year             int64\n",
       "Fuel            object\n",
       "KMS             object\n",
       "Engine          object\n",
       "Owners          object\n",
       "Transmission    object\n",
       "Mileage         object\n",
       "Seats            int64\n",
       "GearBox         object\n",
       "dtype: object"
      ]
     },
     "execution_count": 51,
     "metadata": {},
     "output_type": "execute_result"
    }
   ],
   "source": [
    "format_price.dtypes"
   ]
  },
  {
   "cell_type": "code",
   "execution_count": 45,
   "id": "7350e5d3-a979-4dde-b5a1-3caf73654626",
   "metadata": {},
   "outputs": [],
   "source": [
    "# Converting Year from float64 to int64\n",
    "format_price['Year'] = format_price['Year'].astype(np.int64)"
   ]
  },
  {
   "cell_type": "code",
   "execution_count": 49,
   "id": "3a895722-27f9-4949-bf39-b09cc7f8521a",
   "metadata": {},
   "outputs": [],
   "source": [
    "# Converting Seats from float64 to int64\n",
    "format_price['Seats'] = format_price['Seats'].astype(np.int64)"
   ]
  },
  {
   "cell_type": "code",
   "execution_count": 54,
   "id": "6cb57689-0e27-4273-aa2e-a28cc277cbd9",
   "metadata": {},
   "outputs": [],
   "source": [
    "format_price['Price'] = format_price['Price'].str.replace('Lakh\\*','',regex=True)"
   ]
  },
  {
   "cell_type": "code",
   "execution_count": 56,
   "id": "fc694267-fd64-4505-854a-31dabba1ef8f",
   "metadata": {},
   "outputs": [],
   "source": [
    "format_price['Price'] = format_price['Price'].str.replace(' ','',regex=True)"
   ]
  },
  {
   "cell_type": "code",
   "execution_count": 58,
   "id": "9c189eae-c7ae-454b-b4a9-a575c102166c",
   "metadata": {},
   "outputs": [],
   "source": [
    "format_price['Price'] = format_price['Price'].str.replace('\\*','',regex=True)"
   ]
  },
  {
   "cell_type": "code",
   "execution_count": 62,
   "id": "63d5a784-dbf1-43a9-a08a-fe6aec0c8c97",
   "metadata": {},
   "outputs": [
    {
     "data": {
      "text/html": [
       "<div>\n",
       "<style scoped>\n",
       "    .dataframe tbody tr th:only-of-type {\n",
       "        vertical-align: middle;\n",
       "    }\n",
       "\n",
       "    .dataframe tbody tr th {\n",
       "        vertical-align: top;\n",
       "    }\n",
       "\n",
       "    .dataframe thead th {\n",
       "        text-align: right;\n",
       "    }\n",
       "</style>\n",
       "<table border=\"1\" class=\"dataframe\">\n",
       "  <thead>\n",
       "    <tr style=\"text-align: right;\">\n",
       "      <th></th>\n",
       "      <th>Year</th>\n",
       "      <th>Seats</th>\n",
       "    </tr>\n",
       "    <tr>\n",
       "      <th>Price</th>\n",
       "      <th></th>\n",
       "      <th></th>\n",
       "    </tr>\n",
       "  </thead>\n",
       "  <tbody>\n",
       "    <tr>\n",
       "      <th>1</th>\n",
       "      <td>284078</td>\n",
       "      <td>767</td>\n",
       "    </tr>\n",
       "    <tr>\n",
       "      <th>2</th>\n",
       "      <td>393331</td>\n",
       "      <td>1045</td>\n",
       "    </tr>\n",
       "    <tr>\n",
       "      <th>3</th>\n",
       "      <td>294049</td>\n",
       "      <td>776</td>\n",
       "    </tr>\n",
       "    <tr>\n",
       "      <th>4</th>\n",
       "      <td>2655416</td>\n",
       "      <td>6882</td>\n",
       "    </tr>\n",
       "    <tr>\n",
       "      <th>5</th>\n",
       "      <td>1242122</td>\n",
       "      <td>3427</td>\n",
       "    </tr>\n",
       "    <tr>\n",
       "      <th>6</th>\n",
       "      <td>46200</td>\n",
       "      <td>112</td>\n",
       "    </tr>\n",
       "    <tr>\n",
       "      <th>8</th>\n",
       "      <td>330749</td>\n",
       "      <td>825</td>\n",
       "    </tr>\n",
       "    <tr>\n",
       "      <th>9</th>\n",
       "      <td>46436</td>\n",
       "      <td>125</td>\n",
       "    </tr>\n",
       "  </tbody>\n",
       "</table>\n",
       "</div>"
      ],
      "text/plain": [
       "          Year  Seats\n",
       "Price                \n",
       "1       284078    767\n",
       "2       393331   1045\n",
       "3       294049    776\n",
       "4      2655416   6882\n",
       "5      1242122   3427\n",
       "6        46200    112\n",
       "8       330749    825\n",
       "9        46436    125"
      ]
     },
     "execution_count": 62,
     "metadata": {},
     "output_type": "execute_result"
    }
   ],
   "source": [
    "format_price.groupby(format_price['Price'].str.len()).sum()"
   ]
  },
  {
   "cell_type": "code",
   "execution_count": null,
   "id": "53322426-5077-4a42-8a6f-ecf744e975dd",
   "metadata": {},
   "outputs": [],
   "source": [
    "# PRICE_1\n",
    "# ------- 24,05,000 -------\n",
    "# Len of price before removing comma -> 9, Format -> 24,05,000\n",
    "# Len of price after removing comma -> 7, Format -> 2405000 -- no need to edit it  [[ DONE! ]]\n",
    "\n",
    "# PRICE_2\n",
    "# ------- 4,19,000 -------\n",
    "# Len of price before removing comma -> 8, Format -> 4,19,000\n",
    "# Len of price after removing comma -> 6, Format -> 419000 -- no need to edit it  [[ DONE! ]]\n",
    "\n",
    "# PRICE_3\n",
    "# ------- 85,000 -------\n",
    "# Len of price before removing comma -> 6, Format -> 85,000 == 85000\n",
    "# Len of price after removing comma -> 5, Format -> 85000 -- no need to edit it\n",
    "# One row having 'Cr' [[NEED TO REMOVE IT]]                                      [[ DONE! ]]\n",
    "\n",
    "# PRICE_4\n",
    "# ------- 24.99 ------- \n",
    "# Len of price before removing dot -> 5, Format -> 24.99Lakhs == 24.99.000\n",
    "# Len of price after removing dot  -> 4, Format -> 2499 -- need to add 000 zeros [[ DONE! ]]\n",
    "\n",
    "# PRICE_5\n",
    "# ------- 1.80 ------- \n",
    "# Len of price before removing dot -> 4, Format -> 1.80Lakhs == 1.80.000\n",
    "# Len of price after removing dot  -> 3, Format -> 180 -- need to add 000 zeros  [[ DONE! ]]\n",
    "\n",
    "# PRICE_6\n",
    "# ------- 3.5 -------\n",
    "# Len of price before removing dot -> 3, Format -> 3.5Lakhs == 3.50.000\n",
    "# Len of price after removing dot  -> 2, Format -> 35 -- need to add 0000 zeros  [[ DONE! ]]\n",
    "\n",
    "# PRICE_7\n",
    "# ------- 24 ------- two digits without dot \n",
    "# Len of price -> 2, Format -> 24Lakhs == 24.00.000 -- need to add 00000 zeros\n",
    "\n",
    "# PRICE_8\n",
    "# ------- 6 ------- one digit price\n",
    "# Len of price -> 1, Format -> 6Lakh == 6.00.000 -- need to add 00000 zeros      [[ DONE! ]]"
   ]
  },
  {
   "cell_type": "code",
   "execution_count": 73,
   "id": "8b1f5297-3604-4a10-9dbe-ff90e0ad1c53",
   "metadata": {},
   "outputs": [],
   "source": [
    "# adding 'lakhslakhslakhs' to two digit price without dot which are actually lakhs for convenience\n",
    "filter_len = format_price['Price'].str.len()==2"
   ]
  },
  {
   "cell_type": "code",
   "execution_count": 74,
   "id": "bb0ae14d-e79c-4b55-aa68-8911d00ba12d",
   "metadata": {},
   "outputs": [],
   "source": [
    "format_price.loc[filter_len,'Price'] = format_price[filter_len]['Price'] + 'TripleTripleTriple'"
   ]
  },
  {
   "cell_type": "code",
   "execution_count": 79,
   "id": "fdc733a6-2b9c-4c66-bc03-2963b7841ff3",
   "metadata": {},
   "outputs": [],
   "source": [
    "format_price['Price'] = format_price['Price'].str.replace('\\.','',regex=True)"
   ]
  },
  {
   "cell_type": "code",
   "execution_count": 80,
   "id": "48247118-8d96-4a11-a9f0-9f2fd5dd9c2b",
   "metadata": {},
   "outputs": [],
   "source": [
    "format_price['Price'] = format_price['Price'].str.replace('\\,','',regex=True)"
   ]
  },
  {
   "cell_type": "code",
   "execution_count": 82,
   "id": "2cdd85aa-d4a7-497e-ba2b-576529f74a8e",
   "metadata": {},
   "outputs": [],
   "source": [
    "format_price['modified_price'] = format_price['Price']"
   ]
  },
  {
   "cell_type": "code",
   "execution_count": 84,
   "id": "090cf4ff-a29c-4f4b-ab5e-a8323253e53b",
   "metadata": {},
   "outputs": [],
   "source": [
    "# operation for PRICE_6\n",
    "filter_len = format_price['Price'].str.len()==2"
   ]
  },
  {
   "cell_type": "code",
   "execution_count": 85,
   "id": "8098ccee-aa4f-43c7-988d-ecdd99299f53",
   "metadata": {},
   "outputs": [],
   "source": [
    "format_price.loc[filter_len,'modified_price'] = format_price[filter_len]['Price'] + '0000'"
   ]
  },
  {
   "cell_type": "code",
   "execution_count": 87,
   "id": "956ea740-4bd3-45a0-be43-299d1699ae3f",
   "metadata": {},
   "outputs": [],
   "source": [
    "# operation for PRICE_5\n",
    "filter_len = format_price['Price'].str.len()==3"
   ]
  },
  {
   "cell_type": "code",
   "execution_count": 88,
   "id": "f82c8c40-d9ae-4070-b1b5-cdf3e4f2929a",
   "metadata": {},
   "outputs": [],
   "source": [
    "format_price.loc[filter_len,'modified_price'] = format_price[filter_len]['Price'] + '000'"
   ]
  },
  {
   "cell_type": "code",
   "execution_count": 89,
   "id": "14f383df-e1f2-425f-860a-577569334fc1",
   "metadata": {},
   "outputs": [],
   "source": [
    "# operation for PRICE_4\n",
    "filter_len = format_price['Price'].str.len()==4"
   ]
  },
  {
   "cell_type": "code",
   "execution_count": 90,
   "id": "603c35f1-a3ab-4ca0-8925-9e6519163926",
   "metadata": {},
   "outputs": [],
   "source": [
    "format_price.loc[filter_len,'modified_price'] = format_price[filter_len]['Price'] + '000'"
   ]
  },
  {
   "cell_type": "code",
   "execution_count": 91,
   "id": "c128f315-64bd-4e13-88d2-4376307dea28",
   "metadata": {},
   "outputs": [],
   "source": [
    "# operation for PRICE_8\n",
    "filter_len = format_price['Price'].str.len()==1"
   ]
  },
  {
   "cell_type": "code",
   "execution_count": 92,
   "id": "7cc4c65a-37fc-4843-b27b-9ede54922a0b",
   "metadata": {},
   "outputs": [],
   "source": [
    "format_price.loc[filter_len,'modified_price'] = format_price[filter_len]['Price'] + '00000'"
   ]
  },
  {
   "cell_type": "code",
   "execution_count": 93,
   "id": "20a2a57a-ee54-4a08-8c93-d0e73671f778",
   "metadata": {},
   "outputs": [],
   "source": [
    "# operation for PRICE_7\n",
    "format_price['Price'] = format_price['Price'].str.replace('TripleTripleTriple','',regex=True)\n",
    "format_price['modified_price'] = format_price['modified_price'].str.replace('TripleTripleTriple','',regex=True)"
   ]
  },
  {
   "cell_type": "code",
   "execution_count": 94,
   "id": "2f4d4774-f072-47d8-8dcd-d3422af80dc9",
   "metadata": {},
   "outputs": [],
   "source": [
    "filter_len = format_price['Price'].str.len()==2\n",
    "format_price.loc[filter_len,'modified_price'] = format_price[filter_len]['Price'] + '00000'"
   ]
  },
  {
   "cell_type": "code",
   "execution_count": 96,
   "id": "4054a756-2d93-4413-b3b2-d3957970718e",
   "metadata": {},
   "outputs": [
    {
     "data": {
      "text/html": [
       "<div>\n",
       "<style scoped>\n",
       "    .dataframe tbody tr th:only-of-type {\n",
       "        vertical-align: middle;\n",
       "    }\n",
       "\n",
       "    .dataframe tbody tr th {\n",
       "        vertical-align: top;\n",
       "    }\n",
       "\n",
       "    .dataframe thead th {\n",
       "        text-align: right;\n",
       "    }\n",
       "</style>\n",
       "<table border=\"1\" class=\"dataframe\">\n",
       "  <thead>\n",
       "    <tr style=\"text-align: right;\">\n",
       "      <th></th>\n",
       "      <th>Name</th>\n",
       "      <th>Price</th>\n",
       "      <th>Year</th>\n",
       "      <th>Fuel</th>\n",
       "      <th>KMS</th>\n",
       "      <th>Engine</th>\n",
       "      <th>Owners</th>\n",
       "      <th>Transmission</th>\n",
       "      <th>Mileage</th>\n",
       "      <th>Seats</th>\n",
       "      <th>GearBox</th>\n",
       "      <th>modified_price</th>\n",
       "    </tr>\n",
       "  </thead>\n",
       "  <tbody>\n",
       "  </tbody>\n",
       "</table>\n",
       "</div>"
      ],
      "text/plain": [
       "Empty DataFrame\n",
       "Columns: [Name, Price, Year, Fuel, KMS, Engine, Owners, Transmission, Mileage, Seats, GearBox, modified_price]\n",
       "Index: []"
      ]
     },
     "execution_count": 96,
     "metadata": {},
     "output_type": "execute_result"
    }
   ],
   "source": [
    "format_price[format_price['modified_price'].str.len()==2]"
   ]
  },
  {
   "cell_type": "code",
   "execution_count": 97,
   "id": "e90dcfd2-23dd-4721-badb-db3f08e7020d",
   "metadata": {},
   "outputs": [],
   "source": [
    "format_price.drop('Price',axis=1,inplace=True)"
   ]
  },
  {
   "cell_type": "code",
   "execution_count": 98,
   "id": "8da3ed51-bcb7-4973-95ff-87e39d614c10",
   "metadata": {},
   "outputs": [],
   "source": [
    "format_price['Price'] = format_price['modified_price']"
   ]
  },
  {
   "cell_type": "code",
   "execution_count": 99,
   "id": "0d22add4-a066-4811-bcd5-1a00fb9f03ce",
   "metadata": {},
   "outputs": [],
   "source": [
    "format_price.drop('modified_price',axis=1,inplace=True)"
   ]
  },
  {
   "cell_type": "code",
   "execution_count": null,
   "id": "9d3b3fff-30b4-4511-abbc-7308888f41e2",
   "metadata": {},
   "outputs": [],
   "source": [
    "format_price.loc[format_price['Price'].str.contains('Crore')]"
   ]
  },
  {
   "cell_type": "code",
   "execution_count": 104,
   "id": "d71de467-fee9-4b14-a37a-890eb14bb64d",
   "metadata": {},
   "outputs": [],
   "source": [
    "format_price['Price'] = format_price['Price'].str.replace('Crore','')"
   ]
  },
  {
   "cell_type": "code",
   "execution_count": null,
   "id": "995bdf8a-ea3e-4886-9fd8-26b5b08fe64b",
   "metadata": {},
   "outputs": [],
   "source": [
    "format_price.loc[format_price['Price'].str.len()==3]"
   ]
  },
  {
   "cell_type": "code",
   "execution_count": 107,
   "id": "74065d8b-bb3a-4fc7-9ced-e24a5dc4ff73",
   "metadata": {},
   "outputs": [],
   "source": [
    "filter_len = format_price['Price'].str.len()==1"
   ]
  },
  {
   "cell_type": "code",
   "execution_count": 108,
   "id": "89753ead-e986-46ed-8482-8689efd31a22",
   "metadata": {},
   "outputs": [],
   "source": [
    "format_price.loc[filter_len,'Price'] = format_price[filter_len]['Price'] + '0000000'"
   ]
  },
  {
   "cell_type": "code",
   "execution_count": 111,
   "id": "b0c81e19-f978-4897-ad51-fb3495def358",
   "metadata": {},
   "outputs": [],
   "source": [
    "filter_len = format_price['Price'].str.len()==3"
   ]
  },
  {
   "cell_type": "code",
   "execution_count": 112,
   "id": "2ee836c5-897d-4bfd-a962-3f7aac7eb25a",
   "metadata": {},
   "outputs": [],
   "source": [
    "format_price.loc[filter_len,'Price'] = format_price[filter_len]['Price'] + '00000'"
   ]
  },
  {
   "cell_type": "code",
   "execution_count": 115,
   "id": "5b802a13-a987-4f24-8b31-22f18d87803f",
   "metadata": {},
   "outputs": [],
   "source": [
    "# Converting Price from float64 to int64\n",
    "format_price['Price'] = format_price['Price'].astype(np.int64)"
   ]
  },
  {
   "cell_type": "code",
   "execution_count": null,
   "id": "139e198d-15bd-4696-8c47-c83255ce554a",
   "metadata": {},
   "outputs": [],
   "source": [
    "format_price.dtypes"
   ]
  },
  {
   "cell_type": "markdown",
   "id": "15114862-7344-49e5-aacc-ac301e747fe0",
   "metadata": {
    "jp-MarkdownHeadingCollapsed": true,
    "tags": []
   },
   "source": [
    "### Backup DataFrame after Formatting Price"
   ]
  },
  {
   "cell_type": "code",
   "execution_count": 117,
   "id": "2e0dda4b-dbb7-4df9-86ef-34d9dcff4d3b",
   "metadata": {},
   "outputs": [],
   "source": [
    "backupaft_price = format_price.copy()"
   ]
  },
  {
   "cell_type": "markdown",
   "id": "5b15ff7d-6d92-42cb-a237-b3bf940876ea",
   "metadata": {
    "jp-MarkdownHeadingCollapsed": true,
    "tags": []
   },
   "source": [
    "### Formatting and Transforming Engine"
   ]
  },
  {
   "cell_type": "code",
   "execution_count": 119,
   "id": "275ad6f0-a809-44b8-ac92-189c67475121",
   "metadata": {},
   "outputs": [],
   "source": [
    "format_engine = backupaft_price.copy()"
   ]
  },
  {
   "cell_type": "code",
   "execution_count": 122,
   "id": "2260677a-cc9c-4690-a520-2fd5bc8c2a28",
   "metadata": {},
   "outputs": [],
   "source": [
    "format_engine['Engine'] = format_engine['Engine'].str.replace('cc','')"
   ]
  },
  {
   "cell_type": "code",
   "execution_count": 123,
   "id": "3b678708-e60e-4f7b-bf51-c37064907609",
   "metadata": {},
   "outputs": [],
   "source": [
    "format_engine['Engine'] = format_engine['Engine'].str.replace('CC','')"
   ]
  },
  {
   "cell_type": "code",
   "execution_count": 124,
   "id": "55c25b26-1cb5-469e-9f28-44891fba8dab",
   "metadata": {},
   "outputs": [],
   "source": [
    "format_engine['Engine'] = format_engine['Engine'].str.replace(' ','')"
   ]
  },
  {
   "cell_type": "code",
   "execution_count": 126,
   "id": "02feb56b-17e0-4082-a171-2cd989c0ea53",
   "metadata": {},
   "outputs": [],
   "source": [
    "# Converting Engine from float64 to int64\n",
    "format_engine['Engine'] = format_engine['Engine'].astype(np.int64)"
   ]
  },
  {
   "cell_type": "markdown",
   "id": "eaa38807-093d-4d9c-9a96-afabb7eccdab",
   "metadata": {
    "jp-MarkdownHeadingCollapsed": true,
    "tags": []
   },
   "source": [
    "### Backup after Formatting Engine"
   ]
  },
  {
   "cell_type": "code",
   "execution_count": 128,
   "id": "275de394-b579-4bc7-bd86-4e3dfe830036",
   "metadata": {},
   "outputs": [],
   "source": [
    "backupaft_engine = format_engine.copy()"
   ]
  },
  {
   "cell_type": "markdown",
   "id": "44748311-58a8-4be9-9369-9c15521e8356",
   "metadata": {
    "jp-MarkdownHeadingCollapsed": true,
    "tags": []
   },
   "source": [
    "### Formatting and Transforming Mileage"
   ]
  },
  {
   "cell_type": "code",
   "execution_count": 129,
   "id": "4e6c321e-6e1f-4e8d-bf6b-d5268b99ccf6",
   "metadata": {},
   "outputs": [],
   "source": [
    "format_mileage = backupaft_engine.copy()"
   ]
  },
  {
   "cell_type": "code",
   "execution_count": 131,
   "id": "1ac58138-d568-4fbc-9407-9c7543795c61",
   "metadata": {},
   "outputs": [],
   "source": [
    "format_mileage['Mileage'] = format_mileage['Mileage'].str.replace('kmpl','')"
   ]
  },
  {
   "cell_type": "code",
   "execution_count": 132,
   "id": "8eb2e0c6-901e-40ff-8e92-958921924053",
   "metadata": {},
   "outputs": [],
   "source": [
    "format_mileage['Mileage'] = format_mileage['Mileage'].str.replace(' ','')"
   ]
  },
  {
   "cell_type": "code",
   "execution_count": 133,
   "id": "be43cf46-f7b2-4d77-9a8a-76cb899038ed",
   "metadata": {},
   "outputs": [],
   "source": [
    "format_mileage['Mileage'] = format_mileage['Mileage'].str.replace('km/kg','')"
   ]
  },
  {
   "cell_type": "code",
   "execution_count": 135,
   "id": "076c3bc6-41b6-4845-b8ac-ebd5cb59c1dc",
   "metadata": {},
   "outputs": [],
   "source": [
    "format_mileage['Mileage'] = format_mileage['Mileage'].astype(np.float64)"
   ]
  },
  {
   "cell_type": "markdown",
   "id": "c3f9eb2c-591a-438b-8406-5dcf7cbbfbaa",
   "metadata": {
    "jp-MarkdownHeadingCollapsed": true,
    "tags": []
   },
   "source": [
    "### Backup after Formatting Mileage"
   ]
  },
  {
   "cell_type": "code",
   "execution_count": 137,
   "id": "202ff41b-c207-4554-bcb6-41ce5e9021f9",
   "metadata": {},
   "outputs": [],
   "source": [
    "backupaft_mileage = format_mileage.copy()"
   ]
  },
  {
   "cell_type": "markdown",
   "id": "abfab1a2-18ed-4da8-973c-4497ad47ace3",
   "metadata": {
    "jp-MarkdownHeadingCollapsed": true,
    "tags": []
   },
   "source": [
    "### Formatting and Transforming KMS"
   ]
  },
  {
   "cell_type": "code",
   "execution_count": 138,
   "id": "86c9cfe2-581a-4550-a650-2936c1528785",
   "metadata": {},
   "outputs": [],
   "source": [
    "format_kms = backupaft_mileage.copy()"
   ]
  },
  {
   "cell_type": "code",
   "execution_count": 140,
   "id": "fe5261f1-76fb-4d76-ba3f-a157d00ba52d",
   "metadata": {},
   "outputs": [],
   "source": [
    "format_kms['KMS'] = format_kms['KMS'].str.replace('kms','')\n",
    "format_kms['KMS'] = format_kms['KMS'].str.replace('Kms','')"
   ]
  },
  {
   "cell_type": "code",
   "execution_count": 141,
   "id": "ff725863-eec4-4651-b454-49d5d665e89d",
   "metadata": {},
   "outputs": [],
   "source": [
    "format_kms['KMS'] = format_kms['KMS'].str.replace(' ','')"
   ]
  },
  {
   "cell_type": "code",
   "execution_count": 142,
   "id": "4e699078-7806-483b-8452-1783b985f74e",
   "metadata": {},
   "outputs": [],
   "source": [
    "format_kms['KMS'] = format_kms['KMS'].str.replace(',','')"
   ]
  },
  {
   "cell_type": "code",
   "execution_count": 143,
   "id": "d66039e3-d0ae-4f6d-8ff0-769a0e3424bb",
   "metadata": {},
   "outputs": [],
   "source": [
    "format_kms['KMS'] = format_kms['KMS'].str.replace('Km','')"
   ]
  },
  {
   "cell_type": "code",
   "execution_count": 145,
   "id": "0bbab1d1-3f2a-467b-95cb-615975ddbc7f",
   "metadata": {},
   "outputs": [],
   "source": [
    "format_kms['KMS'] = format_kms['KMS'].astype(np.int64)"
   ]
  },
  {
   "cell_type": "markdown",
   "id": "bbd7c436-2f68-4351-844f-434a65e2d27b",
   "metadata": {
    "jp-MarkdownHeadingCollapsed": true,
    "tags": []
   },
   "source": [
    "### Backup after Formatting KMS"
   ]
  },
  {
   "cell_type": "code",
   "execution_count": 146,
   "id": "8824a6d4-44c0-474c-81dd-e1bbbc83955e",
   "metadata": {},
   "outputs": [],
   "source": [
    "backupaft_kms = format_kms.copy()"
   ]
  },
  {
   "cell_type": "markdown",
   "id": "3a567cc1-6c8f-48c5-a921-7e386dd3fb08",
   "metadata": {
    "tags": []
   },
   "source": [
    "### Formatting and Transforming Owners"
   ]
  },
  {
   "cell_type": "code",
   "execution_count": 147,
   "id": "5919fbec-cfcb-4b72-bb66-577e307d6e3c",
   "metadata": {},
   "outputs": [],
   "source": [
    "format_owners = backupaft_kms.copy()"
   ]
  },
  {
   "cell_type": "code",
   "execution_count": null,
   "id": "2f850090-f12d-4cbe-9242-c1556ed8f3aa",
   "metadata": {},
   "outputs": [],
   "source": [
    "format_owners.groupby('Owners').sum()"
   ]
  },
  {
   "cell_type": "code",
   "execution_count": 149,
   "id": "9445c06e-f5d0-466c-a79d-c9defecc102f",
   "metadata": {},
   "outputs": [],
   "source": [
    "format_owners['Owners'] = format_owners['Owners'].replace({\n",
    "    \"1st Owner\": 1,\n",
    "    \"2nd Owner\": 2,\n",
    "    \"First Owner\": 1,\n",
    "    \"Fourth & Above Owner\": 4,\n",
    "    \"Second Owner\": 2,\n",
    "    \"Fourth Owner\": 4,\n",
    "    \"Third Owner\": 3,\n",
    "})"
   ]
  },
  {
   "cell_type": "markdown",
   "id": "e4b1f131-3dcd-4787-beb0-15e355b6aa3f",
   "metadata": {
    "jp-MarkdownHeadingCollapsed": true,
    "tags": []
   },
   "source": [
    "### Backup after Formatting Owners"
   ]
  },
  {
   "cell_type": "code",
   "execution_count": 151,
   "id": "30034b43-7567-4144-bcdf-849025783685",
   "metadata": {},
   "outputs": [],
   "source": [
    "backupaft_owners = format_owners.copy()"
   ]
  },
  {
   "cell_type": "markdown",
   "id": "80408b46-19c7-4480-bb57-6623abdf8c6c",
   "metadata": {
    "jp-MarkdownHeadingCollapsed": true,
    "tags": []
   },
   "source": [
    "### Formatting and Transforming Transmission"
   ]
  },
  {
   "cell_type": "code",
   "execution_count": 152,
   "id": "7387ca88-83e0-4165-b961-f524a19aa663",
   "metadata": {},
   "outputs": [],
   "source": [
    "format_transmission = backupaft_owners.copy()"
   ]
  },
  {
   "cell_type": "code",
   "execution_count": null,
   "id": "372d548c-4523-4f9a-916c-fd980607c3c1",
   "metadata": {},
   "outputs": [],
   "source": [
    "grouped = format_transmission.groupby('Transmission')\n",
    "for name,group in grouped:\n",
    "    print(name)"
   ]
  },
  {
   "cell_type": "code",
   "execution_count": 160,
   "id": "18602fe4-a1bc-40a8-9e4d-db00dfa6b244",
   "metadata": {},
   "outputs": [],
   "source": [
    "format_transmission.loc[format_transmission['Transmission'].str.contains('DL5C'), 'Transmission'] = 'Automatic'"
   ]
  },
  {
   "cell_type": "code",
   "execution_count": 170,
   "id": "d116e494-eb55-491c-a619-a382a43a7a46",
   "metadata": {},
   "outputs": [],
   "source": [
    "format_transmission.drop(77, axis=0,inplace=True)"
   ]
  },
  {
   "cell_type": "code",
   "execution_count": 173,
   "id": "33e14dab-b062-4fee-a065-65afa8c85586",
   "metadata": {},
   "outputs": [],
   "source": [
    "format_transmission.loc[format_transmission['Transmission'].str.contains('HR26'), 'Transmission'] = 'Automatic'"
   ]
  },
  {
   "cell_type": "code",
   "execution_count": 178,
   "id": "a694a7db-f89a-4d3a-8596-e674ba28a6c5",
   "metadata": {},
   "outputs": [],
   "source": [
    "format_transmission.loc[95, 'Transmission'] = 'Manual'"
   ]
  },
  {
   "cell_type": "code",
   "execution_count": 180,
   "id": "edb69425-24c3-4919-97c0-71fd14fa73ba",
   "metadata": {},
   "outputs": [],
   "source": [
    "format_transmission.loc[96, 'Transmission'] = 'Automatic'"
   ]
  },
  {
   "cell_type": "code",
   "execution_count": 182,
   "id": "4cc6a5ee-9b1b-4270-b255-a0f433e8a77a",
   "metadata": {},
   "outputs": [],
   "source": [
    "format_transmission['Transmission'] = format_transmission['Transmission'].replace({\n",
    "    \"Manual\": 1,\n",
    "    \"Automatic\": 2\n",
    "})"
   ]
  },
  {
   "cell_type": "markdown",
   "id": "c3f27c89-967f-446c-b165-c9f48e443f33",
   "metadata": {
    "jp-MarkdownHeadingCollapsed": true,
    "tags": []
   },
   "source": [
    "### Backup after Formatting Transmission"
   ]
  },
  {
   "cell_type": "code",
   "execution_count": 184,
   "id": "bbbd70b3-9b9b-4a33-a276-dd38656a01dd",
   "metadata": {},
   "outputs": [],
   "source": [
    "backupaft_transmission = format_transmission.copy()"
   ]
  },
  {
   "cell_type": "markdown",
   "id": "dc1510a0-5c37-4428-96a6-bd04570b734b",
   "metadata": {
    "jp-MarkdownHeadingCollapsed": true,
    "tags": []
   },
   "source": [
    "### Formatting and Transforming Fuel"
   ]
  },
  {
   "cell_type": "code",
   "execution_count": 185,
   "id": "fbdf3938-e543-4bff-9006-d24d4ad1ac9d",
   "metadata": {},
   "outputs": [],
   "source": [
    "format_fuel = backupaft_transmission.copy()"
   ]
  },
  {
   "cell_type": "code",
   "execution_count": null,
   "id": "520919b1-40f8-4c86-a36b-25c9848df2e5",
   "metadata": {},
   "outputs": [],
   "source": [
    "format_fuel.groupby('Fuel').sum()"
   ]
  },
  {
   "cell_type": "code",
   "execution_count": 187,
   "id": "b8bc0363-b7f5-4daa-9fce-eadb7ca0bfd3",
   "metadata": {},
   "outputs": [],
   "source": [
    "format_fuel['Fuel'] = format_fuel['Fuel'].replace({\n",
    "    \"Petrol\": 1,\n",
    "    \"Diesel\": 2,\n",
    "    \"CNG\": 3,\n",
    "    \"LPG\": 4,\n",
    "    \"Electric(Battery)\": 5\n",
    "})"
   ]
  },
  {
   "cell_type": "markdown",
   "id": "d5c62a36-be19-4ca8-aec9-3c9eb245c73d",
   "metadata": {
    "jp-MarkdownHeadingCollapsed": true,
    "tags": []
   },
   "source": [
    "### Backup after Formatting Fuel"
   ]
  },
  {
   "cell_type": "code",
   "execution_count": 189,
   "id": "6cd2d0ce-f7e0-4cc1-a065-2a4d98866d38",
   "metadata": {},
   "outputs": [],
   "source": [
    "backupaft_fuel = format_fuel.copy()"
   ]
  },
  {
   "cell_type": "markdown",
   "id": "a6ad07cd-c243-41ab-9998-866fe578ce90",
   "metadata": {
    "jp-MarkdownHeadingCollapsed": true,
    "tags": []
   },
   "source": [
    "### Formatting and Transforming GearBox"
   ]
  },
  {
   "cell_type": "code",
   "execution_count": 190,
   "id": "48cfa13b-c65a-420a-8d5d-2aff6ead1112",
   "metadata": {},
   "outputs": [],
   "source": [
    "format_gearbox = backupaft_fuel.copy()"
   ]
  },
  {
   "cell_type": "code",
   "execution_count": 229,
   "id": "9c299a77-3c22-484d-9163-9d4ab26d7bdd",
   "metadata": {},
   "outputs": [
    {
     "name": "stdout",
     "output_type": "stream",
     "text": [
      "10\n",
      "4\n",
      "5\n",
      "6\n",
      "7\n",
      "8\n",
      "9\n"
     ]
    }
   ],
   "source": [
    "gearboxgrouped = format_gearbox.groupby('GearBox')\n",
    "for name,group in gearboxgrouped:\n",
    "    print(name)"
   ]
  },
  {
   "cell_type": "code",
   "execution_count": 195,
   "id": "1117f796-a5d3-42bb-997b-a63525695cb4",
   "metadata": {},
   "outputs": [],
   "source": [
    "format_gearbox['GearBox'] = format_gearbox['GearBox'].replace({\n",
    "    \"Five Speed Manual Transmission Gearbox\": '5',\n",
    "    \"Six Speed Manual\": '6',\n",
    "    \"Six Speed Manual Transmission\": '6',\n",
    "})"
   ]
  },
  {
   "cell_type": "code",
   "execution_count": 228,
   "id": "b41bffbc-8eb4-4753-a6b0-6dfa832b0b5e",
   "metadata": {},
   "outputs": [],
   "source": [
    "format_gearbox['GearBox'] = format_gearbox['GearBox'].str.replace('AT','')\n",
    "format_gearbox['GearBox'] = format_gearbox['GearBox'].str.replace('iMT','')\n",
    "format_gearbox['GearBox'] = format_gearbox['GearBox'].str.replace('IMT','')\n",
    "format_gearbox['GearBox'] = format_gearbox['GearBox'].str.replace('CVT','7')\n",
    "format_gearbox['GearBox'] = format_gearbox['GearBox'].str.replace('IVT','6')"
   ]
  },
  {
   "cell_type": "code",
   "execution_count": 226,
   "id": "63a0587c-f748-41bb-9d1a-558105d04ff0",
   "metadata": {},
   "outputs": [],
   "source": [
    "format_gearbox['GearBox'] = format_gearbox['GearBox'].str.replace('7CVT','7')\n",
    "format_gearbox['GearBox'] = format_gearbox['GearBox'].str.replace('7DCT','7')\n",
    "format_gearbox['GearBox'] = format_gearbox['GearBox'].str.replace('7DSG','7')\n",
    "format_gearbox['GearBox'] = format_gearbox['GearBox'].str.replace('5CVT','5')\n",
    "format_gearbox['GearBox'] = format_gearbox['GearBox'].str.replace('6IVT','6')"
   ]
  },
  {
   "cell_type": "code",
   "execution_count": 197,
   "id": "cb405a05-e3f0-440f-964c-d60e9c429645",
   "metadata": {},
   "outputs": [],
   "source": [
    "format_gearbox['GearBox'] = format_gearbox['GearBox'].str.replace('Speed','')\n",
    "format_gearbox['GearBox'] = format_gearbox['GearBox'].str.replace('speed','')\n",
    "format_gearbox['GearBox'] = format_gearbox['GearBox'].str.replace('-','')\n",
    "format_gearbox['GearBox'] = format_gearbox['GearBox'].str.replace(' ','')"
   ]
  },
  {
   "cell_type": "code",
   "execution_count": null,
   "id": "f0e71eb7-1fcc-4d06-b23b-213c2b85023a",
   "metadata": {},
   "outputs": [],
   "source": [
    "format_gearbox['GearBox'] = format_gearbox['GearBox'].str.replace('Steptronic','')\n",
    "format_gearbox['GearBox'] = format_gearbox['GearBox'].str.replace('SteptronicAutomatic','')\n",
    "format_gearbox['GearBox'] = format_gearbox['GearBox'].str.replace('Tiptronic','')\n",
    "format_gearbox['GearBox'] = format_gearbox['GearBox'].str.replace('STronic','')\n",
    "format_gearbox['GearBox'] = format_gearbox['GearBox'].str.replace('Stronic','')\n",
    "format_gearbox['GearBox'] = format_gearbox['GearBox'].str.replace('GDCT7DualClutchTransmission','')\n",
    "format_gearbox['GearBox'] = format_gearbox['GearBox'].str.replace('GTRONICAutomaticTransmission','')\n",
    "format_gearbox['GearBox'] = format_gearbox['GearBox'].str.replace('GTRONIC','')\n",
    "format_gearbox['GearBox'] = format_gearbox['GearBox'].str.replace('Tronic','')\n",
    "format_gearbox['GearBox'] = format_gearbox['GearBox'].str.replace('7GDCT','')\n",
    "format_gearbox['GearBox'] = format_gearbox['GearBox'].str.replace('Manual','')\n",
    "format_gearbox['GearBox'] = format_gearbox['GearBox'].str.replace('Automatic','')\n",
    "format_gearbox['GearBox'] = format_gearbox['GearBox'].str.replace('automatic','')"
   ]
  },
  {
   "cell_type": "code",
   "execution_count": 224,
   "id": "31423536-136c-4593-a95d-12eb68b042ea",
   "metadata": {},
   "outputs": [],
   "source": [
    "format_gearbox['GearBox'] = format_gearbox['GearBox'].str.replace('withSequentialShift','')\n",
    "format_gearbox['GearBox'] = format_gearbox['GearBox'].str.replace('Sport','')\n",
    "format_gearbox['GearBox'] = format_gearbox['GearBox'].str.replace('Transmission','')\n",
    "format_gearbox['GearBox'] = format_gearbox['GearBox'].str.replace('\\+','',regex=True)\n",
    "format_gearbox['GearBox'] = format_gearbox['GearBox'].str.replace('ATPaddleShifters','',regex=True)"
   ]
  },
  {
   "cell_type": "code",
   "execution_count": 211,
   "id": "f2aa0263-9614-4e17-ab36-adc4409cccfd",
   "metadata": {},
   "outputs": [],
   "source": [
    "format_gearbox.loc[1214, 'GearBox'] = '6'"
   ]
  },
  {
   "cell_type": "code",
   "execution_count": 213,
   "id": "9c8d2f2d-1eb7-49a3-9f07-74eb565a06ab",
   "metadata": {},
   "outputs": [],
   "source": [
    "format_gearbox.loc[[1214, 2694], 'GearBox'] = '6'"
   ]
  },
  {
   "cell_type": "code",
   "execution_count": 217,
   "id": "3861ce07-5484-42b4-b72d-1da53e211b22",
   "metadata": {},
   "outputs": [],
   "source": [
    "format_gearbox.loc[2477, 'GearBox'] = '5'"
   ]
  },
  {
   "cell_type": "code",
   "execution_count": 230,
   "id": "c5610b36-eb6f-4729-9157-2986cc2123a0",
   "metadata": {},
   "outputs": [],
   "source": [
    "format_gearbox['GearBox'] = format_gearbox['GearBox'].astype(np.int64)"
   ]
  },
  {
   "cell_type": "markdown",
   "id": "2db5c518-614b-4d6c-8deb-23ab4aa2a38b",
   "metadata": {
    "jp-MarkdownHeadingCollapsed": true,
    "tags": []
   },
   "source": [
    "### Backup after Formatting GearBox"
   ]
  },
  {
   "cell_type": "code",
   "execution_count": 231,
   "id": "ce65ecd7-1dfa-4775-878f-73e6e30c7cb2",
   "metadata": {},
   "outputs": [],
   "source": [
    "backupaft_gearbox = format_gearbox.copy()"
   ]
  },
  {
   "cell_type": "markdown",
   "id": "f795fdf0-e11c-49da-a9ed-6fbeb964ae7a",
   "metadata": {
    "jp-MarkdownHeadingCollapsed": true,
    "tags": []
   },
   "source": [
    "### Formatting and Transforming Name "
   ]
  },
  {
   "cell_type": "code",
   "execution_count": 232,
   "id": "f88a0f97-8255-4665-8e80-43104f23e635",
   "metadata": {},
   "outputs": [],
   "source": [
    "format_name = backupaft_gearbox.copy()"
   ]
  },
  {
   "cell_type": "code",
   "execution_count": null,
   "id": "dd81dd39-8222-41b6-bb7f-09ce75bf196f",
   "metadata": {},
   "outputs": [],
   "source": [
    "namegroup = format_name.groupby('Name')\n",
    "for name,group in namegroup:\n",
    "    print(name)"
   ]
  },
  {
   "cell_type": "code",
   "execution_count": 242,
   "id": "cdd721e5-e766-4ad0-ae49-c51c2b9383ee",
   "metadata": {},
   "outputs": [],
   "source": [
    "format_name.loc[format_name['Name'].str.split(' ').str.get(0).str.isnumeric(), 'Name'] = format_name.loc[format_name['Name'].str.split(' ').str.get(0).str.isnumeric(), 'Name'].str.split(' ').str[1:].str.join(\" \")"
   ]
  },
  {
   "cell_type": "code",
   "execution_count": 245,
   "id": "3f02d6b5-d8b2-4aad-9dd2-0f59b69e5272",
   "metadata": {},
   "outputs": [],
   "source": [
    "format_name['Name'] = format_name['Name'].str.split(' ').str[:3].str.join(' ')"
   ]
  },
  {
   "cell_type": "code",
   "execution_count": null,
   "id": "1a75adb1-3f4e-41fc-9de0-df3e333bfde7",
   "metadata": {},
   "outputs": [],
   "source": [
    "name_grouped = format_name.groupby(format_name['Name'].str.split(' ').str[0])\n",
    "for name,group in name_grouped:\n",
    "    print(name)"
   ]
  },
  {
   "cell_type": "code",
   "execution_count": 249,
   "id": "fff77942-a8a1-41a6-b40b-28524c24eeb5",
   "metadata": {},
   "outputs": [],
   "source": [
    "format_name['Name'] = format_name['Name'].str.replace('Bmw','BMW')\n",
    "format_name['Name'] = format_name['Name'].str.replace('Mercedes-benz','Mercedes-Benz')"
   ]
  },
  {
   "cell_type": "code",
   "execution_count": 252,
   "id": "ee76fb1b-f029-4187-b99b-21bd4b96ebf8",
   "metadata": {},
   "outputs": [],
   "source": [
    "format_name['Company'] = format_name['Name'].str.split(' ').str[0]"
   ]
  },
  {
   "cell_type": "markdown",
   "id": "22115475-516d-493d-9097-b1829b43bbb2",
   "metadata": {
    "jp-MarkdownHeadingCollapsed": true,
    "tags": []
   },
   "source": [
    "### Backup after Formatting Name"
   ]
  },
  {
   "cell_type": "code",
   "execution_count": 254,
   "id": "26704581-5aa5-45a6-81c8-46376a6253b5",
   "metadata": {},
   "outputs": [],
   "source": [
    "backupaft_name = format_name.copy()"
   ]
  },
  {
   "cell_type": "markdown",
   "id": "b1fe0a84-f936-43e1-bbe3-b586b4a9142c",
   "metadata": {
    "jp-MarkdownHeadingCollapsed": true,
    "tags": []
   },
   "source": [
    "### Working with Cleaned Data"
   ]
  },
  {
   "cell_type": "code",
   "execution_count": 255,
   "id": "a1bcad29-7817-4a86-8ec7-92164e770c3e",
   "metadata": {},
   "outputs": [],
   "source": [
    "cleaned_df = backupaft_name.copy()"
   ]
  },
  {
   "cell_type": "code",
   "execution_count": 256,
   "id": "b73edc87-6558-4a75-be75-31132d8b9f17",
   "metadata": {},
   "outputs": [
    {
     "data": {
      "text/html": [
       "<div>\n",
       "<style scoped>\n",
       "    .dataframe tbody tr th:only-of-type {\n",
       "        vertical-align: middle;\n",
       "    }\n",
       "\n",
       "    .dataframe tbody tr th {\n",
       "        vertical-align: top;\n",
       "    }\n",
       "\n",
       "    .dataframe thead th {\n",
       "        text-align: right;\n",
       "    }\n",
       "</style>\n",
       "<table border=\"1\" class=\"dataframe\">\n",
       "  <thead>\n",
       "    <tr style=\"text-align: right;\">\n",
       "      <th></th>\n",
       "      <th>Name</th>\n",
       "      <th>Year</th>\n",
       "      <th>Fuel</th>\n",
       "      <th>KMS</th>\n",
       "      <th>Engine</th>\n",
       "      <th>Owners</th>\n",
       "      <th>Transmission</th>\n",
       "      <th>Mileage</th>\n",
       "      <th>Seats</th>\n",
       "      <th>GearBox</th>\n",
       "      <th>Price</th>\n",
       "      <th>Company</th>\n",
       "    </tr>\n",
       "  </thead>\n",
       "  <tbody>\n",
       "    <tr>\n",
       "      <th>0</th>\n",
       "      <td>Maruti XL6</td>\n",
       "      <td>2020</td>\n",
       "      <td>1</td>\n",
       "      <td>22683</td>\n",
       "      <td>1462</td>\n",
       "      <td>1</td>\n",
       "      <td>2</td>\n",
       "      <td>17.99</td>\n",
       "      <td>6</td>\n",
       "      <td>4</td>\n",
       "      <td>1018000</td>\n",
       "      <td>Maruti</td>\n",
       "    </tr>\n",
       "    <tr>\n",
       "      <th>1</th>\n",
       "      <td>Maruti Alto K10</td>\n",
       "      <td>2015</td>\n",
       "      <td>1</td>\n",
       "      <td>70620</td>\n",
       "      <td>998</td>\n",
       "      <td>1</td>\n",
       "      <td>1</td>\n",
       "      <td>23.95</td>\n",
       "      <td>5</td>\n",
       "      <td>5</td>\n",
       "      <td>265000</td>\n",
       "      <td>Maruti</td>\n",
       "    </tr>\n",
       "    <tr>\n",
       "      <th>2</th>\n",
       "      <td>Maruti Swift</td>\n",
       "      <td>2017</td>\n",
       "      <td>1</td>\n",
       "      <td>30637</td>\n",
       "      <td>1197</td>\n",
       "      <td>1</td>\n",
       "      <td>1</td>\n",
       "      <td>20.40</td>\n",
       "      <td>5</td>\n",
       "      <td>5</td>\n",
       "      <td>466000</td>\n",
       "      <td>Maruti</td>\n",
       "    </tr>\n",
       "    <tr>\n",
       "      <th>3</th>\n",
       "      <td>Maruti Ciaz</td>\n",
       "      <td>2018</td>\n",
       "      <td>1</td>\n",
       "      <td>32066</td>\n",
       "      <td>1462</td>\n",
       "      <td>1</td>\n",
       "      <td>1</td>\n",
       "      <td>20.65</td>\n",
       "      <td>5</td>\n",
       "      <td>5</td>\n",
       "      <td>879000</td>\n",
       "      <td>Maruti</td>\n",
       "    </tr>\n",
       "    <tr>\n",
       "      <th>4</th>\n",
       "      <td>Honda Brio</td>\n",
       "      <td>2014</td>\n",
       "      <td>1</td>\n",
       "      <td>19311</td>\n",
       "      <td>1198</td>\n",
       "      <td>1</td>\n",
       "      <td>1</td>\n",
       "      <td>19.40</td>\n",
       "      <td>5</td>\n",
       "      <td>5</td>\n",
       "      <td>345000</td>\n",
       "      <td>Honda</td>\n",
       "    </tr>\n",
       "    <tr>\n",
       "      <th>...</th>\n",
       "      <td>...</td>\n",
       "      <td>...</td>\n",
       "      <td>...</td>\n",
       "      <td>...</td>\n",
       "      <td>...</td>\n",
       "      <td>...</td>\n",
       "      <td>...</td>\n",
       "      <td>...</td>\n",
       "      <td>...</td>\n",
       "      <td>...</td>\n",
       "      <td>...</td>\n",
       "      <td>...</td>\n",
       "    </tr>\n",
       "    <tr>\n",
       "      <th>2709</th>\n",
       "      <td>Maruti Swift Dzire</td>\n",
       "      <td>2019</td>\n",
       "      <td>3</td>\n",
       "      <td>50000</td>\n",
       "      <td>1197</td>\n",
       "      <td>1</td>\n",
       "      <td>1</td>\n",
       "      <td>26.55</td>\n",
       "      <td>5</td>\n",
       "      <td>5</td>\n",
       "      <td>4500000</td>\n",
       "      <td>Maruti</td>\n",
       "    </tr>\n",
       "    <tr>\n",
       "      <th>2710</th>\n",
       "      <td>Honda City 1.5</td>\n",
       "      <td>2011</td>\n",
       "      <td>1</td>\n",
       "      <td>110000</td>\n",
       "      <td>1497</td>\n",
       "      <td>2</td>\n",
       "      <td>1</td>\n",
       "      <td>17.00</td>\n",
       "      <td>5</td>\n",
       "      <td>5</td>\n",
       "      <td>284000</td>\n",
       "      <td>Honda</td>\n",
       "    </tr>\n",
       "    <tr>\n",
       "      <th>2711</th>\n",
       "      <td>Maruti Swift Dzire</td>\n",
       "      <td>2015</td>\n",
       "      <td>2</td>\n",
       "      <td>60000</td>\n",
       "      <td>1248</td>\n",
       "      <td>1</td>\n",
       "      <td>1</td>\n",
       "      <td>26.59</td>\n",
       "      <td>5</td>\n",
       "      <td>5</td>\n",
       "      <td>400000</td>\n",
       "      <td>Maruti</td>\n",
       "    </tr>\n",
       "    <tr>\n",
       "      <th>2712</th>\n",
       "      <td>Mercedes-Benz C-Class C</td>\n",
       "      <td>2012</td>\n",
       "      <td>1</td>\n",
       "      <td>50000</td>\n",
       "      <td>1796</td>\n",
       "      <td>2</td>\n",
       "      <td>2</td>\n",
       "      <td>11.74</td>\n",
       "      <td>5</td>\n",
       "      <td>7</td>\n",
       "      <td>1300000</td>\n",
       "      <td>Mercedes-Benz</td>\n",
       "    </tr>\n",
       "    <tr>\n",
       "      <th>2713</th>\n",
       "      <td>Mahindra Scorpio VLX</td>\n",
       "      <td>2014</td>\n",
       "      <td>2</td>\n",
       "      <td>83400</td>\n",
       "      <td>2179</td>\n",
       "      <td>3</td>\n",
       "      <td>2</td>\n",
       "      <td>11.79</td>\n",
       "      <td>8</td>\n",
       "      <td>6</td>\n",
       "      <td>3800000</td>\n",
       "      <td>Mahindra</td>\n",
       "    </tr>\n",
       "  </tbody>\n",
       "</table>\n",
       "<p>2625 rows × 12 columns</p>\n",
       "</div>"
      ],
      "text/plain": [
       "                         Name  Year  Fuel     KMS  Engine  Owners  \\\n",
       "0                  Maruti XL6  2020     1   22683    1462       1   \n",
       "1             Maruti Alto K10  2015     1   70620     998       1   \n",
       "2                Maruti Swift  2017     1   30637    1197       1   \n",
       "3                 Maruti Ciaz  2018     1   32066    1462       1   \n",
       "4                  Honda Brio  2014     1   19311    1198       1   \n",
       "...                       ...   ...   ...     ...     ...     ...   \n",
       "2709       Maruti Swift Dzire  2019     3   50000    1197       1   \n",
       "2710           Honda City 1.5  2011     1  110000    1497       2   \n",
       "2711       Maruti Swift Dzire  2015     2   60000    1248       1   \n",
       "2712  Mercedes-Benz C-Class C  2012     1   50000    1796       2   \n",
       "2713     Mahindra Scorpio VLX  2014     2   83400    2179       3   \n",
       "\n",
       "      Transmission  Mileage  Seats  GearBox    Price        Company  \n",
       "0                2    17.99      6        4  1018000         Maruti  \n",
       "1                1    23.95      5        5   265000         Maruti  \n",
       "2                1    20.40      5        5   466000         Maruti  \n",
       "3                1    20.65      5        5   879000         Maruti  \n",
       "4                1    19.40      5        5   345000          Honda  \n",
       "...            ...      ...    ...      ...      ...            ...  \n",
       "2709             1    26.55      5        5  4500000         Maruti  \n",
       "2710             1    17.00      5        5   284000          Honda  \n",
       "2711             1    26.59      5        5   400000         Maruti  \n",
       "2712             2    11.74      5        7  1300000  Mercedes-Benz  \n",
       "2713             2    11.79      8        6  3800000       Mahindra  \n",
       "\n",
       "[2625 rows x 12 columns]"
      ]
     },
     "execution_count": 256,
     "metadata": {},
     "output_type": "execute_result"
    }
   ],
   "source": [
    "cleaned_df"
   ]
  },
  {
   "cell_type": "code",
   "execution_count": 257,
   "id": "0bd46d30-dcdd-46ea-934d-2ac568447dc1",
   "metadata": {},
   "outputs": [],
   "source": [
    "cleaned_df.to_csv('./Final/finalsettwo.csv')"
   ]
  },
  {
   "cell_type": "code",
   "execution_count": 2,
   "id": "4e5be972-744c-42ae-a201-a91652f2a1ff",
   "metadata": {},
   "outputs": [],
   "source": [
    "finalsettwo = pd.read_csv('./Final/finalsettwo.csv')"
   ]
  },
  {
   "cell_type": "code",
   "execution_count": 5,
   "id": "40e010a0-4c21-4f58-9d73-31381c4535a1",
   "metadata": {},
   "outputs": [
    {
     "name": "stdout",
     "output_type": "stream",
     "text": [
      "1\n",
      "2\n",
      "3\n",
      "4\n",
      "5\n"
     ]
    }
   ],
   "source": [
    "for name,group in finalsettwo.groupby('Fuel'):\n",
    "    print(name)"
   ]
  },
  {
   "cell_type": "code",
   "execution_count": 4,
   "id": "17310873-d7fb-431c-9a8f-effa08a1c1b8",
   "metadata": {},
   "outputs": [],
   "source": [
    "finalsettwo['fuel'] = finalsettwo['Fuel'].replace({\n",
    "    4:5,\n",
    "    5:4\n",
    "})"
   ]
  },
  {
   "cell_type": "code",
   "execution_count": 10,
   "id": "611bad54-8207-4111-97cf-61b00e8ac834",
   "metadata": {},
   "outputs": [],
   "source": [
    "finalsettwo.to_csv('./Final/correctsettwo.csv')"
   ]
  },
  {
   "cell_type": "code",
   "execution_count": 12,
   "id": "b9b23ecf-73ae-45d5-a039-07a38d4b0b06",
   "metadata": {},
   "outputs": [
    {
     "data": {
      "text/html": [
       "<div>\n",
       "<style scoped>\n",
       "    .dataframe tbody tr th:only-of-type {\n",
       "        vertical-align: middle;\n",
       "    }\n",
       "\n",
       "    .dataframe tbody tr th {\n",
       "        vertical-align: top;\n",
       "    }\n",
       "\n",
       "    .dataframe thead th {\n",
       "        text-align: right;\n",
       "    }\n",
       "</style>\n",
       "<table border=\"1\" class=\"dataframe\">\n",
       "  <thead>\n",
       "    <tr style=\"text-align: right;\">\n",
       "      <th></th>\n",
       "      <th>Name</th>\n",
       "      <th>Year</th>\n",
       "      <th>Fuel</th>\n",
       "      <th>KMS</th>\n",
       "      <th>Engine</th>\n",
       "      <th>Owners</th>\n",
       "      <th>Transmission</th>\n",
       "      <th>Mileage</th>\n",
       "      <th>Seats</th>\n",
       "      <th>GearBox</th>\n",
       "      <th>Price</th>\n",
       "      <th>Company</th>\n",
       "      <th>fuel</th>\n",
       "    </tr>\n",
       "  </thead>\n",
       "  <tbody>\n",
       "    <tr>\n",
       "      <th>0</th>\n",
       "      <td>Maruti XL6</td>\n",
       "      <td>2020</td>\n",
       "      <td>1</td>\n",
       "      <td>22683</td>\n",
       "      <td>1462</td>\n",
       "      <td>1</td>\n",
       "      <td>2</td>\n",
       "      <td>17.99</td>\n",
       "      <td>6</td>\n",
       "      <td>4</td>\n",
       "      <td>1018000</td>\n",
       "      <td>Maruti</td>\n",
       "      <td>1</td>\n",
       "    </tr>\n",
       "    <tr>\n",
       "      <th>1</th>\n",
       "      <td>Maruti Alto K10</td>\n",
       "      <td>2015</td>\n",
       "      <td>1</td>\n",
       "      <td>70620</td>\n",
       "      <td>998</td>\n",
       "      <td>1</td>\n",
       "      <td>1</td>\n",
       "      <td>23.95</td>\n",
       "      <td>5</td>\n",
       "      <td>5</td>\n",
       "      <td>265000</td>\n",
       "      <td>Maruti</td>\n",
       "      <td>1</td>\n",
       "    </tr>\n",
       "    <tr>\n",
       "      <th>2</th>\n",
       "      <td>Maruti Swift</td>\n",
       "      <td>2017</td>\n",
       "      <td>1</td>\n",
       "      <td>30637</td>\n",
       "      <td>1197</td>\n",
       "      <td>1</td>\n",
       "      <td>1</td>\n",
       "      <td>20.40</td>\n",
       "      <td>5</td>\n",
       "      <td>5</td>\n",
       "      <td>466000</td>\n",
       "      <td>Maruti</td>\n",
       "      <td>1</td>\n",
       "    </tr>\n",
       "    <tr>\n",
       "      <th>3</th>\n",
       "      <td>Maruti Ciaz</td>\n",
       "      <td>2018</td>\n",
       "      <td>1</td>\n",
       "      <td>32066</td>\n",
       "      <td>1462</td>\n",
       "      <td>1</td>\n",
       "      <td>1</td>\n",
       "      <td>20.65</td>\n",
       "      <td>5</td>\n",
       "      <td>5</td>\n",
       "      <td>879000</td>\n",
       "      <td>Maruti</td>\n",
       "      <td>1</td>\n",
       "    </tr>\n",
       "    <tr>\n",
       "      <th>4</th>\n",
       "      <td>Honda Brio</td>\n",
       "      <td>2014</td>\n",
       "      <td>1</td>\n",
       "      <td>19311</td>\n",
       "      <td>1198</td>\n",
       "      <td>1</td>\n",
       "      <td>1</td>\n",
       "      <td>19.40</td>\n",
       "      <td>5</td>\n",
       "      <td>5</td>\n",
       "      <td>345000</td>\n",
       "      <td>Honda</td>\n",
       "      <td>1</td>\n",
       "    </tr>\n",
       "    <tr>\n",
       "      <th>...</th>\n",
       "      <td>...</td>\n",
       "      <td>...</td>\n",
       "      <td>...</td>\n",
       "      <td>...</td>\n",
       "      <td>...</td>\n",
       "      <td>...</td>\n",
       "      <td>...</td>\n",
       "      <td>...</td>\n",
       "      <td>...</td>\n",
       "      <td>...</td>\n",
       "      <td>...</td>\n",
       "      <td>...</td>\n",
       "      <td>...</td>\n",
       "    </tr>\n",
       "    <tr>\n",
       "      <th>2620</th>\n",
       "      <td>Maruti Swift Dzire</td>\n",
       "      <td>2019</td>\n",
       "      <td>3</td>\n",
       "      <td>50000</td>\n",
       "      <td>1197</td>\n",
       "      <td>1</td>\n",
       "      <td>1</td>\n",
       "      <td>26.55</td>\n",
       "      <td>5</td>\n",
       "      <td>5</td>\n",
       "      <td>4500000</td>\n",
       "      <td>Maruti</td>\n",
       "      <td>3</td>\n",
       "    </tr>\n",
       "    <tr>\n",
       "      <th>2621</th>\n",
       "      <td>Honda City 1.5</td>\n",
       "      <td>2011</td>\n",
       "      <td>1</td>\n",
       "      <td>110000</td>\n",
       "      <td>1497</td>\n",
       "      <td>2</td>\n",
       "      <td>1</td>\n",
       "      <td>17.00</td>\n",
       "      <td>5</td>\n",
       "      <td>5</td>\n",
       "      <td>284000</td>\n",
       "      <td>Honda</td>\n",
       "      <td>1</td>\n",
       "    </tr>\n",
       "    <tr>\n",
       "      <th>2622</th>\n",
       "      <td>Maruti Swift Dzire</td>\n",
       "      <td>2015</td>\n",
       "      <td>2</td>\n",
       "      <td>60000</td>\n",
       "      <td>1248</td>\n",
       "      <td>1</td>\n",
       "      <td>1</td>\n",
       "      <td>26.59</td>\n",
       "      <td>5</td>\n",
       "      <td>5</td>\n",
       "      <td>400000</td>\n",
       "      <td>Maruti</td>\n",
       "      <td>2</td>\n",
       "    </tr>\n",
       "    <tr>\n",
       "      <th>2623</th>\n",
       "      <td>Mercedes-Benz C-Class C</td>\n",
       "      <td>2012</td>\n",
       "      <td>1</td>\n",
       "      <td>50000</td>\n",
       "      <td>1796</td>\n",
       "      <td>2</td>\n",
       "      <td>2</td>\n",
       "      <td>11.74</td>\n",
       "      <td>5</td>\n",
       "      <td>7</td>\n",
       "      <td>1300000</td>\n",
       "      <td>Mercedes-Benz</td>\n",
       "      <td>1</td>\n",
       "    </tr>\n",
       "    <tr>\n",
       "      <th>2624</th>\n",
       "      <td>Mahindra Scorpio VLX</td>\n",
       "      <td>2014</td>\n",
       "      <td>2</td>\n",
       "      <td>83400</td>\n",
       "      <td>2179</td>\n",
       "      <td>3</td>\n",
       "      <td>2</td>\n",
       "      <td>11.79</td>\n",
       "      <td>8</td>\n",
       "      <td>6</td>\n",
       "      <td>3800000</td>\n",
       "      <td>Mahindra</td>\n",
       "      <td>2</td>\n",
       "    </tr>\n",
       "  </tbody>\n",
       "</table>\n",
       "<p>2625 rows × 13 columns</p>\n",
       "</div>"
      ],
      "text/plain": [
       "                         Name  Year  Fuel     KMS  Engine  Owners  \\\n",
       "0                  Maruti XL6  2020     1   22683    1462       1   \n",
       "1             Maruti Alto K10  2015     1   70620     998       1   \n",
       "2                Maruti Swift  2017     1   30637    1197       1   \n",
       "3                 Maruti Ciaz  2018     1   32066    1462       1   \n",
       "4                  Honda Brio  2014     1   19311    1198       1   \n",
       "...                       ...   ...   ...     ...     ...     ...   \n",
       "2620       Maruti Swift Dzire  2019     3   50000    1197       1   \n",
       "2621           Honda City 1.5  2011     1  110000    1497       2   \n",
       "2622       Maruti Swift Dzire  2015     2   60000    1248       1   \n",
       "2623  Mercedes-Benz C-Class C  2012     1   50000    1796       2   \n",
       "2624     Mahindra Scorpio VLX  2014     2   83400    2179       3   \n",
       "\n",
       "      Transmission  Mileage  Seats  GearBox    Price        Company  fuel  \n",
       "0                2    17.99      6        4  1018000         Maruti     1  \n",
       "1                1    23.95      5        5   265000         Maruti     1  \n",
       "2                1    20.40      5        5   466000         Maruti     1  \n",
       "3                1    20.65      5        5   879000         Maruti     1  \n",
       "4                1    19.40      5        5   345000          Honda     1  \n",
       "...            ...      ...    ...      ...      ...            ...   ...  \n",
       "2620             1    26.55      5        5  4500000         Maruti     3  \n",
       "2621             1    17.00      5        5   284000          Honda     1  \n",
       "2622             1    26.59      5        5   400000         Maruti     2  \n",
       "2623             2    11.74      5        7  1300000  Mercedes-Benz     1  \n",
       "2624             2    11.79      8        6  3800000       Mahindra     2  \n",
       "\n",
       "[2625 rows x 13 columns]"
      ]
     },
     "execution_count": 12,
     "metadata": {},
     "output_type": "execute_result"
    }
   ],
   "source": [
    "finalsettwo.drop('Unnamed: 0',axis=1,inplace=True)\n",
    "finalsettwo"
   ]
  },
  {
   "cell_type": "code",
   "execution_count": 15,
   "id": "18af430c-bb90-4c38-81dd-e4efc87ec4bd",
   "metadata": {},
   "outputs": [
    {
     "data": {
      "text/html": [
       "<div>\n",
       "<style scoped>\n",
       "    .dataframe tbody tr th:only-of-type {\n",
       "        vertical-align: middle;\n",
       "    }\n",
       "\n",
       "    .dataframe tbody tr th {\n",
       "        vertical-align: top;\n",
       "    }\n",
       "\n",
       "    .dataframe thead th {\n",
       "        text-align: right;\n",
       "    }\n",
       "</style>\n",
       "<table border=\"1\" class=\"dataframe\">\n",
       "  <thead>\n",
       "    <tr style=\"text-align: right;\">\n",
       "      <th></th>\n",
       "      <th>Name</th>\n",
       "      <th>Year</th>\n",
       "      <th>Fuel</th>\n",
       "      <th>KMS</th>\n",
       "      <th>Engine</th>\n",
       "      <th>Owners</th>\n",
       "      <th>Transmission</th>\n",
       "      <th>Mileage</th>\n",
       "      <th>Seats</th>\n",
       "      <th>GearBox</th>\n",
       "      <th>Price</th>\n",
       "      <th>Company</th>\n",
       "      <th>fuel</th>\n",
       "    </tr>\n",
       "  </thead>\n",
       "  <tbody>\n",
       "    <tr>\n",
       "      <th>0</th>\n",
       "      <td>Maruti XL6</td>\n",
       "      <td>2020</td>\n",
       "      <td>1</td>\n",
       "      <td>22683</td>\n",
       "      <td>1462</td>\n",
       "      <td>1</td>\n",
       "      <td>2</td>\n",
       "      <td>17.99</td>\n",
       "      <td>6</td>\n",
       "      <td>4</td>\n",
       "      <td>1018000</td>\n",
       "      <td>Maruti</td>\n",
       "      <td>1</td>\n",
       "    </tr>\n",
       "    <tr>\n",
       "      <th>1</th>\n",
       "      <td>Maruti Alto</td>\n",
       "      <td>2015</td>\n",
       "      <td>1</td>\n",
       "      <td>70620</td>\n",
       "      <td>998</td>\n",
       "      <td>1</td>\n",
       "      <td>1</td>\n",
       "      <td>23.95</td>\n",
       "      <td>5</td>\n",
       "      <td>5</td>\n",
       "      <td>265000</td>\n",
       "      <td>Maruti</td>\n",
       "      <td>1</td>\n",
       "    </tr>\n",
       "    <tr>\n",
       "      <th>2</th>\n",
       "      <td>Maruti Swift</td>\n",
       "      <td>2017</td>\n",
       "      <td>1</td>\n",
       "      <td>30637</td>\n",
       "      <td>1197</td>\n",
       "      <td>1</td>\n",
       "      <td>1</td>\n",
       "      <td>20.40</td>\n",
       "      <td>5</td>\n",
       "      <td>5</td>\n",
       "      <td>466000</td>\n",
       "      <td>Maruti</td>\n",
       "      <td>1</td>\n",
       "    </tr>\n",
       "    <tr>\n",
       "      <th>3</th>\n",
       "      <td>Maruti Ciaz</td>\n",
       "      <td>2018</td>\n",
       "      <td>1</td>\n",
       "      <td>32066</td>\n",
       "      <td>1462</td>\n",
       "      <td>1</td>\n",
       "      <td>1</td>\n",
       "      <td>20.65</td>\n",
       "      <td>5</td>\n",
       "      <td>5</td>\n",
       "      <td>879000</td>\n",
       "      <td>Maruti</td>\n",
       "      <td>1</td>\n",
       "    </tr>\n",
       "    <tr>\n",
       "      <th>4</th>\n",
       "      <td>Honda Brio</td>\n",
       "      <td>2014</td>\n",
       "      <td>1</td>\n",
       "      <td>19311</td>\n",
       "      <td>1198</td>\n",
       "      <td>1</td>\n",
       "      <td>1</td>\n",
       "      <td>19.40</td>\n",
       "      <td>5</td>\n",
       "      <td>5</td>\n",
       "      <td>345000</td>\n",
       "      <td>Honda</td>\n",
       "      <td>1</td>\n",
       "    </tr>\n",
       "    <tr>\n",
       "      <th>...</th>\n",
       "      <td>...</td>\n",
       "      <td>...</td>\n",
       "      <td>...</td>\n",
       "      <td>...</td>\n",
       "      <td>...</td>\n",
       "      <td>...</td>\n",
       "      <td>...</td>\n",
       "      <td>...</td>\n",
       "      <td>...</td>\n",
       "      <td>...</td>\n",
       "      <td>...</td>\n",
       "      <td>...</td>\n",
       "      <td>...</td>\n",
       "    </tr>\n",
       "    <tr>\n",
       "      <th>2620</th>\n",
       "      <td>Maruti Swift</td>\n",
       "      <td>2019</td>\n",
       "      <td>3</td>\n",
       "      <td>50000</td>\n",
       "      <td>1197</td>\n",
       "      <td>1</td>\n",
       "      <td>1</td>\n",
       "      <td>26.55</td>\n",
       "      <td>5</td>\n",
       "      <td>5</td>\n",
       "      <td>4500000</td>\n",
       "      <td>Maruti</td>\n",
       "      <td>3</td>\n",
       "    </tr>\n",
       "    <tr>\n",
       "      <th>2621</th>\n",
       "      <td>Honda City</td>\n",
       "      <td>2011</td>\n",
       "      <td>1</td>\n",
       "      <td>110000</td>\n",
       "      <td>1497</td>\n",
       "      <td>2</td>\n",
       "      <td>1</td>\n",
       "      <td>17.00</td>\n",
       "      <td>5</td>\n",
       "      <td>5</td>\n",
       "      <td>284000</td>\n",
       "      <td>Honda</td>\n",
       "      <td>1</td>\n",
       "    </tr>\n",
       "    <tr>\n",
       "      <th>2622</th>\n",
       "      <td>Maruti Swift</td>\n",
       "      <td>2015</td>\n",
       "      <td>2</td>\n",
       "      <td>60000</td>\n",
       "      <td>1248</td>\n",
       "      <td>1</td>\n",
       "      <td>1</td>\n",
       "      <td>26.59</td>\n",
       "      <td>5</td>\n",
       "      <td>5</td>\n",
       "      <td>400000</td>\n",
       "      <td>Maruti</td>\n",
       "      <td>2</td>\n",
       "    </tr>\n",
       "    <tr>\n",
       "      <th>2623</th>\n",
       "      <td>Mercedes-Benz C-Class</td>\n",
       "      <td>2012</td>\n",
       "      <td>1</td>\n",
       "      <td>50000</td>\n",
       "      <td>1796</td>\n",
       "      <td>2</td>\n",
       "      <td>2</td>\n",
       "      <td>11.74</td>\n",
       "      <td>5</td>\n",
       "      <td>7</td>\n",
       "      <td>1300000</td>\n",
       "      <td>Mercedes-Benz</td>\n",
       "      <td>1</td>\n",
       "    </tr>\n",
       "    <tr>\n",
       "      <th>2624</th>\n",
       "      <td>Mahindra Scorpio</td>\n",
       "      <td>2014</td>\n",
       "      <td>2</td>\n",
       "      <td>83400</td>\n",
       "      <td>2179</td>\n",
       "      <td>3</td>\n",
       "      <td>2</td>\n",
       "      <td>11.79</td>\n",
       "      <td>8</td>\n",
       "      <td>6</td>\n",
       "      <td>3800000</td>\n",
       "      <td>Mahindra</td>\n",
       "      <td>2</td>\n",
       "    </tr>\n",
       "  </tbody>\n",
       "</table>\n",
       "<p>2625 rows × 13 columns</p>\n",
       "</div>"
      ],
      "text/plain": [
       "                       Name  Year  Fuel     KMS  Engine  Owners  Transmission  \\\n",
       "0                Maruti XL6  2020     1   22683    1462       1             2   \n",
       "1               Maruti Alto  2015     1   70620     998       1             1   \n",
       "2              Maruti Swift  2017     1   30637    1197       1             1   \n",
       "3               Maruti Ciaz  2018     1   32066    1462       1             1   \n",
       "4                Honda Brio  2014     1   19311    1198       1             1   \n",
       "...                     ...   ...   ...     ...     ...     ...           ...   \n",
       "2620           Maruti Swift  2019     3   50000    1197       1             1   \n",
       "2621             Honda City  2011     1  110000    1497       2             1   \n",
       "2622           Maruti Swift  2015     2   60000    1248       1             1   \n",
       "2623  Mercedes-Benz C-Class  2012     1   50000    1796       2             2   \n",
       "2624       Mahindra Scorpio  2014     2   83400    2179       3             2   \n",
       "\n",
       "      Mileage  Seats  GearBox    Price        Company  fuel  \n",
       "0       17.99      6        4  1018000         Maruti     1  \n",
       "1       23.95      5        5   265000         Maruti     1  \n",
       "2       20.40      5        5   466000         Maruti     1  \n",
       "3       20.65      5        5   879000         Maruti     1  \n",
       "4       19.40      5        5   345000          Honda     1  \n",
       "...       ...    ...      ...      ...            ...   ...  \n",
       "2620    26.55      5        5  4500000         Maruti     3  \n",
       "2621    17.00      5        5   284000          Honda     1  \n",
       "2622    26.59      5        5   400000         Maruti     2  \n",
       "2623    11.74      5        7  1300000  Mercedes-Benz     1  \n",
       "2624    11.79      8        6  3800000       Mahindra     2  \n",
       "\n",
       "[2625 rows x 13 columns]"
      ]
     },
     "execution_count": 15,
     "metadata": {},
     "output_type": "execute_result"
    }
   ],
   "source": [
    "finalsettwo['Name'] = finalsettwo['Name'].str.split(' ').str[:2].str.join(' ')\n",
    "finalsettwo"
   ]
  },
  {
   "cell_type": "code",
   "execution_count": 17,
   "id": "721cfcb5-9e7b-4511-a834-42d62b611526",
   "metadata": {},
   "outputs": [
    {
     "data": {
      "text/html": [
       "<div>\n",
       "<style scoped>\n",
       "    .dataframe tbody tr th:only-of-type {\n",
       "        vertical-align: middle;\n",
       "    }\n",
       "\n",
       "    .dataframe tbody tr th {\n",
       "        vertical-align: top;\n",
       "    }\n",
       "\n",
       "    .dataframe thead th {\n",
       "        text-align: right;\n",
       "    }\n",
       "</style>\n",
       "<table border=\"1\" class=\"dataframe\">\n",
       "  <thead>\n",
       "    <tr style=\"text-align: right;\">\n",
       "      <th></th>\n",
       "      <th>Name</th>\n",
       "      <th>Year</th>\n",
       "      <th>Fuel</th>\n",
       "      <th>KMS</th>\n",
       "      <th>Engine</th>\n",
       "      <th>Owners</th>\n",
       "      <th>Transmission</th>\n",
       "      <th>Mileage</th>\n",
       "      <th>Seats</th>\n",
       "      <th>GearBox</th>\n",
       "      <th>Price</th>\n",
       "      <th>Company</th>\n",
       "    </tr>\n",
       "  </thead>\n",
       "  <tbody>\n",
       "    <tr>\n",
       "      <th>0</th>\n",
       "      <td>Maruti XL6</td>\n",
       "      <td>2020</td>\n",
       "      <td>1</td>\n",
       "      <td>22683</td>\n",
       "      <td>1462</td>\n",
       "      <td>1</td>\n",
       "      <td>2</td>\n",
       "      <td>17.99</td>\n",
       "      <td>6</td>\n",
       "      <td>4</td>\n",
       "      <td>1018000</td>\n",
       "      <td>Maruti</td>\n",
       "    </tr>\n",
       "    <tr>\n",
       "      <th>1</th>\n",
       "      <td>Maruti Alto</td>\n",
       "      <td>2015</td>\n",
       "      <td>1</td>\n",
       "      <td>70620</td>\n",
       "      <td>998</td>\n",
       "      <td>1</td>\n",
       "      <td>1</td>\n",
       "      <td>23.95</td>\n",
       "      <td>5</td>\n",
       "      <td>5</td>\n",
       "      <td>265000</td>\n",
       "      <td>Maruti</td>\n",
       "    </tr>\n",
       "    <tr>\n",
       "      <th>2</th>\n",
       "      <td>Maruti Swift</td>\n",
       "      <td>2017</td>\n",
       "      <td>1</td>\n",
       "      <td>30637</td>\n",
       "      <td>1197</td>\n",
       "      <td>1</td>\n",
       "      <td>1</td>\n",
       "      <td>20.40</td>\n",
       "      <td>5</td>\n",
       "      <td>5</td>\n",
       "      <td>466000</td>\n",
       "      <td>Maruti</td>\n",
       "    </tr>\n",
       "    <tr>\n",
       "      <th>3</th>\n",
       "      <td>Maruti Ciaz</td>\n",
       "      <td>2018</td>\n",
       "      <td>1</td>\n",
       "      <td>32066</td>\n",
       "      <td>1462</td>\n",
       "      <td>1</td>\n",
       "      <td>1</td>\n",
       "      <td>20.65</td>\n",
       "      <td>5</td>\n",
       "      <td>5</td>\n",
       "      <td>879000</td>\n",
       "      <td>Maruti</td>\n",
       "    </tr>\n",
       "    <tr>\n",
       "      <th>4</th>\n",
       "      <td>Honda Brio</td>\n",
       "      <td>2014</td>\n",
       "      <td>1</td>\n",
       "      <td>19311</td>\n",
       "      <td>1198</td>\n",
       "      <td>1</td>\n",
       "      <td>1</td>\n",
       "      <td>19.40</td>\n",
       "      <td>5</td>\n",
       "      <td>5</td>\n",
       "      <td>345000</td>\n",
       "      <td>Honda</td>\n",
       "    </tr>\n",
       "    <tr>\n",
       "      <th>...</th>\n",
       "      <td>...</td>\n",
       "      <td>...</td>\n",
       "      <td>...</td>\n",
       "      <td>...</td>\n",
       "      <td>...</td>\n",
       "      <td>...</td>\n",
       "      <td>...</td>\n",
       "      <td>...</td>\n",
       "      <td>...</td>\n",
       "      <td>...</td>\n",
       "      <td>...</td>\n",
       "      <td>...</td>\n",
       "    </tr>\n",
       "    <tr>\n",
       "      <th>2620</th>\n",
       "      <td>Maruti Swift</td>\n",
       "      <td>2019</td>\n",
       "      <td>3</td>\n",
       "      <td>50000</td>\n",
       "      <td>1197</td>\n",
       "      <td>1</td>\n",
       "      <td>1</td>\n",
       "      <td>26.55</td>\n",
       "      <td>5</td>\n",
       "      <td>5</td>\n",
       "      <td>4500000</td>\n",
       "      <td>Maruti</td>\n",
       "    </tr>\n",
       "    <tr>\n",
       "      <th>2621</th>\n",
       "      <td>Honda City</td>\n",
       "      <td>2011</td>\n",
       "      <td>1</td>\n",
       "      <td>110000</td>\n",
       "      <td>1497</td>\n",
       "      <td>2</td>\n",
       "      <td>1</td>\n",
       "      <td>17.00</td>\n",
       "      <td>5</td>\n",
       "      <td>5</td>\n",
       "      <td>284000</td>\n",
       "      <td>Honda</td>\n",
       "    </tr>\n",
       "    <tr>\n",
       "      <th>2622</th>\n",
       "      <td>Maruti Swift</td>\n",
       "      <td>2015</td>\n",
       "      <td>2</td>\n",
       "      <td>60000</td>\n",
       "      <td>1248</td>\n",
       "      <td>1</td>\n",
       "      <td>1</td>\n",
       "      <td>26.59</td>\n",
       "      <td>5</td>\n",
       "      <td>5</td>\n",
       "      <td>400000</td>\n",
       "      <td>Maruti</td>\n",
       "    </tr>\n",
       "    <tr>\n",
       "      <th>2623</th>\n",
       "      <td>Mercedes-Benz C-Class</td>\n",
       "      <td>2012</td>\n",
       "      <td>1</td>\n",
       "      <td>50000</td>\n",
       "      <td>1796</td>\n",
       "      <td>2</td>\n",
       "      <td>2</td>\n",
       "      <td>11.74</td>\n",
       "      <td>5</td>\n",
       "      <td>7</td>\n",
       "      <td>1300000</td>\n",
       "      <td>Mercedes-Benz</td>\n",
       "    </tr>\n",
       "    <tr>\n",
       "      <th>2624</th>\n",
       "      <td>Mahindra Scorpio</td>\n",
       "      <td>2014</td>\n",
       "      <td>2</td>\n",
       "      <td>83400</td>\n",
       "      <td>2179</td>\n",
       "      <td>3</td>\n",
       "      <td>2</td>\n",
       "      <td>11.79</td>\n",
       "      <td>8</td>\n",
       "      <td>6</td>\n",
       "      <td>3800000</td>\n",
       "      <td>Mahindra</td>\n",
       "    </tr>\n",
       "  </tbody>\n",
       "</table>\n",
       "<p>2625 rows × 12 columns</p>\n",
       "</div>"
      ],
      "text/plain": [
       "                       Name  Year  Fuel     KMS  Engine  Owners  Transmission  \\\n",
       "0                Maruti XL6  2020     1   22683    1462       1             2   \n",
       "1               Maruti Alto  2015     1   70620     998       1             1   \n",
       "2              Maruti Swift  2017     1   30637    1197       1             1   \n",
       "3               Maruti Ciaz  2018     1   32066    1462       1             1   \n",
       "4                Honda Brio  2014     1   19311    1198       1             1   \n",
       "...                     ...   ...   ...     ...     ...     ...           ...   \n",
       "2620           Maruti Swift  2019     3   50000    1197       1             1   \n",
       "2621             Honda City  2011     1  110000    1497       2             1   \n",
       "2622           Maruti Swift  2015     2   60000    1248       1             1   \n",
       "2623  Mercedes-Benz C-Class  2012     1   50000    1796       2             2   \n",
       "2624       Mahindra Scorpio  2014     2   83400    2179       3             2   \n",
       "\n",
       "      Mileage  Seats  GearBox    Price        Company  \n",
       "0       17.99      6        4  1018000         Maruti  \n",
       "1       23.95      5        5   265000         Maruti  \n",
       "2       20.40      5        5   466000         Maruti  \n",
       "3       20.65      5        5   879000         Maruti  \n",
       "4       19.40      5        5   345000          Honda  \n",
       "...       ...    ...      ...      ...            ...  \n",
       "2620    26.55      5        5  4500000         Maruti  \n",
       "2621    17.00      5        5   284000          Honda  \n",
       "2622    26.59      5        5   400000         Maruti  \n",
       "2623    11.74      5        7  1300000  Mercedes-Benz  \n",
       "2624    11.79      8        6  3800000       Mahindra  \n",
       "\n",
       "[2625 rows x 12 columns]"
      ]
     },
     "execution_count": 17,
     "metadata": {},
     "output_type": "execute_result"
    }
   ],
   "source": [
    "finalsettwo.drop('fuel',axis=1,inplace=True)\n",
    "finalsettwo"
   ]
  },
  {
   "cell_type": "code",
   "execution_count": 19,
   "id": "fcbe7115-9abc-4ec1-a316-9acfed310a78",
   "metadata": {},
   "outputs": [],
   "source": [
    "finalsettwo.to_csv('./Final/CorrectedData/correctsettwo.csv')"
   ]
  },
  {
   "cell_type": "code",
   "execution_count": null,
   "id": "d8d99f88-acf9-48b6-aa91-8e4f32db8dbd",
   "metadata": {},
   "outputs": [],
   "source": []
  },
  {
   "cell_type": "code",
   "execution_count": null,
   "id": "58317a34-0847-48a0-a211-6e9f3bcb3cd2",
   "metadata": {},
   "outputs": [],
   "source": []
  }
 ],
 "metadata": {
  "kernelspec": {
   "display_name": "Python 3 (ipykernel)",
   "language": "python",
   "name": "python3"
  },
  "language_info": {
   "codemirror_mode": {
    "name": "ipython",
    "version": 3
   },
   "file_extension": ".py",
   "mimetype": "text/x-python",
   "name": "python",
   "nbconvert_exporter": "python",
   "pygments_lexer": "ipython3",
   "version": "3.10.4"
  }
 },
 "nbformat": 4,
 "nbformat_minor": 5
}
