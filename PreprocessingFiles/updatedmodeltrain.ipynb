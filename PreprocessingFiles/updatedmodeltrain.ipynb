{
 "cells": [
  {
   "cell_type": "code",
   "execution_count": 1,
   "id": "c948e983-2939-4a47-bd1f-23178e428d20",
   "metadata": {},
   "outputs": [],
   "source": [
    "import pandas as pd\n",
    "import numpy as np"
   ]
  },
  {
   "cell_type": "code",
   "execution_count": 2,
   "id": "f5917432-9e5f-420d-8cd7-b757665ea2ab",
   "metadata": {},
   "outputs": [],
   "source": [
    "total_df = pd.read_csv('./updated_polished.csv')"
   ]
  },
  {
   "cell_type": "code",
   "execution_count": 3,
   "id": "d760a73d-a28b-4c62-b57b-84a66efc6f36",
   "metadata": {},
   "outputs": [
    {
     "data": {
      "text/plain": [
       "(23537, 12)"
      ]
     },
     "execution_count": 3,
     "metadata": {},
     "output_type": "execute_result"
    }
   ],
   "source": [
    "total_df.shape"
   ]
  },
  {
   "cell_type": "code",
   "execution_count": 4,
   "id": "a6feff39-b954-4512-9779-63e8624d2bf8",
   "metadata": {},
   "outputs": [
    {
     "data": {
      "text/html": [
       "<div>\n",
       "<style scoped>\n",
       "    .dataframe tbody tr th:only-of-type {\n",
       "        vertical-align: middle;\n",
       "    }\n",
       "\n",
       "    .dataframe tbody tr th {\n",
       "        vertical-align: top;\n",
       "    }\n",
       "\n",
       "    .dataframe thead th {\n",
       "        text-align: right;\n",
       "    }\n",
       "</style>\n",
       "<table border=\"1\" class=\"dataframe\">\n",
       "  <thead>\n",
       "    <tr style=\"text-align: right;\">\n",
       "      <th></th>\n",
       "      <th>Unnamed: 0</th>\n",
       "      <th>Name</th>\n",
       "      <th>Year</th>\n",
       "      <th>Fuel</th>\n",
       "      <th>KMS</th>\n",
       "      <th>Engine</th>\n",
       "      <th>Owners</th>\n",
       "      <th>Transmission</th>\n",
       "      <th>Mileage</th>\n",
       "      <th>Seats</th>\n",
       "      <th>Price</th>\n",
       "      <th>Company</th>\n",
       "    </tr>\n",
       "  </thead>\n",
       "  <tbody>\n",
       "    <tr>\n",
       "      <th>0</th>\n",
       "      <td>0</td>\n",
       "      <td>Jeep Compass</td>\n",
       "      <td>2019</td>\n",
       "      <td>2</td>\n",
       "      <td>70007</td>\n",
       "      <td>1956</td>\n",
       "      <td>1</td>\n",
       "      <td>2</td>\n",
       "      <td>16.30</td>\n",
       "      <td>5</td>\n",
       "      <td>2405000</td>\n",
       "      <td>Jeep</td>\n",
       "    </tr>\n",
       "    <tr>\n",
       "      <th>1</th>\n",
       "      <td>1</td>\n",
       "      <td>Hyundai i20</td>\n",
       "      <td>2021</td>\n",
       "      <td>1</td>\n",
       "      <td>16670</td>\n",
       "      <td>1197</td>\n",
       "      <td>1</td>\n",
       "      <td>1</td>\n",
       "      <td>21.00</td>\n",
       "      <td>5</td>\n",
       "      <td>897000</td>\n",
       "      <td>Hyundai</td>\n",
       "    </tr>\n",
       "    <tr>\n",
       "      <th>2</th>\n",
       "      <td>2</td>\n",
       "      <td>Hyundai Grand</td>\n",
       "      <td>2015</td>\n",
       "      <td>1</td>\n",
       "      <td>62393</td>\n",
       "      <td>1197</td>\n",
       "      <td>2</td>\n",
       "      <td>2</td>\n",
       "      <td>18.90</td>\n",
       "      <td>5</td>\n",
       "      <td>468000</td>\n",
       "      <td>Hyundai</td>\n",
       "    </tr>\n",
       "    <tr>\n",
       "      <th>3</th>\n",
       "      <td>3</td>\n",
       "      <td>Hyundai i10</td>\n",
       "      <td>2014</td>\n",
       "      <td>1</td>\n",
       "      <td>42328</td>\n",
       "      <td>1086</td>\n",
       "      <td>1</td>\n",
       "      <td>1</td>\n",
       "      <td>19.81</td>\n",
       "      <td>5</td>\n",
       "      <td>342000</td>\n",
       "      <td>Hyundai</td>\n",
       "    </tr>\n",
       "    <tr>\n",
       "      <th>4</th>\n",
       "      <td>4</td>\n",
       "      <td>Tata Nano</td>\n",
       "      <td>2017</td>\n",
       "      <td>1</td>\n",
       "      <td>12039</td>\n",
       "      <td>624</td>\n",
       "      <td>1</td>\n",
       "      <td>1</td>\n",
       "      <td>25.40</td>\n",
       "      <td>4</td>\n",
       "      <td>193000</td>\n",
       "      <td>Tata</td>\n",
       "    </tr>\n",
       "    <tr>\n",
       "      <th>...</th>\n",
       "      <td>...</td>\n",
       "      <td>...</td>\n",
       "      <td>...</td>\n",
       "      <td>...</td>\n",
       "      <td>...</td>\n",
       "      <td>...</td>\n",
       "      <td>...</td>\n",
       "      <td>...</td>\n",
       "      <td>...</td>\n",
       "      <td>...</td>\n",
       "      <td>...</td>\n",
       "      <td>...</td>\n",
       "    </tr>\n",
       "    <tr>\n",
       "      <th>23532</th>\n",
       "      <td>23615</td>\n",
       "      <td>Toyota Innova</td>\n",
       "      <td>2013</td>\n",
       "      <td>2</td>\n",
       "      <td>133800</td>\n",
       "      <td>2494</td>\n",
       "      <td>3</td>\n",
       "      <td>1</td>\n",
       "      <td>12.99</td>\n",
       "      <td>7</td>\n",
       "      <td>3900000</td>\n",
       "      <td>Toyota</td>\n",
       "    </tr>\n",
       "    <tr>\n",
       "      <th>23533</th>\n",
       "      <td>23617</td>\n",
       "      <td>Honda City</td>\n",
       "      <td>2011</td>\n",
       "      <td>1</td>\n",
       "      <td>110000</td>\n",
       "      <td>1497</td>\n",
       "      <td>2</td>\n",
       "      <td>1</td>\n",
       "      <td>17.00</td>\n",
       "      <td>5</td>\n",
       "      <td>284000</td>\n",
       "      <td>Honda</td>\n",
       "    </tr>\n",
       "    <tr>\n",
       "      <th>23534</th>\n",
       "      <td>23618</td>\n",
       "      <td>Maruti Swift</td>\n",
       "      <td>2015</td>\n",
       "      <td>2</td>\n",
       "      <td>60000</td>\n",
       "      <td>1248</td>\n",
       "      <td>1</td>\n",
       "      <td>1</td>\n",
       "      <td>26.59</td>\n",
       "      <td>5</td>\n",
       "      <td>400000</td>\n",
       "      <td>Maruti</td>\n",
       "    </tr>\n",
       "    <tr>\n",
       "      <th>23535</th>\n",
       "      <td>23619</td>\n",
       "      <td>Mercedes-Benz C-Class</td>\n",
       "      <td>2012</td>\n",
       "      <td>1</td>\n",
       "      <td>50000</td>\n",
       "      <td>1796</td>\n",
       "      <td>2</td>\n",
       "      <td>2</td>\n",
       "      <td>11.74</td>\n",
       "      <td>5</td>\n",
       "      <td>1300000</td>\n",
       "      <td>Mercedes-Benz</td>\n",
       "    </tr>\n",
       "    <tr>\n",
       "      <th>23536</th>\n",
       "      <td>23620</td>\n",
       "      <td>Mahindra Scorpio</td>\n",
       "      <td>2014</td>\n",
       "      <td>2</td>\n",
       "      <td>83400</td>\n",
       "      <td>2179</td>\n",
       "      <td>3</td>\n",
       "      <td>2</td>\n",
       "      <td>11.79</td>\n",
       "      <td>8</td>\n",
       "      <td>3800000</td>\n",
       "      <td>Mahindra</td>\n",
       "    </tr>\n",
       "  </tbody>\n",
       "</table>\n",
       "<p>23537 rows × 12 columns</p>\n",
       "</div>"
      ],
      "text/plain": [
       "       Unnamed: 0                   Name  Year  Fuel     KMS  Engine  Owners  \\\n",
       "0               0           Jeep Compass  2019     2   70007    1956       1   \n",
       "1               1            Hyundai i20  2021     1   16670    1197       1   \n",
       "2               2          Hyundai Grand  2015     1   62393    1197       2   \n",
       "3               3            Hyundai i10  2014     1   42328    1086       1   \n",
       "4               4              Tata Nano  2017     1   12039     624       1   \n",
       "...           ...                    ...   ...   ...     ...     ...     ...   \n",
       "23532       23615          Toyota Innova  2013     2  133800    2494       3   \n",
       "23533       23617             Honda City  2011     1  110000    1497       2   \n",
       "23534       23618           Maruti Swift  2015     2   60000    1248       1   \n",
       "23535       23619  Mercedes-Benz C-Class  2012     1   50000    1796       2   \n",
       "23536       23620       Mahindra Scorpio  2014     2   83400    2179       3   \n",
       "\n",
       "       Transmission  Mileage  Seats    Price        Company  \n",
       "0                 2    16.30      5  2405000           Jeep  \n",
       "1                 1    21.00      5   897000        Hyundai  \n",
       "2                 2    18.90      5   468000        Hyundai  \n",
       "3                 1    19.81      5   342000        Hyundai  \n",
       "4                 1    25.40      4   193000           Tata  \n",
       "...             ...      ...    ...      ...            ...  \n",
       "23532             1    12.99      7  3900000         Toyota  \n",
       "23533             1    17.00      5   284000          Honda  \n",
       "23534             1    26.59      5   400000         Maruti  \n",
       "23535             2    11.74      5  1300000  Mercedes-Benz  \n",
       "23536             2    11.79      8  3800000       Mahindra  \n",
       "\n",
       "[23537 rows x 12 columns]"
      ]
     },
     "execution_count": 4,
     "metadata": {},
     "output_type": "execute_result"
    }
   ],
   "source": [
    "total_df"
   ]
  },
  {
   "cell_type": "code",
   "execution_count": 5,
   "id": "fe4c38f8-7061-441e-991a-d07d90c6d972",
   "metadata": {},
   "outputs": [
    {
     "data": {
      "text/html": [
       "<div>\n",
       "<style scoped>\n",
       "    .dataframe tbody tr th:only-of-type {\n",
       "        vertical-align: middle;\n",
       "    }\n",
       "\n",
       "    .dataframe tbody tr th {\n",
       "        vertical-align: top;\n",
       "    }\n",
       "\n",
       "    .dataframe thead th {\n",
       "        text-align: right;\n",
       "    }\n",
       "</style>\n",
       "<table border=\"1\" class=\"dataframe\">\n",
       "  <thead>\n",
       "    <tr style=\"text-align: right;\">\n",
       "      <th></th>\n",
       "      <th>Name</th>\n",
       "      <th>Year</th>\n",
       "      <th>Fuel</th>\n",
       "      <th>KMS</th>\n",
       "      <th>Engine</th>\n",
       "      <th>Owners</th>\n",
       "      <th>Transmission</th>\n",
       "      <th>Mileage</th>\n",
       "      <th>Seats</th>\n",
       "      <th>Price</th>\n",
       "      <th>Company</th>\n",
       "    </tr>\n",
       "  </thead>\n",
       "  <tbody>\n",
       "    <tr>\n",
       "      <th>0</th>\n",
       "      <td>Jeep Compass</td>\n",
       "      <td>2019</td>\n",
       "      <td>2</td>\n",
       "      <td>70007</td>\n",
       "      <td>1956</td>\n",
       "      <td>1</td>\n",
       "      <td>2</td>\n",
       "      <td>16.30</td>\n",
       "      <td>5</td>\n",
       "      <td>2405000</td>\n",
       "      <td>Jeep</td>\n",
       "    </tr>\n",
       "    <tr>\n",
       "      <th>1</th>\n",
       "      <td>Hyundai i20</td>\n",
       "      <td>2021</td>\n",
       "      <td>1</td>\n",
       "      <td>16670</td>\n",
       "      <td>1197</td>\n",
       "      <td>1</td>\n",
       "      <td>1</td>\n",
       "      <td>21.00</td>\n",
       "      <td>5</td>\n",
       "      <td>897000</td>\n",
       "      <td>Hyundai</td>\n",
       "    </tr>\n",
       "    <tr>\n",
       "      <th>2</th>\n",
       "      <td>Hyundai Grand</td>\n",
       "      <td>2015</td>\n",
       "      <td>1</td>\n",
       "      <td>62393</td>\n",
       "      <td>1197</td>\n",
       "      <td>2</td>\n",
       "      <td>2</td>\n",
       "      <td>18.90</td>\n",
       "      <td>5</td>\n",
       "      <td>468000</td>\n",
       "      <td>Hyundai</td>\n",
       "    </tr>\n",
       "    <tr>\n",
       "      <th>3</th>\n",
       "      <td>Hyundai i10</td>\n",
       "      <td>2014</td>\n",
       "      <td>1</td>\n",
       "      <td>42328</td>\n",
       "      <td>1086</td>\n",
       "      <td>1</td>\n",
       "      <td>1</td>\n",
       "      <td>19.81</td>\n",
       "      <td>5</td>\n",
       "      <td>342000</td>\n",
       "      <td>Hyundai</td>\n",
       "    </tr>\n",
       "    <tr>\n",
       "      <th>4</th>\n",
       "      <td>Tata Nano</td>\n",
       "      <td>2017</td>\n",
       "      <td>1</td>\n",
       "      <td>12039</td>\n",
       "      <td>624</td>\n",
       "      <td>1</td>\n",
       "      <td>1</td>\n",
       "      <td>25.40</td>\n",
       "      <td>4</td>\n",
       "      <td>193000</td>\n",
       "      <td>Tata</td>\n",
       "    </tr>\n",
       "    <tr>\n",
       "      <th>...</th>\n",
       "      <td>...</td>\n",
       "      <td>...</td>\n",
       "      <td>...</td>\n",
       "      <td>...</td>\n",
       "      <td>...</td>\n",
       "      <td>...</td>\n",
       "      <td>...</td>\n",
       "      <td>...</td>\n",
       "      <td>...</td>\n",
       "      <td>...</td>\n",
       "      <td>...</td>\n",
       "    </tr>\n",
       "    <tr>\n",
       "      <th>23532</th>\n",
       "      <td>Toyota Innova</td>\n",
       "      <td>2013</td>\n",
       "      <td>2</td>\n",
       "      <td>133800</td>\n",
       "      <td>2494</td>\n",
       "      <td>3</td>\n",
       "      <td>1</td>\n",
       "      <td>12.99</td>\n",
       "      <td>7</td>\n",
       "      <td>3900000</td>\n",
       "      <td>Toyota</td>\n",
       "    </tr>\n",
       "    <tr>\n",
       "      <th>23533</th>\n",
       "      <td>Honda City</td>\n",
       "      <td>2011</td>\n",
       "      <td>1</td>\n",
       "      <td>110000</td>\n",
       "      <td>1497</td>\n",
       "      <td>2</td>\n",
       "      <td>1</td>\n",
       "      <td>17.00</td>\n",
       "      <td>5</td>\n",
       "      <td>284000</td>\n",
       "      <td>Honda</td>\n",
       "    </tr>\n",
       "    <tr>\n",
       "      <th>23534</th>\n",
       "      <td>Maruti Swift</td>\n",
       "      <td>2015</td>\n",
       "      <td>2</td>\n",
       "      <td>60000</td>\n",
       "      <td>1248</td>\n",
       "      <td>1</td>\n",
       "      <td>1</td>\n",
       "      <td>26.59</td>\n",
       "      <td>5</td>\n",
       "      <td>400000</td>\n",
       "      <td>Maruti</td>\n",
       "    </tr>\n",
       "    <tr>\n",
       "      <th>23535</th>\n",
       "      <td>Mercedes-Benz C-Class</td>\n",
       "      <td>2012</td>\n",
       "      <td>1</td>\n",
       "      <td>50000</td>\n",
       "      <td>1796</td>\n",
       "      <td>2</td>\n",
       "      <td>2</td>\n",
       "      <td>11.74</td>\n",
       "      <td>5</td>\n",
       "      <td>1300000</td>\n",
       "      <td>Mercedes-Benz</td>\n",
       "    </tr>\n",
       "    <tr>\n",
       "      <th>23536</th>\n",
       "      <td>Mahindra Scorpio</td>\n",
       "      <td>2014</td>\n",
       "      <td>2</td>\n",
       "      <td>83400</td>\n",
       "      <td>2179</td>\n",
       "      <td>3</td>\n",
       "      <td>2</td>\n",
       "      <td>11.79</td>\n",
       "      <td>8</td>\n",
       "      <td>3800000</td>\n",
       "      <td>Mahindra</td>\n",
       "    </tr>\n",
       "  </tbody>\n",
       "</table>\n",
       "<p>23537 rows × 11 columns</p>\n",
       "</div>"
      ],
      "text/plain": [
       "                        Name  Year  Fuel     KMS  Engine  Owners  \\\n",
       "0               Jeep Compass  2019     2   70007    1956       1   \n",
       "1                Hyundai i20  2021     1   16670    1197       1   \n",
       "2              Hyundai Grand  2015     1   62393    1197       2   \n",
       "3                Hyundai i10  2014     1   42328    1086       1   \n",
       "4                  Tata Nano  2017     1   12039     624       1   \n",
       "...                      ...   ...   ...     ...     ...     ...   \n",
       "23532          Toyota Innova  2013     2  133800    2494       3   \n",
       "23533             Honda City  2011     1  110000    1497       2   \n",
       "23534           Maruti Swift  2015     2   60000    1248       1   \n",
       "23535  Mercedes-Benz C-Class  2012     1   50000    1796       2   \n",
       "23536       Mahindra Scorpio  2014     2   83400    2179       3   \n",
       "\n",
       "       Transmission  Mileage  Seats    Price        Company  \n",
       "0                 2    16.30      5  2405000           Jeep  \n",
       "1                 1    21.00      5   897000        Hyundai  \n",
       "2                 2    18.90      5   468000        Hyundai  \n",
       "3                 1    19.81      5   342000        Hyundai  \n",
       "4                 1    25.40      4   193000           Tata  \n",
       "...             ...      ...    ...      ...            ...  \n",
       "23532             1    12.99      7  3900000         Toyota  \n",
       "23533             1    17.00      5   284000          Honda  \n",
       "23534             1    26.59      5   400000         Maruti  \n",
       "23535             2    11.74      5  1300000  Mercedes-Benz  \n",
       "23536             2    11.79      8  3800000       Mahindra  \n",
       "\n",
       "[23537 rows x 11 columns]"
      ]
     },
     "execution_count": 5,
     "metadata": {},
     "output_type": "execute_result"
    }
   ],
   "source": [
    "total_df.drop('Unnamed: 0',axis=1,inplace=True)\n",
    "total_df"
   ]
  },
  {
   "cell_type": "code",
   "execution_count": 6,
   "id": "67fb95d0-9669-476c-805f-dad785d8356b",
   "metadata": {},
   "outputs": [
    {
     "data": {
      "text/html": [
       "<div>\n",
       "<style scoped>\n",
       "    .dataframe tbody tr th:only-of-type {\n",
       "        vertical-align: middle;\n",
       "    }\n",
       "\n",
       "    .dataframe tbody tr th {\n",
       "        vertical-align: top;\n",
       "    }\n",
       "\n",
       "    .dataframe thead th {\n",
       "        text-align: right;\n",
       "    }\n",
       "</style>\n",
       "<table border=\"1\" class=\"dataframe\">\n",
       "  <thead>\n",
       "    <tr style=\"text-align: right;\">\n",
       "      <th></th>\n",
       "      <th>Name</th>\n",
       "      <th>Year</th>\n",
       "      <th>Fuel</th>\n",
       "      <th>KMS</th>\n",
       "      <th>Engine</th>\n",
       "      <th>Owners</th>\n",
       "      <th>Transmission</th>\n",
       "      <th>Mileage</th>\n",
       "      <th>Seats</th>\n",
       "      <th>Price</th>\n",
       "      <th>Company</th>\n",
       "    </tr>\n",
       "  </thead>\n",
       "  <tbody>\n",
       "    <tr>\n",
       "      <th>0</th>\n",
       "      <td>Jeep Compass</td>\n",
       "      <td>2019</td>\n",
       "      <td>2</td>\n",
       "      <td>70007</td>\n",
       "      <td>1956</td>\n",
       "      <td>1</td>\n",
       "      <td>2</td>\n",
       "      <td>16.30</td>\n",
       "      <td>5</td>\n",
       "      <td>2405000</td>\n",
       "      <td>Jeep</td>\n",
       "    </tr>\n",
       "    <tr>\n",
       "      <th>1</th>\n",
       "      <td>Hyundai i20</td>\n",
       "      <td>2021</td>\n",
       "      <td>1</td>\n",
       "      <td>16670</td>\n",
       "      <td>1197</td>\n",
       "      <td>1</td>\n",
       "      <td>1</td>\n",
       "      <td>21.00</td>\n",
       "      <td>5</td>\n",
       "      <td>897000</td>\n",
       "      <td>Hyundai</td>\n",
       "    </tr>\n",
       "    <tr>\n",
       "      <th>2</th>\n",
       "      <td>Hyundai Grand</td>\n",
       "      <td>2015</td>\n",
       "      <td>1</td>\n",
       "      <td>62393</td>\n",
       "      <td>1197</td>\n",
       "      <td>2</td>\n",
       "      <td>2</td>\n",
       "      <td>18.90</td>\n",
       "      <td>5</td>\n",
       "      <td>468000</td>\n",
       "      <td>Hyundai</td>\n",
       "    </tr>\n",
       "    <tr>\n",
       "      <th>3</th>\n",
       "      <td>Hyundai i10</td>\n",
       "      <td>2014</td>\n",
       "      <td>1</td>\n",
       "      <td>42328</td>\n",
       "      <td>1086</td>\n",
       "      <td>1</td>\n",
       "      <td>1</td>\n",
       "      <td>19.81</td>\n",
       "      <td>5</td>\n",
       "      <td>342000</td>\n",
       "      <td>Hyundai</td>\n",
       "    </tr>\n",
       "    <tr>\n",
       "      <th>4</th>\n",
       "      <td>Tata Nano</td>\n",
       "      <td>2017</td>\n",
       "      <td>1</td>\n",
       "      <td>12039</td>\n",
       "      <td>624</td>\n",
       "      <td>1</td>\n",
       "      <td>1</td>\n",
       "      <td>25.40</td>\n",
       "      <td>4</td>\n",
       "      <td>193000</td>\n",
       "      <td>Tata</td>\n",
       "    </tr>\n",
       "    <tr>\n",
       "      <th>...</th>\n",
       "      <td>...</td>\n",
       "      <td>...</td>\n",
       "      <td>...</td>\n",
       "      <td>...</td>\n",
       "      <td>...</td>\n",
       "      <td>...</td>\n",
       "      <td>...</td>\n",
       "      <td>...</td>\n",
       "      <td>...</td>\n",
       "      <td>...</td>\n",
       "      <td>...</td>\n",
       "    </tr>\n",
       "    <tr>\n",
       "      <th>23532</th>\n",
       "      <td>Toyota Innova</td>\n",
       "      <td>2013</td>\n",
       "      <td>2</td>\n",
       "      <td>133800</td>\n",
       "      <td>2494</td>\n",
       "      <td>3</td>\n",
       "      <td>1</td>\n",
       "      <td>12.99</td>\n",
       "      <td>7</td>\n",
       "      <td>3900000</td>\n",
       "      <td>Toyota</td>\n",
       "    </tr>\n",
       "    <tr>\n",
       "      <th>23533</th>\n",
       "      <td>Honda City</td>\n",
       "      <td>2011</td>\n",
       "      <td>1</td>\n",
       "      <td>110000</td>\n",
       "      <td>1497</td>\n",
       "      <td>2</td>\n",
       "      <td>1</td>\n",
       "      <td>17.00</td>\n",
       "      <td>5</td>\n",
       "      <td>284000</td>\n",
       "      <td>Honda</td>\n",
       "    </tr>\n",
       "    <tr>\n",
       "      <th>23534</th>\n",
       "      <td>Maruti Swift</td>\n",
       "      <td>2015</td>\n",
       "      <td>2</td>\n",
       "      <td>60000</td>\n",
       "      <td>1248</td>\n",
       "      <td>1</td>\n",
       "      <td>1</td>\n",
       "      <td>26.59</td>\n",
       "      <td>5</td>\n",
       "      <td>400000</td>\n",
       "      <td>Maruti</td>\n",
       "    </tr>\n",
       "    <tr>\n",
       "      <th>23535</th>\n",
       "      <td>Mercedes-Benz C-Class</td>\n",
       "      <td>2012</td>\n",
       "      <td>1</td>\n",
       "      <td>50000</td>\n",
       "      <td>1796</td>\n",
       "      <td>2</td>\n",
       "      <td>2</td>\n",
       "      <td>11.74</td>\n",
       "      <td>5</td>\n",
       "      <td>1300000</td>\n",
       "      <td>Mercedes-Benz</td>\n",
       "    </tr>\n",
       "    <tr>\n",
       "      <th>23536</th>\n",
       "      <td>Mahindra Scorpio</td>\n",
       "      <td>2014</td>\n",
       "      <td>2</td>\n",
       "      <td>83400</td>\n",
       "      <td>2179</td>\n",
       "      <td>3</td>\n",
       "      <td>2</td>\n",
       "      <td>11.79</td>\n",
       "      <td>8</td>\n",
       "      <td>3800000</td>\n",
       "      <td>Mahindra</td>\n",
       "    </tr>\n",
       "  </tbody>\n",
       "</table>\n",
       "<p>23537 rows × 11 columns</p>\n",
       "</div>"
      ],
      "text/plain": [
       "                        Name  Year  Fuel     KMS  Engine  Owners  \\\n",
       "0               Jeep Compass  2019     2   70007    1956       1   \n",
       "1                Hyundai i20  2021     1   16670    1197       1   \n",
       "2              Hyundai Grand  2015     1   62393    1197       2   \n",
       "3                Hyundai i10  2014     1   42328    1086       1   \n",
       "4                  Tata Nano  2017     1   12039     624       1   \n",
       "...                      ...   ...   ...     ...     ...     ...   \n",
       "23532          Toyota Innova  2013     2  133800    2494       3   \n",
       "23533             Honda City  2011     1  110000    1497       2   \n",
       "23534           Maruti Swift  2015     2   60000    1248       1   \n",
       "23535  Mercedes-Benz C-Class  2012     1   50000    1796       2   \n",
       "23536       Mahindra Scorpio  2014     2   83400    2179       3   \n",
       "\n",
       "       Transmission  Mileage  Seats    Price        Company  \n",
       "0                 2    16.30      5  2405000           Jeep  \n",
       "1                 1    21.00      5   897000        Hyundai  \n",
       "2                 2    18.90      5   468000        Hyundai  \n",
       "3                 1    19.81      5   342000        Hyundai  \n",
       "4                 1    25.40      4   193000           Tata  \n",
       "...             ...      ...    ...      ...            ...  \n",
       "23532             1    12.99      7  3900000         Toyota  \n",
       "23533             1    17.00      5   284000          Honda  \n",
       "23534             1    26.59      5   400000         Maruti  \n",
       "23535             2    11.74      5  1300000  Mercedes-Benz  \n",
       "23536             2    11.79      8  3800000       Mahindra  \n",
       "\n",
       "[23537 rows x 11 columns]"
      ]
     },
     "execution_count": 6,
     "metadata": {},
     "output_type": "execute_result"
    }
   ],
   "source": [
    "total_df"
   ]
  },
  {
   "cell_type": "code",
   "execution_count": 11,
   "id": "ce146e7a-702f-48b3-998a-98bae7db288a",
   "metadata": {},
   "outputs": [],
   "source": [
    "total_df['Fuel'] = total_df['Fuel'].replace({\n",
    "    1: \"Petrol\",\n",
    "    2: \"Diesel\",\n",
    "    3: \"CNG\",\n",
    "    4: \"LPG\",\n",
    "    5: \"Electric(Battery)\"\n",
    "})"
   ]
  },
  {
   "cell_type": "code",
   "execution_count": 12,
   "id": "2cef6613-3f81-4b1d-a17f-f918de18d8af",
   "metadata": {},
   "outputs": [
    {
     "data": {
      "text/html": [
       "<div>\n",
       "<style scoped>\n",
       "    .dataframe tbody tr th:only-of-type {\n",
       "        vertical-align: middle;\n",
       "    }\n",
       "\n",
       "    .dataframe tbody tr th {\n",
       "        vertical-align: top;\n",
       "    }\n",
       "\n",
       "    .dataframe thead th {\n",
       "        text-align: right;\n",
       "    }\n",
       "</style>\n",
       "<table border=\"1\" class=\"dataframe\">\n",
       "  <thead>\n",
       "    <tr style=\"text-align: right;\">\n",
       "      <th></th>\n",
       "      <th>Name</th>\n",
       "      <th>Year</th>\n",
       "      <th>Fuel</th>\n",
       "      <th>KMS</th>\n",
       "      <th>Engine</th>\n",
       "      <th>Owners</th>\n",
       "      <th>Transmission</th>\n",
       "      <th>Mileage</th>\n",
       "      <th>Seats</th>\n",
       "      <th>Price</th>\n",
       "      <th>Company</th>\n",
       "    </tr>\n",
       "  </thead>\n",
       "  <tbody>\n",
       "    <tr>\n",
       "      <th>0</th>\n",
       "      <td>Jeep Compass</td>\n",
       "      <td>2019</td>\n",
       "      <td>Diesel</td>\n",
       "      <td>70007</td>\n",
       "      <td>1956</td>\n",
       "      <td>1</td>\n",
       "      <td>2</td>\n",
       "      <td>16.30</td>\n",
       "      <td>5</td>\n",
       "      <td>2405000</td>\n",
       "      <td>Jeep</td>\n",
       "    </tr>\n",
       "    <tr>\n",
       "      <th>1</th>\n",
       "      <td>Hyundai i20</td>\n",
       "      <td>2021</td>\n",
       "      <td>Petrol</td>\n",
       "      <td>16670</td>\n",
       "      <td>1197</td>\n",
       "      <td>1</td>\n",
       "      <td>1</td>\n",
       "      <td>21.00</td>\n",
       "      <td>5</td>\n",
       "      <td>897000</td>\n",
       "      <td>Hyundai</td>\n",
       "    </tr>\n",
       "    <tr>\n",
       "      <th>2</th>\n",
       "      <td>Hyundai Grand</td>\n",
       "      <td>2015</td>\n",
       "      <td>Petrol</td>\n",
       "      <td>62393</td>\n",
       "      <td>1197</td>\n",
       "      <td>2</td>\n",
       "      <td>2</td>\n",
       "      <td>18.90</td>\n",
       "      <td>5</td>\n",
       "      <td>468000</td>\n",
       "      <td>Hyundai</td>\n",
       "    </tr>\n",
       "    <tr>\n",
       "      <th>3</th>\n",
       "      <td>Hyundai i10</td>\n",
       "      <td>2014</td>\n",
       "      <td>Petrol</td>\n",
       "      <td>42328</td>\n",
       "      <td>1086</td>\n",
       "      <td>1</td>\n",
       "      <td>1</td>\n",
       "      <td>19.81</td>\n",
       "      <td>5</td>\n",
       "      <td>342000</td>\n",
       "      <td>Hyundai</td>\n",
       "    </tr>\n",
       "    <tr>\n",
       "      <th>4</th>\n",
       "      <td>Tata Nano</td>\n",
       "      <td>2017</td>\n",
       "      <td>Petrol</td>\n",
       "      <td>12039</td>\n",
       "      <td>624</td>\n",
       "      <td>1</td>\n",
       "      <td>1</td>\n",
       "      <td>25.40</td>\n",
       "      <td>4</td>\n",
       "      <td>193000</td>\n",
       "      <td>Tata</td>\n",
       "    </tr>\n",
       "    <tr>\n",
       "      <th>...</th>\n",
       "      <td>...</td>\n",
       "      <td>...</td>\n",
       "      <td>...</td>\n",
       "      <td>...</td>\n",
       "      <td>...</td>\n",
       "      <td>...</td>\n",
       "      <td>...</td>\n",
       "      <td>...</td>\n",
       "      <td>...</td>\n",
       "      <td>...</td>\n",
       "      <td>...</td>\n",
       "    </tr>\n",
       "    <tr>\n",
       "      <th>23532</th>\n",
       "      <td>Toyota Innova</td>\n",
       "      <td>2013</td>\n",
       "      <td>Diesel</td>\n",
       "      <td>133800</td>\n",
       "      <td>2494</td>\n",
       "      <td>3</td>\n",
       "      <td>1</td>\n",
       "      <td>12.99</td>\n",
       "      <td>7</td>\n",
       "      <td>3900000</td>\n",
       "      <td>Toyota</td>\n",
       "    </tr>\n",
       "    <tr>\n",
       "      <th>23533</th>\n",
       "      <td>Honda City</td>\n",
       "      <td>2011</td>\n",
       "      <td>Petrol</td>\n",
       "      <td>110000</td>\n",
       "      <td>1497</td>\n",
       "      <td>2</td>\n",
       "      <td>1</td>\n",
       "      <td>17.00</td>\n",
       "      <td>5</td>\n",
       "      <td>284000</td>\n",
       "      <td>Honda</td>\n",
       "    </tr>\n",
       "    <tr>\n",
       "      <th>23534</th>\n",
       "      <td>Maruti Swift</td>\n",
       "      <td>2015</td>\n",
       "      <td>Diesel</td>\n",
       "      <td>60000</td>\n",
       "      <td>1248</td>\n",
       "      <td>1</td>\n",
       "      <td>1</td>\n",
       "      <td>26.59</td>\n",
       "      <td>5</td>\n",
       "      <td>400000</td>\n",
       "      <td>Maruti</td>\n",
       "    </tr>\n",
       "    <tr>\n",
       "      <th>23535</th>\n",
       "      <td>Mercedes-Benz C-Class</td>\n",
       "      <td>2012</td>\n",
       "      <td>Petrol</td>\n",
       "      <td>50000</td>\n",
       "      <td>1796</td>\n",
       "      <td>2</td>\n",
       "      <td>2</td>\n",
       "      <td>11.74</td>\n",
       "      <td>5</td>\n",
       "      <td>1300000</td>\n",
       "      <td>Mercedes-Benz</td>\n",
       "    </tr>\n",
       "    <tr>\n",
       "      <th>23536</th>\n",
       "      <td>Mahindra Scorpio</td>\n",
       "      <td>2014</td>\n",
       "      <td>Diesel</td>\n",
       "      <td>83400</td>\n",
       "      <td>2179</td>\n",
       "      <td>3</td>\n",
       "      <td>2</td>\n",
       "      <td>11.79</td>\n",
       "      <td>8</td>\n",
       "      <td>3800000</td>\n",
       "      <td>Mahindra</td>\n",
       "    </tr>\n",
       "  </tbody>\n",
       "</table>\n",
       "<p>23537 rows × 11 columns</p>\n",
       "</div>"
      ],
      "text/plain": [
       "                        Name  Year    Fuel     KMS  Engine  Owners  \\\n",
       "0               Jeep Compass  2019  Diesel   70007    1956       1   \n",
       "1                Hyundai i20  2021  Petrol   16670    1197       1   \n",
       "2              Hyundai Grand  2015  Petrol   62393    1197       2   \n",
       "3                Hyundai i10  2014  Petrol   42328    1086       1   \n",
       "4                  Tata Nano  2017  Petrol   12039     624       1   \n",
       "...                      ...   ...     ...     ...     ...     ...   \n",
       "23532          Toyota Innova  2013  Diesel  133800    2494       3   \n",
       "23533             Honda City  2011  Petrol  110000    1497       2   \n",
       "23534           Maruti Swift  2015  Diesel   60000    1248       1   \n",
       "23535  Mercedes-Benz C-Class  2012  Petrol   50000    1796       2   \n",
       "23536       Mahindra Scorpio  2014  Diesel   83400    2179       3   \n",
       "\n",
       "       Transmission  Mileage  Seats    Price        Company  \n",
       "0                 2    16.30      5  2405000           Jeep  \n",
       "1                 1    21.00      5   897000        Hyundai  \n",
       "2                 2    18.90      5   468000        Hyundai  \n",
       "3                 1    19.81      5   342000        Hyundai  \n",
       "4                 1    25.40      4   193000           Tata  \n",
       "...             ...      ...    ...      ...            ...  \n",
       "23532             1    12.99      7  3900000         Toyota  \n",
       "23533             1    17.00      5   284000          Honda  \n",
       "23534             1    26.59      5   400000         Maruti  \n",
       "23535             2    11.74      5  1300000  Mercedes-Benz  \n",
       "23536             2    11.79      8  3800000       Mahindra  \n",
       "\n",
       "[23537 rows x 11 columns]"
      ]
     },
     "execution_count": 12,
     "metadata": {},
     "output_type": "execute_result"
    }
   ],
   "source": [
    "total_df"
   ]
  },
  {
   "cell_type": "code",
   "execution_count": 13,
   "id": "a07d8e54-d688-4586-95a3-83e4d1223179",
   "metadata": {},
   "outputs": [],
   "source": [
    "total_df['Transmission'] = total_df['Transmission'].replace({\n",
    "    1: \"Manual\",\n",
    "    2: \"Automatic\"\n",
    "})"
   ]
  },
  {
   "cell_type": "code",
   "execution_count": 14,
   "id": "4dc44a3c-ee6c-4423-b2a4-9d80c4375386",
   "metadata": {},
   "outputs": [
    {
     "data": {
      "text/html": [
       "<div>\n",
       "<style scoped>\n",
       "    .dataframe tbody tr th:only-of-type {\n",
       "        vertical-align: middle;\n",
       "    }\n",
       "\n",
       "    .dataframe tbody tr th {\n",
       "        vertical-align: top;\n",
       "    }\n",
       "\n",
       "    .dataframe thead th {\n",
       "        text-align: right;\n",
       "    }\n",
       "</style>\n",
       "<table border=\"1\" class=\"dataframe\">\n",
       "  <thead>\n",
       "    <tr style=\"text-align: right;\">\n",
       "      <th></th>\n",
       "      <th>Name</th>\n",
       "      <th>Year</th>\n",
       "      <th>Fuel</th>\n",
       "      <th>KMS</th>\n",
       "      <th>Engine</th>\n",
       "      <th>Owners</th>\n",
       "      <th>Transmission</th>\n",
       "      <th>Mileage</th>\n",
       "      <th>Seats</th>\n",
       "      <th>Price</th>\n",
       "      <th>Company</th>\n",
       "    </tr>\n",
       "  </thead>\n",
       "  <tbody>\n",
       "    <tr>\n",
       "      <th>0</th>\n",
       "      <td>Jeep Compass</td>\n",
       "      <td>2019</td>\n",
       "      <td>Diesel</td>\n",
       "      <td>70007</td>\n",
       "      <td>1956</td>\n",
       "      <td>1</td>\n",
       "      <td>Automatic</td>\n",
       "      <td>16.30</td>\n",
       "      <td>5</td>\n",
       "      <td>2405000</td>\n",
       "      <td>Jeep</td>\n",
       "    </tr>\n",
       "    <tr>\n",
       "      <th>1</th>\n",
       "      <td>Hyundai i20</td>\n",
       "      <td>2021</td>\n",
       "      <td>Petrol</td>\n",
       "      <td>16670</td>\n",
       "      <td>1197</td>\n",
       "      <td>1</td>\n",
       "      <td>Manual</td>\n",
       "      <td>21.00</td>\n",
       "      <td>5</td>\n",
       "      <td>897000</td>\n",
       "      <td>Hyundai</td>\n",
       "    </tr>\n",
       "    <tr>\n",
       "      <th>2</th>\n",
       "      <td>Hyundai Grand</td>\n",
       "      <td>2015</td>\n",
       "      <td>Petrol</td>\n",
       "      <td>62393</td>\n",
       "      <td>1197</td>\n",
       "      <td>2</td>\n",
       "      <td>Automatic</td>\n",
       "      <td>18.90</td>\n",
       "      <td>5</td>\n",
       "      <td>468000</td>\n",
       "      <td>Hyundai</td>\n",
       "    </tr>\n",
       "    <tr>\n",
       "      <th>3</th>\n",
       "      <td>Hyundai i10</td>\n",
       "      <td>2014</td>\n",
       "      <td>Petrol</td>\n",
       "      <td>42328</td>\n",
       "      <td>1086</td>\n",
       "      <td>1</td>\n",
       "      <td>Manual</td>\n",
       "      <td>19.81</td>\n",
       "      <td>5</td>\n",
       "      <td>342000</td>\n",
       "      <td>Hyundai</td>\n",
       "    </tr>\n",
       "    <tr>\n",
       "      <th>4</th>\n",
       "      <td>Tata Nano</td>\n",
       "      <td>2017</td>\n",
       "      <td>Petrol</td>\n",
       "      <td>12039</td>\n",
       "      <td>624</td>\n",
       "      <td>1</td>\n",
       "      <td>Manual</td>\n",
       "      <td>25.40</td>\n",
       "      <td>4</td>\n",
       "      <td>193000</td>\n",
       "      <td>Tata</td>\n",
       "    </tr>\n",
       "    <tr>\n",
       "      <th>...</th>\n",
       "      <td>...</td>\n",
       "      <td>...</td>\n",
       "      <td>...</td>\n",
       "      <td>...</td>\n",
       "      <td>...</td>\n",
       "      <td>...</td>\n",
       "      <td>...</td>\n",
       "      <td>...</td>\n",
       "      <td>...</td>\n",
       "      <td>...</td>\n",
       "      <td>...</td>\n",
       "    </tr>\n",
       "    <tr>\n",
       "      <th>23532</th>\n",
       "      <td>Toyota Innova</td>\n",
       "      <td>2013</td>\n",
       "      <td>Diesel</td>\n",
       "      <td>133800</td>\n",
       "      <td>2494</td>\n",
       "      <td>3</td>\n",
       "      <td>Manual</td>\n",
       "      <td>12.99</td>\n",
       "      <td>7</td>\n",
       "      <td>3900000</td>\n",
       "      <td>Toyota</td>\n",
       "    </tr>\n",
       "    <tr>\n",
       "      <th>23533</th>\n",
       "      <td>Honda City</td>\n",
       "      <td>2011</td>\n",
       "      <td>Petrol</td>\n",
       "      <td>110000</td>\n",
       "      <td>1497</td>\n",
       "      <td>2</td>\n",
       "      <td>Manual</td>\n",
       "      <td>17.00</td>\n",
       "      <td>5</td>\n",
       "      <td>284000</td>\n",
       "      <td>Honda</td>\n",
       "    </tr>\n",
       "    <tr>\n",
       "      <th>23534</th>\n",
       "      <td>Maruti Swift</td>\n",
       "      <td>2015</td>\n",
       "      <td>Diesel</td>\n",
       "      <td>60000</td>\n",
       "      <td>1248</td>\n",
       "      <td>1</td>\n",
       "      <td>Manual</td>\n",
       "      <td>26.59</td>\n",
       "      <td>5</td>\n",
       "      <td>400000</td>\n",
       "      <td>Maruti</td>\n",
       "    </tr>\n",
       "    <tr>\n",
       "      <th>23535</th>\n",
       "      <td>Mercedes-Benz C-Class</td>\n",
       "      <td>2012</td>\n",
       "      <td>Petrol</td>\n",
       "      <td>50000</td>\n",
       "      <td>1796</td>\n",
       "      <td>2</td>\n",
       "      <td>Automatic</td>\n",
       "      <td>11.74</td>\n",
       "      <td>5</td>\n",
       "      <td>1300000</td>\n",
       "      <td>Mercedes-Benz</td>\n",
       "    </tr>\n",
       "    <tr>\n",
       "      <th>23536</th>\n",
       "      <td>Mahindra Scorpio</td>\n",
       "      <td>2014</td>\n",
       "      <td>Diesel</td>\n",
       "      <td>83400</td>\n",
       "      <td>2179</td>\n",
       "      <td>3</td>\n",
       "      <td>Automatic</td>\n",
       "      <td>11.79</td>\n",
       "      <td>8</td>\n",
       "      <td>3800000</td>\n",
       "      <td>Mahindra</td>\n",
       "    </tr>\n",
       "  </tbody>\n",
       "</table>\n",
       "<p>23537 rows × 11 columns</p>\n",
       "</div>"
      ],
      "text/plain": [
       "                        Name  Year    Fuel     KMS  Engine  Owners  \\\n",
       "0               Jeep Compass  2019  Diesel   70007    1956       1   \n",
       "1                Hyundai i20  2021  Petrol   16670    1197       1   \n",
       "2              Hyundai Grand  2015  Petrol   62393    1197       2   \n",
       "3                Hyundai i10  2014  Petrol   42328    1086       1   \n",
       "4                  Tata Nano  2017  Petrol   12039     624       1   \n",
       "...                      ...   ...     ...     ...     ...     ...   \n",
       "23532          Toyota Innova  2013  Diesel  133800    2494       3   \n",
       "23533             Honda City  2011  Petrol  110000    1497       2   \n",
       "23534           Maruti Swift  2015  Diesel   60000    1248       1   \n",
       "23535  Mercedes-Benz C-Class  2012  Petrol   50000    1796       2   \n",
       "23536       Mahindra Scorpio  2014  Diesel   83400    2179       3   \n",
       "\n",
       "      Transmission  Mileage  Seats    Price        Company  \n",
       "0        Automatic    16.30      5  2405000           Jeep  \n",
       "1           Manual    21.00      5   897000        Hyundai  \n",
       "2        Automatic    18.90      5   468000        Hyundai  \n",
       "3           Manual    19.81      5   342000        Hyundai  \n",
       "4           Manual    25.40      4   193000           Tata  \n",
       "...            ...      ...    ...      ...            ...  \n",
       "23532       Manual    12.99      7  3900000         Toyota  \n",
       "23533       Manual    17.00      5   284000          Honda  \n",
       "23534       Manual    26.59      5   400000         Maruti  \n",
       "23535    Automatic    11.74      5  1300000  Mercedes-Benz  \n",
       "23536    Automatic    11.79      8  3800000       Mahindra  \n",
       "\n",
       "[23537 rows x 11 columns]"
      ]
     },
     "execution_count": 14,
     "metadata": {},
     "output_type": "execute_result"
    }
   ],
   "source": [
    "total_df"
   ]
  },
  {
   "cell_type": "code",
   "execution_count": 15,
   "id": "9bc8a08b-aba4-4e52-b9cd-1fae3211d1fe",
   "metadata": {},
   "outputs": [
    {
     "data": {
      "text/plain": [
       "Name             object\n",
       "Year              int64\n",
       "Fuel             object\n",
       "KMS               int64\n",
       "Engine            int64\n",
       "Owners            int64\n",
       "Transmission     object\n",
       "Mileage         float64\n",
       "Seats             int64\n",
       "Price             int64\n",
       "Company          object\n",
       "dtype: object"
      ]
     },
     "execution_count": 15,
     "metadata": {},
     "output_type": "execute_result"
    }
   ],
   "source": [
    "total_df.dtypes"
   ]
  },
  {
   "cell_type": "code",
   "execution_count": 16,
   "id": "c34686ba-cde0-4314-92aa-340d342cd792",
   "metadata": {},
   "outputs": [],
   "source": [
    "import matplotlib.pyplot as plt\n",
    "import seaborn as sns"
   ]
  },
  {
   "cell_type": "code",
   "execution_count": 17,
   "id": "742d6ce4-ba51-4dd5-962f-7c88a20f1907",
   "metadata": {},
   "outputs": [],
   "source": [
    "df = total_df.copy()"
   ]
  },
  {
   "cell_type": "code",
   "execution_count": 18,
   "id": "99c4771d-9caa-4ecb-8b7a-7b22ee717c13",
   "metadata": {},
   "outputs": [
    {
     "data": {
      "text/html": [
       "<div>\n",
       "<style scoped>\n",
       "    .dataframe tbody tr th:only-of-type {\n",
       "        vertical-align: middle;\n",
       "    }\n",
       "\n",
       "    .dataframe tbody tr th {\n",
       "        vertical-align: top;\n",
       "    }\n",
       "\n",
       "    .dataframe thead th {\n",
       "        text-align: right;\n",
       "    }\n",
       "</style>\n",
       "<table border=\"1\" class=\"dataframe\">\n",
       "  <thead>\n",
       "    <tr style=\"text-align: right;\">\n",
       "      <th></th>\n",
       "      <th>Name</th>\n",
       "      <th>Year</th>\n",
       "      <th>Fuel</th>\n",
       "      <th>KMS</th>\n",
       "      <th>Engine</th>\n",
       "      <th>Owners</th>\n",
       "      <th>Transmission</th>\n",
       "      <th>Mileage</th>\n",
       "      <th>Seats</th>\n",
       "      <th>Price</th>\n",
       "      <th>Company</th>\n",
       "    </tr>\n",
       "  </thead>\n",
       "  <tbody>\n",
       "    <tr>\n",
       "      <th>0</th>\n",
       "      <td>Jeep Compass</td>\n",
       "      <td>2019</td>\n",
       "      <td>Diesel</td>\n",
       "      <td>70007</td>\n",
       "      <td>1956</td>\n",
       "      <td>1</td>\n",
       "      <td>Automatic</td>\n",
       "      <td>16.30</td>\n",
       "      <td>5</td>\n",
       "      <td>2405000</td>\n",
       "      <td>Jeep</td>\n",
       "    </tr>\n",
       "    <tr>\n",
       "      <th>1</th>\n",
       "      <td>Hyundai i20</td>\n",
       "      <td>2021</td>\n",
       "      <td>Petrol</td>\n",
       "      <td>16670</td>\n",
       "      <td>1197</td>\n",
       "      <td>1</td>\n",
       "      <td>Manual</td>\n",
       "      <td>21.00</td>\n",
       "      <td>5</td>\n",
       "      <td>897000</td>\n",
       "      <td>Hyundai</td>\n",
       "    </tr>\n",
       "    <tr>\n",
       "      <th>2</th>\n",
       "      <td>Hyundai Grand</td>\n",
       "      <td>2015</td>\n",
       "      <td>Petrol</td>\n",
       "      <td>62393</td>\n",
       "      <td>1197</td>\n",
       "      <td>2</td>\n",
       "      <td>Automatic</td>\n",
       "      <td>18.90</td>\n",
       "      <td>5</td>\n",
       "      <td>468000</td>\n",
       "      <td>Hyundai</td>\n",
       "    </tr>\n",
       "    <tr>\n",
       "      <th>3</th>\n",
       "      <td>Hyundai i10</td>\n",
       "      <td>2014</td>\n",
       "      <td>Petrol</td>\n",
       "      <td>42328</td>\n",
       "      <td>1086</td>\n",
       "      <td>1</td>\n",
       "      <td>Manual</td>\n",
       "      <td>19.81</td>\n",
       "      <td>5</td>\n",
       "      <td>342000</td>\n",
       "      <td>Hyundai</td>\n",
       "    </tr>\n",
       "    <tr>\n",
       "      <th>4</th>\n",
       "      <td>Tata Nano</td>\n",
       "      <td>2017</td>\n",
       "      <td>Petrol</td>\n",
       "      <td>12039</td>\n",
       "      <td>624</td>\n",
       "      <td>1</td>\n",
       "      <td>Manual</td>\n",
       "      <td>25.40</td>\n",
       "      <td>4</td>\n",
       "      <td>193000</td>\n",
       "      <td>Tata</td>\n",
       "    </tr>\n",
       "    <tr>\n",
       "      <th>...</th>\n",
       "      <td>...</td>\n",
       "      <td>...</td>\n",
       "      <td>...</td>\n",
       "      <td>...</td>\n",
       "      <td>...</td>\n",
       "      <td>...</td>\n",
       "      <td>...</td>\n",
       "      <td>...</td>\n",
       "      <td>...</td>\n",
       "      <td>...</td>\n",
       "      <td>...</td>\n",
       "    </tr>\n",
       "    <tr>\n",
       "      <th>23532</th>\n",
       "      <td>Toyota Innova</td>\n",
       "      <td>2013</td>\n",
       "      <td>Diesel</td>\n",
       "      <td>133800</td>\n",
       "      <td>2494</td>\n",
       "      <td>3</td>\n",
       "      <td>Manual</td>\n",
       "      <td>12.99</td>\n",
       "      <td>7</td>\n",
       "      <td>3900000</td>\n",
       "      <td>Toyota</td>\n",
       "    </tr>\n",
       "    <tr>\n",
       "      <th>23533</th>\n",
       "      <td>Honda City</td>\n",
       "      <td>2011</td>\n",
       "      <td>Petrol</td>\n",
       "      <td>110000</td>\n",
       "      <td>1497</td>\n",
       "      <td>2</td>\n",
       "      <td>Manual</td>\n",
       "      <td>17.00</td>\n",
       "      <td>5</td>\n",
       "      <td>284000</td>\n",
       "      <td>Honda</td>\n",
       "    </tr>\n",
       "    <tr>\n",
       "      <th>23534</th>\n",
       "      <td>Maruti Swift</td>\n",
       "      <td>2015</td>\n",
       "      <td>Diesel</td>\n",
       "      <td>60000</td>\n",
       "      <td>1248</td>\n",
       "      <td>1</td>\n",
       "      <td>Manual</td>\n",
       "      <td>26.59</td>\n",
       "      <td>5</td>\n",
       "      <td>400000</td>\n",
       "      <td>Maruti</td>\n",
       "    </tr>\n",
       "    <tr>\n",
       "      <th>23535</th>\n",
       "      <td>Mercedes-Benz C-Class</td>\n",
       "      <td>2012</td>\n",
       "      <td>Petrol</td>\n",
       "      <td>50000</td>\n",
       "      <td>1796</td>\n",
       "      <td>2</td>\n",
       "      <td>Automatic</td>\n",
       "      <td>11.74</td>\n",
       "      <td>5</td>\n",
       "      <td>1300000</td>\n",
       "      <td>Mercedes-Benz</td>\n",
       "    </tr>\n",
       "    <tr>\n",
       "      <th>23536</th>\n",
       "      <td>Mahindra Scorpio</td>\n",
       "      <td>2014</td>\n",
       "      <td>Diesel</td>\n",
       "      <td>83400</td>\n",
       "      <td>2179</td>\n",
       "      <td>3</td>\n",
       "      <td>Automatic</td>\n",
       "      <td>11.79</td>\n",
       "      <td>8</td>\n",
       "      <td>3800000</td>\n",
       "      <td>Mahindra</td>\n",
       "    </tr>\n",
       "  </tbody>\n",
       "</table>\n",
       "<p>23537 rows × 11 columns</p>\n",
       "</div>"
      ],
      "text/plain": [
       "                        Name  Year    Fuel     KMS  Engine  Owners  \\\n",
       "0               Jeep Compass  2019  Diesel   70007    1956       1   \n",
       "1                Hyundai i20  2021  Petrol   16670    1197       1   \n",
       "2              Hyundai Grand  2015  Petrol   62393    1197       2   \n",
       "3                Hyundai i10  2014  Petrol   42328    1086       1   \n",
       "4                  Tata Nano  2017  Petrol   12039     624       1   \n",
       "...                      ...   ...     ...     ...     ...     ...   \n",
       "23532          Toyota Innova  2013  Diesel  133800    2494       3   \n",
       "23533             Honda City  2011  Petrol  110000    1497       2   \n",
       "23534           Maruti Swift  2015  Diesel   60000    1248       1   \n",
       "23535  Mercedes-Benz C-Class  2012  Petrol   50000    1796       2   \n",
       "23536       Mahindra Scorpio  2014  Diesel   83400    2179       3   \n",
       "\n",
       "      Transmission  Mileage  Seats    Price        Company  \n",
       "0        Automatic    16.30      5  2405000           Jeep  \n",
       "1           Manual    21.00      5   897000        Hyundai  \n",
       "2        Automatic    18.90      5   468000        Hyundai  \n",
       "3           Manual    19.81      5   342000        Hyundai  \n",
       "4           Manual    25.40      4   193000           Tata  \n",
       "...            ...      ...    ...      ...            ...  \n",
       "23532       Manual    12.99      7  3900000         Toyota  \n",
       "23533       Manual    17.00      5   284000          Honda  \n",
       "23534       Manual    26.59      5   400000         Maruti  \n",
       "23535    Automatic    11.74      5  1300000  Mercedes-Benz  \n",
       "23536    Automatic    11.79      8  3800000       Mahindra  \n",
       "\n",
       "[23537 rows x 11 columns]"
      ]
     },
     "execution_count": 18,
     "metadata": {},
     "output_type": "execute_result"
    }
   ],
   "source": [
    "df"
   ]
  },
  {
   "cell_type": "code",
   "execution_count": 19,
   "id": "4dbc49b8-7502-4152-8191-40d307bc2e48",
   "metadata": {},
   "outputs": [
    {
     "data": {
      "text/plain": [
       "<AxesSubplot:>"
      ]
     },
     "execution_count": 19,
     "metadata": {},
     "output_type": "execute_result"
    },
    {
     "data": {
      "image/png": "[encoded data removed]",
      "text/plain": [
       "<Figure size 432x288 with 1 Axes>"
      ]
     },
     "metadata": {
      "needs_background": "light"
     },
     "output_type": "display_data"
    }
   ],
   "source": [
    "df.boxplot(column=['Price'])"
   ]
  },
  {
   "cell_type": "code",
   "execution_count": 20,
   "id": "3d83e037-45e2-4fd4-9c0a-f2b0f236eaac",
   "metadata": {},
   "outputs": [
    {
     "data": {
      "text/plain": [
       "<AxesSubplot:ylabel='Price'>"
      ]
     },
     "execution_count": 20,
     "metadata": {},
     "output_type": "execute_result"
    },
    {
     "data": {
      "image/png": "[encoded data removed]",
      "text/plain": [
       "<Figure size 432x288 with 1 Axes>"
      ]
     },
     "metadata": {
      "needs_background": "light"
     },
     "output_type": "display_data"
    }
   ],
   "source": [
    "sns.scatterplot(x=df.index,y=df['Price'])"
   ]
  },
  {
   "cell_type": "code",
   "execution_count": 21,
   "id": "08ca0c6f-4e7d-4902-b93a-400153dbca00",
   "metadata": {},
   "outputs": [
    {
     "data": {
      "text/plain": [
       "count    2.353700e+04\n",
       "mean     7.978497e+05\n",
       "std      1.013560e+06\n",
       "min      2.500000e+04\n",
       "25%      3.490000e+05\n",
       "50%      5.250000e+05\n",
       "75%      8.250000e+05\n",
       "max      3.950000e+07\n",
       "Name: Price, dtype: float64"
      ]
     },
     "execution_count": 21,
     "metadata": {},
     "output_type": "execute_result"
    }
   ],
   "source": [
    "df_price = df['Price']\n",
    "df_price.describe()"
   ]
  },
  {
   "cell_type": "code",
   "execution_count": 22,
   "id": "34c4f8cc-bec3-4999-9f81-c537c40bd8ca",
   "metadata": {},
   "outputs": [
    {
     "data": {
      "text/plain": [
       "232"
      ]
     },
     "execution_count": 22,
     "metadata": {},
     "output_type": "execute_result"
    }
   ],
   "source": [
    "len(df[df['Price']>50.00e05])"
   ]
  },
  {
   "cell_type": "code",
   "execution_count": 23,
   "id": "91c01108-7537-4b88-9a48-860e8adddadc",
   "metadata": {},
   "outputs": [
    {
     "data": {
      "text/plain": [
       "<AxesSubplot:ylabel='Price'>"
      ]
     },
     "execution_count": 23,
     "metadata": {},
     "output_type": "execute_result"
    },
    {
     "data": {
      "image/png": "[encoded data removed]",
      "text/plain": [
       "<Figure size 432x288 with 1 Axes>"
      ]
     },
     "metadata": {
      "needs_background": "light"
     },
     "output_type": "display_data"
    }
   ],
   "source": [
    "sns.scatterplot(x=df.index,y=df['Price'],hue=df['Price'])"
   ]
  },
  {
   "cell_type": "code",
   "execution_count": 24,
   "id": "1f0da643-5bf2-499a-bb59-7fb074199d91",
   "metadata": {},
   "outputs": [],
   "source": [
    "df = df[df['Price']<25e6].reset_index(drop=True)"
   ]
  },
  {
   "cell_type": "code",
   "execution_count": 23,
   "id": "8528ab14-ec06-494b-9456-64e03716017e",
   "metadata": {},
   "outputs": [
    {
     "ename": "NameError",
     "evalue": "name 'outliers' is not defined",
     "output_type": "error",
     "traceback": [
      "\u001b[1;31m---------------------------------------------------------------------------\u001b[0m",
      "\u001b[1;31mNameError\u001b[0m                                 Traceback (most recent call last)",
      "Input \u001b[1;32mIn [23]\u001b[0m, in \u001b[0;36m<module>\u001b[1;34m\u001b[0m\n\u001b[1;32m----> 1\u001b[0m bplot \u001b[38;5;241m=\u001b[39m \u001b[43moutliers\u001b[49m(df,\u001b[38;5;124m'\u001b[39m\u001b[38;5;124mPrice\u001b[39m\u001b[38;5;124m'\u001b[39m)\n",
      "\u001b[1;31mNameError\u001b[0m: name 'outliers' is not defined"
     ]
    }
   ],
   "source": [
    "bplot = outliers(df,'Price')"
   ]
  },
  {
   "cell_type": "code",
   "execution_count": 24,
   "id": "aff2ff37-cd1c-4e7e-b852-5fba5e05d5eb",
   "metadata": {},
   "outputs": [
    {
     "ename": "NameError",
     "evalue": "name 'bplot' is not defined",
     "output_type": "error",
     "traceback": [
      "\u001b[1;31m---------------------------------------------------------------------------\u001b[0m",
      "\u001b[1;31mNameError\u001b[0m                                 Traceback (most recent call last)",
      "Input \u001b[1;32mIn [24]\u001b[0m, in \u001b[0;36m<module>\u001b[1;34m\u001b[0m\n\u001b[1;32m----> 1\u001b[0m \u001b[43mbplot\u001b[49m\n",
      "\u001b[1;31mNameError\u001b[0m: name 'bplot' is not defined"
     ]
    }
   ],
   "source": [
    "bplot"
   ]
  },
  {
   "cell_type": "code",
   "execution_count": 25,
   "id": "37d87d18-2a88-4ff8-9193-114124680259",
   "metadata": {},
   "outputs": [
    {
     "data": {
      "image/png": "[encoded data removed]",
      "text/plain": [
       "<Figure size 432x288 with 1 Axes>"
      ]
     },
     "metadata": {
      "needs_background": "light"
     },
     "output_type": "display_data"
    }
   ],
   "source": [
    "def min_max_price(df):\n",
    "    r=[]\n",
    "    q1,q3=(df['LogPrice'].quantile([0.25,0.75]))\n",
    "    r.append(q1-1.5*(q3-q1))\n",
    "    r.append(q3+1.5*(q3-q1))\n",
    "    return (r)\n",
    "df['LogPrice'] = np.log(df['Price'])\n",
    "x=df['LogPrice']\n",
    "price_range=list(range(0,int(max(df['LogPrice']))+1))\n",
    "red_square = dict(markerfacecolor='g', marker='s')\n",
    "plt.boxplot(x, vert=False)\n",
    "plt.xticks(price_range)\n",
    "plt.text(min_max_price(df)[0]-0.3,1.05,str(round(min_max_price(df)[0],2)))\n",
    "plt.text(min_max_price(df)[1]-0.5,1.05,str(round(min_max_price(df)[1],2)))\n",
    "plt.title(\"Figure 1: Box Plot of Price\")\n",
    "# plt.savefig('graph-boxplot-price.jpg')\n",
    "plt.show()"
   ]
  },
  {
   "cell_type": "code",
   "execution_count": 26,
   "id": "32c4a330-6f22-498e-9302-4adb814b338a",
   "metadata": {},
   "outputs": [],
   "source": [
    "def outliers(arr,col):\n",
    "    x=sorted(arr[col].values.ravel())\n",
    "    # Alternate formula to calculate quartiles is given by \n",
    "    # (N+1)/4 for 25th, 2*((N+1)/4) for 50th, 3*((N+1)/4) for 75th\n",
    "    L_25=25/100*(len(x)+1) #Calculating rank of 25th percentile, p=25%\n",
    "    i_p=int(str(L_25).split(\".\")[0])\n",
    "    f_p=int(str(L_25).split(\".\")[1])\n",
    "    q1=x[i_p]+f_p*(x[i_p+1]-x[i_p])\n",
    "    \n",
    "    L_75=75/100*(len(x)+1) #Calculating rank of 75th percentile, p=75%\n",
    "    i_p=int(str(L_75).split(\".\")[0])\n",
    "    f_p=int(str(L_75).split(\".\")[1])\n",
    "    q3=x[i_p]+f_p*(x[i_p+1]-x[i_p])\n",
    "    \n",
    "    #q1,q3=(arr[col].quantile([0.25,0.75]))\n",
    "    \n",
    "    IQR=q3-q1\n",
    "    x1=q1-1.5*IQR\n",
    "    x2=q3+1.5*IQR\n",
    "    return (x1,x2)"
   ]
  },
  {
   "cell_type": "code",
   "execution_count": 27,
   "id": "d0e0c411-7f4c-4768-9d90-4e88d5e7ef70",
   "metadata": {},
   "outputs": [
    {
     "data": {
      "image/png": "[encoded data removed]",
      "text/plain": [
       "<Figure size 864x360 with 2 Axes>"
      ]
     },
     "metadata": {
      "needs_background": "light"
     },
     "output_type": "display_data"
    }
   ],
   "source": [
    "fig,(ax1,ax2)=plt.subplots(ncols=2,figsize=(12,5))\n",
    "\n",
    "#ploting boxplot\n",
    "o1,o2=outliers(df,'Year')\n",
    "ax1.boxplot(sorted(df['Year']), vert=False, flierprops=red_square)\n",
    "ax1.set_xlabel(\"Years\")\n",
    "ax1.set_title(\"Figure 3: Box Plot of Year\")\n",
    "ax1.text(o1-8,1.05,str(round(o1,2)))\n",
    "\n",
    "#ploting histogram\n",
    "hist,bins=np.histogram(df['Year'])\n",
    "n, bins, patches = ax2.hist(x=df['Year'], bins=bins)\n",
    "ax2.set_xlabel(\"Years\")\n",
    "ax2.set_title(\"Figure 4: Histogram of Year\")\n",
    "for i in range(len(n)):\n",
    "    if(n[i]>2000):\n",
    "        ax2.text(bins[i],n[i]+3000,str(n[i]))\n",
    " \n",
    "plt.tight_layout()\n",
    "# plt.savefig('graph-barplot-histogram-year.jpg',dpi=1200)\n",
    "plt.show()"
   ]
  },
  {
   "cell_type": "code",
   "execution_count": 28,
   "id": "5090465c-ba89-4540-bf24-323c87e92f2e",
   "metadata": {},
   "outputs": [
    {
     "name": "stdout",
     "output_type": "stream",
     "text": [
      "IQR of LogPrice = 11.472360004986182 14.913605861515197\n",
      "IQR of Year = 2007.0 2023.0\n"
     ]
    }
   ],
   "source": [
    "df_new=df.copy()\n",
    "out=np.array(['LogPrice','Year'])\n",
    "for col in out:\n",
    "    o1,o2=outliers(df_new,col)\n",
    "    df_new=df_new[(df_new[col]>=o1) & (df_new[col]<=o2)]\n",
    "    print('IQR of',col,'=',o1,o2)\n",
    "df_new=df_new[df_new['Price']!=0]\n",
    "df_new.drop('LogPrice',axis=1,inplace=True)"
   ]
  },
  {
   "cell_type": "code",
   "execution_count": 29,
   "id": "d7b359b3-175b-4f20-9a46-19f1fa78bfde",
   "metadata": {},
   "outputs": [
    {
     "data": {
      "text/html": [
       "<div>\n",
       "<style scoped>\n",
       "    .dataframe tbody tr th:only-of-type {\n",
       "        vertical-align: middle;\n",
       "    }\n",
       "\n",
       "    .dataframe tbody tr th {\n",
       "        vertical-align: top;\n",
       "    }\n",
       "\n",
       "    .dataframe thead th {\n",
       "        text-align: right;\n",
       "    }\n",
       "</style>\n",
       "<table border=\"1\" class=\"dataframe\">\n",
       "  <thead>\n",
       "    <tr style=\"text-align: right;\">\n",
       "      <th></th>\n",
       "      <th>Name</th>\n",
       "      <th>Year</th>\n",
       "      <th>Fuel</th>\n",
       "      <th>KMS</th>\n",
       "      <th>Engine</th>\n",
       "      <th>Owners</th>\n",
       "      <th>Transmission</th>\n",
       "      <th>Mileage</th>\n",
       "      <th>Seats</th>\n",
       "      <th>Price</th>\n",
       "      <th>Company</th>\n",
       "    </tr>\n",
       "  </thead>\n",
       "  <tbody>\n",
       "    <tr>\n",
       "      <th>0</th>\n",
       "      <td>Jeep Compass</td>\n",
       "      <td>2019</td>\n",
       "      <td>Diesel</td>\n",
       "      <td>70007</td>\n",
       "      <td>1956</td>\n",
       "      <td>1</td>\n",
       "      <td>Automatic</td>\n",
       "      <td>16.30</td>\n",
       "      <td>5</td>\n",
       "      <td>2405000</td>\n",
       "      <td>Jeep</td>\n",
       "    </tr>\n",
       "    <tr>\n",
       "      <th>1</th>\n",
       "      <td>Hyundai i20</td>\n",
       "      <td>2021</td>\n",
       "      <td>Petrol</td>\n",
       "      <td>16670</td>\n",
       "      <td>1197</td>\n",
       "      <td>1</td>\n",
       "      <td>Manual</td>\n",
       "      <td>21.00</td>\n",
       "      <td>5</td>\n",
       "      <td>897000</td>\n",
       "      <td>Hyundai</td>\n",
       "    </tr>\n",
       "    <tr>\n",
       "      <th>2</th>\n",
       "      <td>Hyundai Grand</td>\n",
       "      <td>2015</td>\n",
       "      <td>Petrol</td>\n",
       "      <td>62393</td>\n",
       "      <td>1197</td>\n",
       "      <td>2</td>\n",
       "      <td>Automatic</td>\n",
       "      <td>18.90</td>\n",
       "      <td>5</td>\n",
       "      <td>468000</td>\n",
       "      <td>Hyundai</td>\n",
       "    </tr>\n",
       "    <tr>\n",
       "      <th>3</th>\n",
       "      <td>Hyundai i10</td>\n",
       "      <td>2014</td>\n",
       "      <td>Petrol</td>\n",
       "      <td>42328</td>\n",
       "      <td>1086</td>\n",
       "      <td>1</td>\n",
       "      <td>Manual</td>\n",
       "      <td>19.81</td>\n",
       "      <td>5</td>\n",
       "      <td>342000</td>\n",
       "      <td>Hyundai</td>\n",
       "    </tr>\n",
       "    <tr>\n",
       "      <th>4</th>\n",
       "      <td>Tata Nano</td>\n",
       "      <td>2017</td>\n",
       "      <td>Petrol</td>\n",
       "      <td>12039</td>\n",
       "      <td>624</td>\n",
       "      <td>1</td>\n",
       "      <td>Manual</td>\n",
       "      <td>25.40</td>\n",
       "      <td>4</td>\n",
       "      <td>193000</td>\n",
       "      <td>Tata</td>\n",
       "    </tr>\n",
       "  </tbody>\n",
       "</table>\n",
       "</div>"
      ],
      "text/plain": [
       "            Name  Year    Fuel    KMS  Engine  Owners Transmission  Mileage  \\\n",
       "0   Jeep Compass  2019  Diesel  70007    1956       1    Automatic    16.30   \n",
       "1    Hyundai i20  2021  Petrol  16670    1197       1       Manual    21.00   \n",
       "2  Hyundai Grand  2015  Petrol  62393    1197       2    Automatic    18.90   \n",
       "3    Hyundai i10  2014  Petrol  42328    1086       1       Manual    19.81   \n",
       "4      Tata Nano  2017  Petrol  12039     624       1       Manual    25.40   \n",
       "\n",
       "   Seats    Price  Company  \n",
       "0      5  2405000     Jeep  \n",
       "1      5   897000  Hyundai  \n",
       "2      5   468000  Hyundai  \n",
       "3      5   342000  Hyundai  \n",
       "4      4   193000     Tata  "
      ]
     },
     "execution_count": 29,
     "metadata": {},
     "output_type": "execute_result"
    }
   ],
   "source": [
    "df_new.head()"
   ]
  },
  {
   "cell_type": "code",
   "execution_count": 30,
   "id": "1fa7013f-5600-4ed3-bbdf-fe84e4e5ec37",
   "metadata": {},
   "outputs": [
    {
     "name": "stdout",
     "output_type": "stream",
     "text": [
      "Shape before process= (23536, 12)\n",
      "Shape After process= (22185, 11)\n",
      "Total 1351 rows and 1 cols removed\n"
     ]
    }
   ],
   "source": [
    "print(\"Shape before process=\",df.shape)\n",
    "print(\"Shape After process=\",df_new.shape)\n",
    "diff=df.shape[0]-df_new.shape[0]\n",
    "print(\"Total {} rows and {} cols removed\".format(diff,df.shape[1]-df_new.shape[1]))"
   ]
  },
  {
   "cell_type": "code",
   "execution_count": 31,
   "id": "88976374-ea83-4c6c-b535-526318ebfc03",
   "metadata": {},
   "outputs": [
    {
     "data": {
      "text/plain": [
       "<AxesSubplot:ylabel='Price'>"
      ]
     },
     "execution_count": 31,
     "metadata": {},
     "output_type": "execute_result"
    },
    {
     "data": {
      "image/png": "[encoded data removed]",
      "text/plain": [
       "<Figure size 432x288 with 1 Axes>"
      ]
     },
     "metadata": {
      "needs_background": "light"
     },
     "output_type": "display_data"
    }
   ],
   "source": [
    "sns.scatterplot(x=df_new.index,y=df_new['Price'])"
   ]
  },
  {
   "cell_type": "code",
   "execution_count": null,
   "id": "6806816f-ccc8-4eeb-9eb4-d94ec5f09370",
   "metadata": {},
   "outputs": [],
   "source": []
  },
  {
   "cell_type": "code",
   "execution_count": 32,
   "id": "88d26f10-f953-4332-bdbb-32dde8b92dad",
   "metadata": {},
   "outputs": [],
   "source": [
    "# X(Input) and y(Output)\n",
    "X = df_new.drop('Price',axis=1)\n",
    "y = df_new['Price']"
   ]
  },
  {
   "cell_type": "code",
   "execution_count": 33,
   "id": "8ef1a3c9-24ed-4af9-b09e-15a8bfc0ab38",
   "metadata": {},
   "outputs": [],
   "source": [
    "from sklearn.model_selection import train_test_split\n",
    "X_train, X_test, y_train, y_test = train_test_split(X,y,test_size=0.2)"
   ]
  },
  {
   "cell_type": "code",
   "execution_count": 34,
   "id": "4f33fbe9-915e-4318-96c3-1cc53bb0c748",
   "metadata": {},
   "outputs": [],
   "source": [
    "from sklearn import linear_model\n",
    "from sklearn.metrics import r2_score,mean_squared_error\n",
    "from sklearn.preprocessing import OneHotEncoder\n",
    "from sklearn.compose import make_column_transformer\n",
    "from sklearn.pipeline import make_pipeline"
   ]
  },
  {
   "cell_type": "code",
   "execution_count": 35,
   "id": "beb111bf-c6aa-4d5b-86cd-a9bee4d07a51",
   "metadata": {},
   "outputs": [
    {
     "data": {
      "text/plain": [
       "OneHotEncoder()"
      ]
     },
     "execution_count": 35,
     "metadata": {},
     "output_type": "execute_result"
    }
   ],
   "source": [
    "enc_oh = OneHotEncoder()\n",
    "enc_oh.fit(X[['Name','Fuel','Transmission','Company']])"
   ]
  },
  {
   "cell_type": "code",
   "execution_count": 36,
   "id": "95920d62-48aa-4d45-807c-7ddb2cf273fc",
   "metadata": {},
   "outputs": [],
   "source": [
    "transform_col = make_column_transformer((OneHotEncoder(categories=enc_oh.categories_),['Name','Fuel','Transmission','Company']),\n",
    "                                       remainder='passthrough')"
   ]
  },
  {
   "cell_type": "code",
   "execution_count": 37,
   "id": "f2fb2173-b7ec-442f-9236-510f785bbc18",
   "metadata": {},
   "outputs": [],
   "source": [
    "linearreg = linear_model.LinearRegression()"
   ]
  },
  {
   "cell_type": "code",
   "execution_count": 38,
   "id": "76df8f24-be0f-4f30-98a3-06be1741f4dd",
   "metadata": {},
   "outputs": [],
   "source": [
    "pipe = make_pipeline(transform_col,linearreg)"
   ]
  },
  {
   "cell_type": "code",
   "execution_count": 39,
   "id": "95d46c3f-92ce-4157-9014-3203afd5fe19",
   "metadata": {},
   "outputs": [
    {
     "data": {
      "text/plain": [
       "Pipeline(steps=[('columntransformer',\n",
       "                 ColumnTransformer(remainder='passthrough',\n",
       "                                   transformers=[('onehotencoder',\n",
       "                                                  OneHotEncoder(categories=[array(['Ambassador Avigo', 'Ambassador Classic', 'Audi A3', 'Audi A4',\n",
       "       'Audi A6', 'Audi A8', 'Audi Q3', 'Audi Q5', 'Audi Q7', 'Audi S4',\n",
       "       'Audi TT', 'BMW 1', 'BMW 3', 'BMW 5', 'BMW 6', 'BMW 7', 'BMW X1',\n",
       "       'BMW X3', 'BMW X5', 'BMW X6', 'Chevrolet Aveo', 'Chev...\n",
       "                                                                            array(['Ambassador', 'Audi', 'BMW', 'Chevrolet', 'DC', 'Datsun', 'Fiat',\n",
       "       'Force', 'Ford', 'Honda', 'Hyundai', 'Isuzu', 'Jaguar', 'Jeep',\n",
       "       'Kia', 'Land', 'MG', 'Mahindra', 'Maruti', 'Mercedes-Benz', 'Mini',\n",
       "       'Mitsubishi', 'Nissan', 'Porsche', 'Premier', 'Renault', 'Skoda',\n",
       "       'Tata', 'Toyota', 'Volkswagen', 'Volvo'], dtype=object)]),\n",
       "                                                  ['Name', 'Fuel',\n",
       "                                                   'Transmission',\n",
       "                                                   'Company'])])),\n",
       "                ('linearregression', LinearRegression())])"
      ]
     },
     "execution_count": 39,
     "metadata": {},
     "output_type": "execute_result"
    }
   ],
   "source": [
    "pipe.fit(X_train,y_train)"
   ]
  },
  {
   "cell_type": "code",
   "execution_count": 40,
   "id": "7e273fb7-c215-4644-b702-213676b86e08",
   "metadata": {},
   "outputs": [],
   "source": [
    "pred = pipe.predict(X_test)"
   ]
  },
  {
   "cell_type": "code",
   "execution_count": 41,
   "id": "6a84065e-c78c-431d-ac94-a1fd6b2c38d3",
   "metadata": {},
   "outputs": [
    {
     "data": {
      "text/plain": [
       "0.8194767121915993"
      ]
     },
     "execution_count": 41,
     "metadata": {},
     "output_type": "execute_result"
    }
   ],
   "source": [
    "r2_score(y_test,pred)"
   ]
  },
  {
   "cell_type": "code",
   "execution_count": 42,
   "id": "80fb37a7-4b0f-4fa1-9dd0-b761be310baf",
   "metadata": {},
   "outputs": [
    {
     "name": "stdout",
     "output_type": "stream",
     "text": [
      "0.7952559215737554 0\n",
      "0.8086838885575265 1\n",
      "0.7976459344504951 2\n",
      "0.8122023065373671 3\n",
      "0.8013975508810717 4\n",
      "0.8284968737642862 5\n",
      "0.8019124343409381 6\n",
      "0.8181620346970284 7\n",
      "0.8193878913046064 8\n",
      "0.8156485170509653 9\n"
     ]
    }
   ],
   "source": [
    "for i in range(10):\n",
    "    X_train, X_test, y_train, y_test=train_test_split(X,y,test_size=0.2)\n",
    "    linearreg = linear_model.LinearRegression()\n",
    "    pipe = make_pipeline(transform_col,linearreg)\n",
    "    pipe.fit(X_train,y_train)\n",
    "    pred = pipe.predict(X_test)\n",
    "    print(r2_score(y_test,pred), i)"
   ]
  },
  {
   "cell_type": "code",
   "execution_count": 43,
   "id": "ee22134f-cb47-4878-9bb8-c94bad9a2776",
   "metadata": {},
   "outputs": [
    {
     "data": {
      "text/plain": [
       "211696.76717569743"
      ]
     },
     "execution_count": 43,
     "metadata": {},
     "output_type": "execute_result"
    }
   ],
   "source": [
    "mean_squared_error(y_test,pred,squared=False)"
   ]
  },
  {
   "cell_type": "code",
   "execution_count": null,
   "id": "1a38c602-0088-49be-84ed-3e98408c721a",
   "metadata": {},
   "outputs": [],
   "source": []
  },
  {
   "cell_type": "code",
   "execution_count": null,
   "id": "e46d80d4-46f7-46b5-9c40-1d436f5534f1",
   "metadata": {},
   "outputs": [],
   "source": []
  },
  {
   "cell_type": "code",
   "execution_count": 44,
   "id": "f5280a27-ad32-414b-a6fd-d2ae8639f9f6",
   "metadata": {},
   "outputs": [],
   "source": [
    "from sklearn import tree\n",
    "dt = tree.DecisionTreeRegressor()"
   ]
  },
  {
   "cell_type": "code",
   "execution_count": 45,
   "id": "2c9bec17-6c34-4d69-aeb6-6b65bc8aacb8",
   "metadata": {},
   "outputs": [],
   "source": [
    "pipe = make_pipeline(transform_col,dt)"
   ]
  },
  {
   "cell_type": "code",
   "execution_count": 46,
   "id": "8e536ba7-59dc-43d1-a949-df93b4f19fba",
   "metadata": {},
   "outputs": [
    {
     "data": {
      "text/plain": [
       "Pipeline(steps=[('columntransformer',\n",
       "                 ColumnTransformer(remainder='passthrough',\n",
       "                                   transformers=[('onehotencoder',\n",
       "                                                  OneHotEncoder(categories=[array(['Ambassador Avigo', 'Ambassador Classic', 'Audi A3', 'Audi A4',\n",
       "       'Audi A6', 'Audi A8', 'Audi Q3', 'Audi Q5', 'Audi Q7', 'Audi S4',\n",
       "       'Audi TT', 'BMW 1', 'BMW 3', 'BMW 5', 'BMW 6', 'BMW 7', 'BMW X1',\n",
       "       'BMW X3', 'BMW X5', 'BMW X6', 'Chevrolet Aveo', 'Chev...\n",
       "                                                                            array(['Ambassador', 'Audi', 'BMW', 'Chevrolet', 'DC', 'Datsun', 'Fiat',\n",
       "       'Force', 'Ford', 'Honda', 'Hyundai', 'Isuzu', 'Jaguar', 'Jeep',\n",
       "       'Kia', 'Land', 'MG', 'Mahindra', 'Maruti', 'Mercedes-Benz', 'Mini',\n",
       "       'Mitsubishi', 'Nissan', 'Porsche', 'Premier', 'Renault', 'Skoda',\n",
       "       'Tata', 'Toyota', 'Volkswagen', 'Volvo'], dtype=object)]),\n",
       "                                                  ['Name', 'Fuel',\n",
       "                                                   'Transmission',\n",
       "                                                   'Company'])])),\n",
       "                ('decisiontreeregressor', DecisionTreeRegressor())])"
      ]
     },
     "execution_count": 46,
     "metadata": {},
     "output_type": "execute_result"
    }
   ],
   "source": [
    "fitted = pipe.fit(X_train,y_train)\n",
    "fitted"
   ]
  },
  {
   "cell_type": "code",
   "execution_count": 47,
   "id": "c6b408af-e15b-469c-8383-edcd5b206028",
   "metadata": {},
   "outputs": [],
   "source": [
    "pred = pipe.predict(X_test)"
   ]
  },
  {
   "cell_type": "code",
   "execution_count": 48,
   "id": "f9d2ea24-5fae-40dd-9e89-ad5a33dd108f",
   "metadata": {},
   "outputs": [
    {
     "data": {
      "text/plain": [
       "0.8342605057070918"
      ]
     },
     "execution_count": 48,
     "metadata": {},
     "output_type": "execute_result"
    }
   ],
   "source": [
    "r2_score(y_test,pred)"
   ]
  },
  {
   "cell_type": "code",
   "execution_count": 49,
   "id": "a3ac2dae-4e4b-4315-898a-cf378c528bd6",
   "metadata": {},
   "outputs": [
    {
     "data": {
      "text/plain": [
       "200726.13065723225"
      ]
     },
     "execution_count": 49,
     "metadata": {},
     "output_type": "execute_result"
    }
   ],
   "source": [
    "mean_squared_error(y_test,pred,squared=False)"
   ]
  },
  {
   "cell_type": "code",
   "execution_count": 117,
   "id": "3891336d-48f7-43dd-b55a-0f5d0259eef4",
   "metadata": {},
   "outputs": [],
   "source": [
    "from sklearn.ensemble import RandomForestRegressor\n",
    "RFR = RandomForestRegressor(n_estimators=180,random_state=0, min_samples_leaf=1, max_features=0.5, n_jobs=-1, oob_score=True)"
   ]
  },
  {
   "cell_type": "code",
   "execution_count": 118,
   "id": "5f09255a-de79-4922-9584-cca963477706",
   "metadata": {},
   "outputs": [],
   "source": [
    "pipe = make_pipeline(transform_col,RFR)"
   ]
  },
  {
   "cell_type": "code",
   "execution_count": 119,
   "id": "db13692c-62b3-4e35-8f39-8981daf3f0c1",
   "metadata": {},
   "outputs": [],
   "source": [
    "pipe.fit(X_train,y_train)\n",
    "pred = pipe.predict(X_test)"
   ]
  },
  {
   "cell_type": "code",
   "execution_count": 120,
   "id": "15759763-997c-4571-b612-7c0d113970e1",
   "metadata": {},
   "outputs": [
    {
     "data": {
      "text/plain": [
       "0.8769633519607783"
      ]
     },
     "execution_count": 120,
     "metadata": {},
     "output_type": "execute_result"
    }
   ],
   "source": [
    "r2_score(y_test,pred)"
   ]
  },
  {
   "cell_type": "code",
   "execution_count": 121,
   "id": "5ec9bbe5-a2fd-47eb-93f8-9fe454cdb8ad",
   "metadata": {},
   "outputs": [
    {
     "data": {
      "text/plain": [
       "179101.7516870957"
      ]
     },
     "execution_count": 121,
     "metadata": {},
     "output_type": "execute_result"
    }
   ],
   "source": [
    "mean_squared_error(y_test,pred,squared=False)"
   ]
  },
  {
   "cell_type": "code",
   "execution_count": 53,
   "id": "2ec50fb5-26fd-4a99-bf0a-1ce11a169783",
   "metadata": {},
   "outputs": [],
   "source": [
    "scores=[]\n",
    "for i in range(5):\n",
    "    X_train, X_test, y_train, y_test = train_test_split(X,y,test_size=0.2,random_state=i)\n",
    "    RFR = RandomForestRegressor(n_estimators=180, min_samples_leaf=1, max_features=0.5, n_jobs=-1, oob_score=True)\n",
    "    pipe = make_pipeline(transform_col,RFR)\n",
    "    pipe.fit(X_train,y_train)\n",
    "    pred = pipe.predict(X_test)\n",
    "    scores.append(r2_score(y_test,pred))"
   ]
  },
  {
   "cell_type": "code",
   "execution_count": 54,
   "id": "79bfc085-3769-4c0f-a310-c60f914b124e",
   "metadata": {},
   "outputs": [
    {
     "data": {
      "text/plain": [
       "[0.8855556535851756,\n",
       " 0.8867619874228363,\n",
       " 0.8962250667998937,\n",
       " 0.8831723024782578,\n",
       " 0.8787521037963869]"
      ]
     },
     "execution_count": 54,
     "metadata": {},
     "output_type": "execute_result"
    }
   ],
   "source": [
    "np.argmax(scores)\n",
    "scores"
   ]
  },
  {
   "cell_type": "code",
   "execution_count": 55,
   "id": "86385093-1df8-439b-b30d-3322957c115c",
   "metadata": {},
   "outputs": [
    {
     "data": {
      "text/plain": [
       "0.8961043832295278"
      ]
     },
     "execution_count": 55,
     "metadata": {},
     "output_type": "execute_result"
    }
   ],
   "source": [
    "X_train, X_test, y_train, y_test = train_test_split(X,y,test_size=0.2,random_state=np.argmax(scores))\n",
    "RFR = RandomForestRegressor(n_estimators=180, min_samples_leaf=1, max_features=0.5, n_jobs=-1, oob_score=True)\n",
    "pipe = make_pipeline(transform_col,RFR)\n",
    "pipe.fit(X_train,y_train)\n",
    "pred = pipe.predict(X_test)\n",
    "r2_score(y_test,pred)"
   ]
  },
  {
   "cell_type": "code",
   "execution_count": 56,
   "id": "9e5790d7-0846-4742-b525-cbf0b0913a64",
   "metadata": {},
   "outputs": [],
   "source": [
    "import pickle"
   ]
  },
  {
   "cell_type": "code",
   "execution_count": 57,
   "id": "2e09876b-8aff-40d4-bf3b-ecdba5725e57",
   "metadata": {},
   "outputs": [],
   "source": [
    "pickle.dump(pipe,open('./UpdatedRandomForestModel/RandomForestRegressor.pkl','wb'))"
   ]
  },
  {
   "cell_type": "code",
   "execution_count": 62,
   "id": "56fdd03b-27e7-4414-8bbf-89422d1b97af",
   "metadata": {},
   "outputs": [
    {
     "data": {
      "text/plain": [
       "array([868075.])"
      ]
     },
     "execution_count": 62,
     "metadata": {},
     "output_type": "execute_result"
    }
   ],
   "source": [
    "pipe.predict(pd.DataFrame([['Hyundai i20',2021,'Petrol',16670,1197,1,'Manual',21.00,5,'Hyundai']], columns=['Name','Year','Fuel','KMS','Engine','Owners','Transmission','Mileage','Seats','Company']))"
   ]
  },
  {
   "cell_type": "code",
   "execution_count": null,
   "id": "3f2094c5-7f84-4c76-8d17-5eee6f3da470",
   "metadata": {},
   "outputs": [],
   "source": []
  },
  {
   "cell_type": "code",
   "execution_count": null,
   "id": "eb0fe67a-dde9-405c-88f0-59a97e65c5c4",
   "metadata": {},
   "outputs": [],
   "source": []
  }
 ],
 "metadata": {
  "kernelspec": {
   "display_name": "Python 3 (ipykernel)",
   "language": "python",
   "name": "python3"
  },
  "language_info": {
   "codemirror_mode": {
    "name": "ipython",
    "version": 3
   },
   "file_extension": ".py",
   "mimetype": "text/x-python",
   "name": "python",
   "nbconvert_exporter": "python",
   "pygments_lexer": "ipython3",
   "version": "3.9.1"
  }
 },
 "nbformat": 4,
 "nbformat_minor": 5
}
