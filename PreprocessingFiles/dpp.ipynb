{
 "cells": [
  {
   "cell_type": "code",
   "execution_count": 1,
   "id": "957d2450-d7fe-48ec-837f-4dd7749d6fc6",
   "metadata": {},
   "outputs": [],
   "source": [
    "import pandas as pd\n",
    "import numpy as np"
   ]
  },
  {
   "cell_type": "code",
   "execution_count": 6,
   "id": "2b194d10-ff09-41fd-adcf-f61ee13e48a8",
   "metadata": {},
   "outputs": [
    {
     "data": {
      "text/html": [
       "<div>\n",
       "<style scoped>\n",
       "    .dataframe tbody tr th:only-of-type {\n",
       "        vertical-align: middle;\n",
       "    }\n",
       "\n",
       "    .dataframe tbody tr th {\n",
       "        vertical-align: top;\n",
       "    }\n",
       "\n",
       "    .dataframe thead th {\n",
       "        text-align: right;\n",
       "    }\n",
       "</style>\n",
       "<table border=\"1\" class=\"dataframe\">\n",
       "  <thead>\n",
       "    <tr style=\"text-align: right;\">\n",
       "      <th></th>\n",
       "      <th>Name</th>\n",
       "      <th>Price</th>\n",
       "      <th>Year</th>\n",
       "      <th>Fuel</th>\n",
       "      <th>KMS</th>\n",
       "      <th>Engine</th>\n",
       "      <th>Owners</th>\n",
       "      <th>Transmission</th>\n",
       "      <th>Mileage</th>\n",
       "      <th>Seats</th>\n",
       "      <th>Color</th>\n",
       "      <th>GearBox</th>\n",
       "    </tr>\n",
       "  </thead>\n",
       "  <tbody>\n",
       "    <tr>\n",
       "      <th>0</th>\n",
       "      <td>2019 Jeep Compass Trailhawk</td>\n",
       "      <td>24,05,000</td>\n",
       "      <td>2019.0</td>\n",
       "      <td>Diesel</td>\n",
       "      <td>70,007 Kms</td>\n",
       "      <td>1956 cc</td>\n",
       "      <td>1st Owner</td>\n",
       "      <td>Automatic</td>\n",
       "      <td>16.3 kmpl</td>\n",
       "      <td>5.0</td>\n",
       "      <td>Brilliant Black</td>\n",
       "      <td>9-Speed</td>\n",
       "    </tr>\n",
       "    <tr>\n",
       "      <th>1</th>\n",
       "      <td>2021 Hyundai i20</td>\n",
       "      <td>8,97,000</td>\n",
       "      <td>2021.0</td>\n",
       "      <td>Petrol</td>\n",
       "      <td>16,670 Kms</td>\n",
       "      <td>1197 cc</td>\n",
       "      <td>1st Owner</td>\n",
       "      <td>Manual</td>\n",
       "      <td>21 kmpl</td>\n",
       "      <td>5.0</td>\n",
       "      <td>Typhoon Silver</td>\n",
       "      <td>5 Speed</td>\n",
       "    </tr>\n",
       "    <tr>\n",
       "      <th>2</th>\n",
       "      <td>2015 Hyundai Grand i10</td>\n",
       "      <td>4,68,000</td>\n",
       "      <td>2015.0</td>\n",
       "      <td>Petrol</td>\n",
       "      <td>62,393 Kms</td>\n",
       "      <td>1197 cc</td>\n",
       "      <td>2nd Owner</td>\n",
       "      <td>Automatic</td>\n",
       "      <td>18.9 kmpl</td>\n",
       "      <td>5.0</td>\n",
       "      <td>Silver</td>\n",
       "      <td>4 Speed</td>\n",
       "    </tr>\n",
       "    <tr>\n",
       "      <th>3</th>\n",
       "      <td>2014 Hyundai i10</td>\n",
       "      <td>3,42,000</td>\n",
       "      <td>2014.0</td>\n",
       "      <td>Petrol</td>\n",
       "      <td>42,328 Kms</td>\n",
       "      <td>1086 cc</td>\n",
       "      <td>1st Owner</td>\n",
       "      <td>Manual</td>\n",
       "      <td>19.81 kmpl</td>\n",
       "      <td>5.0</td>\n",
       "      <td>Wine Red</td>\n",
       "      <td>5 Speed</td>\n",
       "    </tr>\n",
       "    <tr>\n",
       "      <th>4</th>\n",
       "      <td>2017 Tata Nano</td>\n",
       "      <td>1,93,000</td>\n",
       "      <td>2017.0</td>\n",
       "      <td>Petrol</td>\n",
       "      <td>12,039 Kms</td>\n",
       "      <td>624 cc</td>\n",
       "      <td>1st Owner</td>\n",
       "      <td>Manual</td>\n",
       "      <td>25.4 kmpl</td>\n",
       "      <td>4.0</td>\n",
       "      <td>Damson Purple</td>\n",
       "      <td>4 Speed</td>\n",
       "    </tr>\n",
       "  </tbody>\n",
       "</table>\n",
       "</div>"
      ],
      "text/plain": [
       "                          Name      Price    Year    Fuel         KMS  \\\n",
       "0  2019 Jeep Compass Trailhawk  24,05,000  2019.0  Diesel  70,007 Kms   \n",
       "1             2021 Hyundai i20   8,97,000  2021.0  Petrol  16,670 Kms   \n",
       "2       2015 Hyundai Grand i10   4,68,000  2015.0  Petrol  62,393 Kms   \n",
       "3             2014 Hyundai i10   3,42,000  2014.0  Petrol  42,328 Kms   \n",
       "4               2017 Tata Nano   1,93,000  2017.0  Petrol  12,039 Kms   \n",
       "\n",
       "    Engine     Owners Transmission     Mileage  Seats            Color  \\\n",
       "0  1956 cc  1st Owner    Automatic   16.3 kmpl    5.0  Brilliant Black   \n",
       "1  1197 cc  1st Owner       Manual     21 kmpl    5.0   Typhoon Silver   \n",
       "2  1197 cc  2nd Owner    Automatic   18.9 kmpl    5.0           Silver   \n",
       "3  1086 cc  1st Owner       Manual  19.81 kmpl    5.0         Wine Red   \n",
       "4   624 cc  1st Owner       Manual   25.4 kmpl    4.0    Damson Purple   \n",
       "\n",
       "   GearBox  \n",
       "0  9-Speed  \n",
       "1  5 Speed  \n",
       "2  4 Speed  \n",
       "3  5 Speed  \n",
       "4  4 Speed  "
      ]
     },
     "execution_count": 6,
     "metadata": {},
     "output_type": "execute_result"
    }
   ],
   "source": [
    "df = pd.read_csv('./punecars.csv')\n",
    "df.head()"
   ]
  },
  {
   "cell_type": "code",
   "execution_count": 4,
   "id": "48573530-f774-4c41-93f0-4b14b3d473af",
   "metadata": {},
   "outputs": [
    {
     "data": {
      "text/plain": [
       "(1022, 12)"
      ]
     },
     "execution_count": 4,
     "metadata": {},
     "output_type": "execute_result"
    }
   ],
   "source": [
    "df.shape"
   ]
  },
  {
   "cell_type": "code",
   "execution_count": 5,
   "id": "ae05f760-b254-425e-9d76-fe14d7e4e402",
   "metadata": {},
   "outputs": [
    {
     "name": "stdout",
     "output_type": "stream",
     "text": [
      "<class 'pandas.core.frame.DataFrame'>\n",
      "RangeIndex: 1022 entries, 0 to 1021\n",
      "Data columns (total 12 columns):\n",
      " #   Column        Non-Null Count  Dtype  \n",
      "---  ------        --------------  -----  \n",
      " 0   Name          1022 non-null   object \n",
      " 1   Price         1021 non-null   object \n",
      " 2   Year          1010 non-null   float64\n",
      " 3   Fuel          1021 non-null   object \n",
      " 4   KMS           1021 non-null   object \n",
      " 5   Engine        1018 non-null   object \n",
      " 6   Owners        1021 non-null   object \n",
      " 7   Transmission  1021 non-null   object \n",
      " 8   Mileage       1011 non-null   object \n",
      " 9   Seats         1016 non-null   float64\n",
      " 10  Color         958 non-null    object \n",
      " 11  GearBox       1007 non-null   object \n",
      "dtypes: float64(2), object(10)\n",
      "memory usage: 95.9+ KB\n"
     ]
    }
   ],
   "source": [
    "df.info()"
   ]
  },
  {
   "cell_type": "markdown",
   "id": "e4e6f686-8e6a-4555-8346-6fcb28798529",
   "metadata": {
    "jp-MarkdownHeadingCollapsed": true,
    "tags": []
   },
   "source": [
    "### Dealing with Missing Values"
   ]
  },
  {
   "cell_type": "code",
   "execution_count": null,
   "id": "be303ba7-89f8-4324-93a7-79047b2fbb2c",
   "metadata": {},
   "outputs": [],
   "source": [
    "df[df.isnull().any(axis=1)]"
   ]
  },
  {
   "cell_type": "code",
   "execution_count": null,
   "id": "530f667f-c539-4d3c-a175-f552ab8628b1",
   "metadata": {},
   "outputs": [],
   "source": [
    "missing_values = df.isnull().sum()\n",
    "missing_values"
   ]
  },
  {
   "cell_type": "code",
   "execution_count": 221,
   "id": "8865a602-13de-4e5d-bc0e-24cb20d21395",
   "metadata": {},
   "outputs": [
    {
     "data": {
      "text/plain": [
       "0.0"
      ]
     },
     "execution_count": 221,
     "metadata": {},
     "output_type": "execute_result"
    }
   ],
   "source": [
    "totalcells = np.product(df.shape)\n",
    "totalmissing = missing_values.sum()\n",
    "\n",
    "percent_missing = (totalmissing/totalcells) * 100\n",
    "percent_missing"
   ]
  },
  {
   "cell_type": "code",
   "execution_count": 8,
   "id": "7dfa195f-23e9-404c-81e4-3800cd96943a",
   "metadata": {},
   "outputs": [
    {
     "data": {
      "text/html": [
       "<div>\n",
       "<style scoped>\n",
       "    .dataframe tbody tr th:only-of-type {\n",
       "        vertical-align: middle;\n",
       "    }\n",
       "\n",
       "    .dataframe tbody tr th {\n",
       "        vertical-align: top;\n",
       "    }\n",
       "\n",
       "    .dataframe thead th {\n",
       "        text-align: right;\n",
       "    }\n",
       "</style>\n",
       "<table border=\"1\" class=\"dataframe\">\n",
       "  <thead>\n",
       "    <tr style=\"text-align: right;\">\n",
       "      <th></th>\n",
       "      <th>Name</th>\n",
       "      <th>Price</th>\n",
       "      <th>Year</th>\n",
       "      <th>Fuel</th>\n",
       "      <th>KMS</th>\n",
       "      <th>Engine</th>\n",
       "      <th>Owners</th>\n",
       "      <th>Transmission</th>\n",
       "      <th>Mileage</th>\n",
       "      <th>Seats</th>\n",
       "      <th>Color</th>\n",
       "      <th>GearBox</th>\n",
       "    </tr>\n",
       "  </thead>\n",
       "  <tbody>\n",
       "    <tr>\n",
       "      <th>0</th>\n",
       "      <td>2019 Jeep Compass Trailhawk</td>\n",
       "      <td>24,05,000</td>\n",
       "      <td>2019.0</td>\n",
       "      <td>Diesel</td>\n",
       "      <td>70,007 Kms</td>\n",
       "      <td>1956 cc</td>\n",
       "      <td>1st Owner</td>\n",
       "      <td>Automatic</td>\n",
       "      <td>16.3 kmpl</td>\n",
       "      <td>5.0</td>\n",
       "      <td>Brilliant Black</td>\n",
       "      <td>9-Speed</td>\n",
       "    </tr>\n",
       "    <tr>\n",
       "      <th>1</th>\n",
       "      <td>2021 Hyundai i20</td>\n",
       "      <td>8,97,000</td>\n",
       "      <td>2021.0</td>\n",
       "      <td>Petrol</td>\n",
       "      <td>16,670 Kms</td>\n",
       "      <td>1197 cc</td>\n",
       "      <td>1st Owner</td>\n",
       "      <td>Manual</td>\n",
       "      <td>21 kmpl</td>\n",
       "      <td>5.0</td>\n",
       "      <td>Typhoon Silver</td>\n",
       "      <td>5 Speed</td>\n",
       "    </tr>\n",
       "    <tr>\n",
       "      <th>2</th>\n",
       "      <td>2015 Hyundai Grand i10</td>\n",
       "      <td>4,68,000</td>\n",
       "      <td>2015.0</td>\n",
       "      <td>Petrol</td>\n",
       "      <td>62,393 Kms</td>\n",
       "      <td>1197 cc</td>\n",
       "      <td>2nd Owner</td>\n",
       "      <td>Automatic</td>\n",
       "      <td>18.9 kmpl</td>\n",
       "      <td>5.0</td>\n",
       "      <td>Silver</td>\n",
       "      <td>4 Speed</td>\n",
       "    </tr>\n",
       "    <tr>\n",
       "      <th>3</th>\n",
       "      <td>2014 Hyundai i10</td>\n",
       "      <td>3,42,000</td>\n",
       "      <td>2014.0</td>\n",
       "      <td>Petrol</td>\n",
       "      <td>42,328 Kms</td>\n",
       "      <td>1086 cc</td>\n",
       "      <td>1st Owner</td>\n",
       "      <td>Manual</td>\n",
       "      <td>19.81 kmpl</td>\n",
       "      <td>5.0</td>\n",
       "      <td>Wine Red</td>\n",
       "      <td>5 Speed</td>\n",
       "    </tr>\n",
       "    <tr>\n",
       "      <th>4</th>\n",
       "      <td>2017 Tata Nano</td>\n",
       "      <td>1,93,000</td>\n",
       "      <td>2017.0</td>\n",
       "      <td>Petrol</td>\n",
       "      <td>12,039 Kms</td>\n",
       "      <td>624 cc</td>\n",
       "      <td>1st Owner</td>\n",
       "      <td>Manual</td>\n",
       "      <td>25.4 kmpl</td>\n",
       "      <td>4.0</td>\n",
       "      <td>Damson Purple</td>\n",
       "      <td>4 Speed</td>\n",
       "    </tr>\n",
       "    <tr>\n",
       "      <th>...</th>\n",
       "      <td>...</td>\n",
       "      <td>...</td>\n",
       "      <td>...</td>\n",
       "      <td>...</td>\n",
       "      <td>...</td>\n",
       "      <td>...</td>\n",
       "      <td>...</td>\n",
       "      <td>...</td>\n",
       "      <td>...</td>\n",
       "      <td>...</td>\n",
       "      <td>...</td>\n",
       "      <td>...</td>\n",
       "    </tr>\n",
       "    <tr>\n",
       "      <th>1017</th>\n",
       "      <td>Maruti Alto LXi</td>\n",
       "      <td>1.6 Lakh*</td>\n",
       "      <td>2009.0</td>\n",
       "      <td>Petrol</td>\n",
       "      <td>50,000 kms</td>\n",
       "      <td>796 CC</td>\n",
       "      <td>First Owner</td>\n",
       "      <td>Manual</td>\n",
       "      <td>19.7 kmpl</td>\n",
       "      <td>5.0</td>\n",
       "      <td></td>\n",
       "      <td>5 Speed</td>\n",
       "    </tr>\n",
       "    <tr>\n",
       "      <th>1018</th>\n",
       "      <td>Maruti Ertiga VDI</td>\n",
       "      <td>5.5 Lakh*</td>\n",
       "      <td>2014.0</td>\n",
       "      <td>Diesel</td>\n",
       "      <td>2,25,000 kms</td>\n",
       "      <td>1248 CC</td>\n",
       "      <td>First Owner</td>\n",
       "      <td>Manual</td>\n",
       "      <td>20.77 kmpl</td>\n",
       "      <td>7.0</td>\n",
       "      <td></td>\n",
       "      <td>5 Speed</td>\n",
       "    </tr>\n",
       "    <tr>\n",
       "      <th>1019</th>\n",
       "      <td>Volkswagen Vento IPL II Petrol Highline AT</td>\n",
       "      <td>3.5 Lakh*</td>\n",
       "      <td>2011.0</td>\n",
       "      <td>Petrol</td>\n",
       "      <td>50,000 kms</td>\n",
       "      <td>1598 CC</td>\n",
       "      <td>Fourth &amp; Above Owner</td>\n",
       "      <td>Automatic</td>\n",
       "      <td>14.8 kmpl</td>\n",
       "      <td>5.0</td>\n",
       "      <td></td>\n",
       "      <td>Six Speed Automatic Transmission</td>\n",
       "    </tr>\n",
       "    <tr>\n",
       "      <th>1020</th>\n",
       "      <td>Toyota Corolla Altis G</td>\n",
       "      <td>2 Lakh*</td>\n",
       "      <td>2008.0</td>\n",
       "      <td>Petrol</td>\n",
       "      <td>90,000 kms</td>\n",
       "      <td>1798 CC</td>\n",
       "      <td>Third Owner</td>\n",
       "      <td>Manual</td>\n",
       "      <td>14.53 kmpl</td>\n",
       "      <td>5.0</td>\n",
       "      <td></td>\n",
       "      <td>6 Speed</td>\n",
       "    </tr>\n",
       "    <tr>\n",
       "      <th>1021</th>\n",
       "      <td>Mahindra Scorpio M2DI</td>\n",
       "      <td>5.25 Lakh*</td>\n",
       "      <td>2012.0</td>\n",
       "      <td>Diesel</td>\n",
       "      <td>1,20,000 kms</td>\n",
       "      <td>2179 CC</td>\n",
       "      <td>Third Owner</td>\n",
       "      <td>Manual</td>\n",
       "      <td>13.5 kmpl</td>\n",
       "      <td>5.0</td>\n",
       "      <td>White</td>\n",
       "      <td>5 Speed</td>\n",
       "    </tr>\n",
       "  </tbody>\n",
       "</table>\n",
       "<p>1022 rows × 12 columns</p>\n",
       "</div>"
      ],
      "text/plain": [
       "                                            Name       Price    Year    Fuel  \\\n",
       "0                    2019 Jeep Compass Trailhawk   24,05,000  2019.0  Diesel   \n",
       "1                               2021 Hyundai i20    8,97,000  2021.0  Petrol   \n",
       "2                         2015 Hyundai Grand i10    4,68,000  2015.0  Petrol   \n",
       "3                               2014 Hyundai i10    3,42,000  2014.0  Petrol   \n",
       "4                                 2017 Tata Nano    1,93,000  2017.0  Petrol   \n",
       "...                                          ...         ...     ...     ...   \n",
       "1017                             Maruti Alto LXi   1.6 Lakh*  2009.0  Petrol   \n",
       "1018                           Maruti Ertiga VDI   5.5 Lakh*  2014.0  Diesel   \n",
       "1019  Volkswagen Vento IPL II Petrol Highline AT   3.5 Lakh*  2011.0  Petrol   \n",
       "1020                      Toyota Corolla Altis G     2 Lakh*  2008.0  Petrol   \n",
       "1021                       Mahindra Scorpio M2DI  5.25 Lakh*  2012.0  Diesel   \n",
       "\n",
       "               KMS   Engine                Owners Transmission     Mileage  \\\n",
       "0       70,007 Kms  1956 cc             1st Owner    Automatic   16.3 kmpl   \n",
       "1       16,670 Kms  1197 cc             1st Owner       Manual     21 kmpl   \n",
       "2       62,393 Kms  1197 cc             2nd Owner    Automatic   18.9 kmpl   \n",
       "3       42,328 Kms  1086 cc             1st Owner       Manual  19.81 kmpl   \n",
       "4       12,039 Kms   624 cc             1st Owner       Manual   25.4 kmpl   \n",
       "...            ...      ...                   ...          ...         ...   \n",
       "1017    50,000 kms   796 CC           First Owner       Manual   19.7 kmpl   \n",
       "1018  2,25,000 kms  1248 CC           First Owner       Manual  20.77 kmpl   \n",
       "1019    50,000 kms  1598 CC  Fourth & Above Owner    Automatic   14.8 kmpl   \n",
       "1020    90,000 kms  1798 CC           Third Owner       Manual  14.53 kmpl   \n",
       "1021  1,20,000 kms  2179 CC           Third Owner       Manual   13.5 kmpl   \n",
       "\n",
       "      Seats            Color                           GearBox  \n",
       "0       5.0  Brilliant Black                           9-Speed  \n",
       "1       5.0   Typhoon Silver                           5 Speed  \n",
       "2       5.0           Silver                           4 Speed  \n",
       "3       5.0         Wine Red                           5 Speed  \n",
       "4       4.0    Damson Purple                           4 Speed  \n",
       "...     ...              ...                               ...  \n",
       "1017    5.0                                            5 Speed  \n",
       "1018    7.0                                            5 Speed  \n",
       "1019    5.0                   Six Speed Automatic Transmission  \n",
       "1020    5.0                                            6 Speed  \n",
       "1021    5.0            White                           5 Speed  \n",
       "\n",
       "[1022 rows x 12 columns]"
      ]
     },
     "execution_count": 8,
     "metadata": {},
     "output_type": "execute_result"
    }
   ],
   "source": [
    "# filling missing values in Color column with empty string.\n",
    "df.loc[:,'Color'].fillna('', inplace=True)\n",
    "df"
   ]
  },
  {
   "cell_type": "code",
   "execution_count": 9,
   "id": "81f88043-d010-4856-b3de-f8b757c9ffb1",
   "metadata": {},
   "outputs": [
    {
     "data": {
      "text/html": [
       "<div>\n",
       "<style scoped>\n",
       "    .dataframe tbody tr th:only-of-type {\n",
       "        vertical-align: middle;\n",
       "    }\n",
       "\n",
       "    .dataframe tbody tr th {\n",
       "        vertical-align: top;\n",
       "    }\n",
       "\n",
       "    .dataframe thead th {\n",
       "        text-align: right;\n",
       "    }\n",
       "</style>\n",
       "<table border=\"1\" class=\"dataframe\">\n",
       "  <thead>\n",
       "    <tr style=\"text-align: right;\">\n",
       "      <th></th>\n",
       "      <th>Name</th>\n",
       "      <th>Price</th>\n",
       "      <th>Year</th>\n",
       "      <th>Fuel</th>\n",
       "      <th>KMS</th>\n",
       "      <th>Engine</th>\n",
       "      <th>Owners</th>\n",
       "      <th>Transmission</th>\n",
       "      <th>Mileage</th>\n",
       "      <th>Seats</th>\n",
       "      <th>Color</th>\n",
       "      <th>GearBox</th>\n",
       "    </tr>\n",
       "  </thead>\n",
       "  <tbody>\n",
       "    <tr>\n",
       "      <th>143</th>\n",
       "      <td>Hyundai Accent Gls</td>\n",
       "      <td>95,000*</td>\n",
       "      <td>NaN</td>\n",
       "      <td>Petrol</td>\n",
       "      <td>70,000 Km</td>\n",
       "      <td>1495 CC</td>\n",
       "      <td>Third Owner</td>\n",
       "      <td>Manual</td>\n",
       "      <td>13.2 kmpl</td>\n",
       "      <td>5.0</td>\n",
       "      <td>White</td>\n",
       "      <td>5 Speed</td>\n",
       "    </tr>\n",
       "    <tr>\n",
       "      <th>144</th>\n",
       "      <td>Maruti Wagon R Lxi</td>\n",
       "      <td>95,000*</td>\n",
       "      <td>NaN</td>\n",
       "      <td>Petrol</td>\n",
       "      <td>80,000 Km</td>\n",
       "      <td>998 CC</td>\n",
       "      <td>Second Owner</td>\n",
       "      <td>Manual</td>\n",
       "      <td>18.9 kmpl</td>\n",
       "      <td>5.0</td>\n",
       "      <td>Green</td>\n",
       "      <td>5 Speed</td>\n",
       "    </tr>\n",
       "    <tr>\n",
       "      <th>781</th>\n",
       "      <td>Maruti Swift Rs Vxi</td>\n",
       "      <td>NaN</td>\n",
       "      <td>NaN</td>\n",
       "      <td>NaN</td>\n",
       "      <td>NaN</td>\n",
       "      <td>NaN</td>\n",
       "      <td>NaN</td>\n",
       "      <td>NaN</td>\n",
       "      <td>NaN</td>\n",
       "      <td>NaN</td>\n",
       "      <td></td>\n",
       "      <td>NaN</td>\n",
       "    </tr>\n",
       "    <tr>\n",
       "      <th>898</th>\n",
       "      <td>Land Rover Range Rover Sport Tdv6</td>\n",
       "      <td>33 Lakh*</td>\n",
       "      <td>NaN</td>\n",
       "      <td>Diesel</td>\n",
       "      <td>35,700 Km</td>\n",
       "      <td>2993 CC</td>\n",
       "      <td>First Owner</td>\n",
       "      <td>Automatic</td>\n",
       "      <td>14.7 kmpl</td>\n",
       "      <td>5.0</td>\n",
       "      <td>White</td>\n",
       "      <td>6-Speed</td>\n",
       "    </tr>\n",
       "    <tr>\n",
       "      <th>904</th>\n",
       "      <td>Mercedes-benz E-class E350 Cdi Avantgarde</td>\n",
       "      <td>13 Lakh*</td>\n",
       "      <td>NaN</td>\n",
       "      <td>Diesel</td>\n",
       "      <td>1,30,500 Km</td>\n",
       "      <td>2987 CC</td>\n",
       "      <td>First Owner</td>\n",
       "      <td>Automatic</td>\n",
       "      <td>11.5 kmpl</td>\n",
       "      <td>5.0</td>\n",
       "      <td>White</td>\n",
       "      <td>7 Speed</td>\n",
       "    </tr>\n",
       "    <tr>\n",
       "      <th>912</th>\n",
       "      <td>Mercedes-benz E-class Expression E 220d</td>\n",
       "      <td>8.50 Lakh*</td>\n",
       "      <td>NaN</td>\n",
       "      <td>Diesel</td>\n",
       "      <td>76,600 Km</td>\n",
       "      <td>1950 CC</td>\n",
       "      <td>Second Owner</td>\n",
       "      <td>Automatic</td>\n",
       "      <td>16.1 kmpl</td>\n",
       "      <td>5.0</td>\n",
       "      <td>Silver</td>\n",
       "      <td>9 Speed</td>\n",
       "    </tr>\n",
       "    <tr>\n",
       "      <th>917</th>\n",
       "      <td>Volkswagen Crosspolo 1.2 Mpi</td>\n",
       "      <td>6.50 Lakh*</td>\n",
       "      <td>NaN</td>\n",
       "      <td>Petrol</td>\n",
       "      <td>9,750 Km</td>\n",
       "      <td>1198 CC</td>\n",
       "      <td>First Owner</td>\n",
       "      <td>Manual</td>\n",
       "      <td>16.47 kmpl</td>\n",
       "      <td>5.0</td>\n",
       "      <td>Silver</td>\n",
       "      <td>5 Speed</td>\n",
       "    </tr>\n",
       "    <tr>\n",
       "      <th>918</th>\n",
       "      <td>Toyota Corolla Altis D-4d Gl</td>\n",
       "      <td>13.90 Lakh*</td>\n",
       "      <td>NaN</td>\n",
       "      <td>Diesel</td>\n",
       "      <td>48,100 Km</td>\n",
       "      <td>1364 CC</td>\n",
       "      <td>Second Owner</td>\n",
       "      <td>Manual</td>\n",
       "      <td>21.43 kmpl</td>\n",
       "      <td>5.0</td>\n",
       "      <td>White</td>\n",
       "      <td>6 Speed</td>\n",
       "    </tr>\n",
       "    <tr>\n",
       "      <th>1003</th>\n",
       "      <td>Honda Jazz 1.2 V I Vtec</td>\n",
       "      <td>7 Lakh*</td>\n",
       "      <td>NaN</td>\n",
       "      <td>Petrol</td>\n",
       "      <td>9,000 Km</td>\n",
       "      <td>1199 CC</td>\n",
       "      <td>Unregistered Car Owner</td>\n",
       "      <td>Manual</td>\n",
       "      <td>18.7 kmpl</td>\n",
       "      <td>5.0</td>\n",
       "      <td>White Orchid Pearl</td>\n",
       "      <td>5 Speed</td>\n",
       "    </tr>\n",
       "    <tr>\n",
       "      <th>1004</th>\n",
       "      <td>Honda City I-dtec Zx</td>\n",
       "      <td>14.15 Lakh*</td>\n",
       "      <td>NaN</td>\n",
       "      <td>Diesel</td>\n",
       "      <td>13,200 Km</td>\n",
       "      <td>1498 CC</td>\n",
       "      <td>Unregistered Car Owner</td>\n",
       "      <td>Manual</td>\n",
       "      <td>25.6 kmpl</td>\n",
       "      <td>5.0</td>\n",
       "      <td>Carnekian Red Pearl</td>\n",
       "      <td>6 Speed</td>\n",
       "    </tr>\n",
       "    <tr>\n",
       "      <th>1005</th>\n",
       "      <td>Honda City I-dtec Zx</td>\n",
       "      <td>14.15 Lakh*</td>\n",
       "      <td>NaN</td>\n",
       "      <td>Diesel</td>\n",
       "      <td>10,000 Km</td>\n",
       "      <td>1498 CC</td>\n",
       "      <td>Unregistered Car Owner</td>\n",
       "      <td>Manual</td>\n",
       "      <td>25.6 kmpl</td>\n",
       "      <td>5.0</td>\n",
       "      <td>Modern Steel Metalic</td>\n",
       "      <td>6 Speed</td>\n",
       "    </tr>\n",
       "    <tr>\n",
       "      <th>1006</th>\n",
       "      <td>Honda Br-v I-dtec Vx Mt</td>\n",
       "      <td>11.50 Lakh*</td>\n",
       "      <td>NaN</td>\n",
       "      <td>Diesel</td>\n",
       "      <td>19,800 Km</td>\n",
       "      <td>1498 CC</td>\n",
       "      <td>Unregistered Car Owner</td>\n",
       "      <td>Manual</td>\n",
       "      <td>21.9 kmpl</td>\n",
       "      <td>7.0</td>\n",
       "      <td>Golden Brown Metallica</td>\n",
       "      <td>6 Speed</td>\n",
       "    </tr>\n",
       "  </tbody>\n",
       "</table>\n",
       "</div>"
      ],
      "text/plain": [
       "                                           Name        Price  Year    Fuel  \\\n",
       "143                          Hyundai Accent Gls      95,000*   NaN  Petrol   \n",
       "144                          Maruti Wagon R Lxi      95,000*   NaN  Petrol   \n",
       "781                         Maruti Swift Rs Vxi          NaN   NaN     NaN   \n",
       "898           Land Rover Range Rover Sport Tdv6     33 Lakh*   NaN  Diesel   \n",
       "904   Mercedes-benz E-class E350 Cdi Avantgarde     13 Lakh*   NaN  Diesel   \n",
       "912     Mercedes-benz E-class Expression E 220d   8.50 Lakh*   NaN  Diesel   \n",
       "917                Volkswagen Crosspolo 1.2 Mpi   6.50 Lakh*   NaN  Petrol   \n",
       "918                Toyota Corolla Altis D-4d Gl  13.90 Lakh*   NaN  Diesel   \n",
       "1003                    Honda Jazz 1.2 V I Vtec      7 Lakh*   NaN  Petrol   \n",
       "1004                       Honda City I-dtec Zx  14.15 Lakh*   NaN  Diesel   \n",
       "1005                       Honda City I-dtec Zx  14.15 Lakh*   NaN  Diesel   \n",
       "1006                    Honda Br-v I-dtec Vx Mt  11.50 Lakh*   NaN  Diesel   \n",
       "\n",
       "              KMS   Engine                  Owners Transmission     Mileage  \\\n",
       "143     70,000 Km  1495 CC             Third Owner       Manual   13.2 kmpl   \n",
       "144     80,000 Km   998 CC            Second Owner       Manual   18.9 kmpl   \n",
       "781           NaN      NaN                     NaN          NaN         NaN   \n",
       "898     35,700 Km  2993 CC             First Owner    Automatic   14.7 kmpl   \n",
       "904   1,30,500 Km  2987 CC             First Owner    Automatic   11.5 kmpl   \n",
       "912     76,600 Km  1950 CC            Second Owner    Automatic   16.1 kmpl   \n",
       "917      9,750 Km  1198 CC             First Owner       Manual  16.47 kmpl   \n",
       "918     48,100 Km  1364 CC            Second Owner       Manual  21.43 kmpl   \n",
       "1003     9,000 Km  1199 CC  Unregistered Car Owner       Manual   18.7 kmpl   \n",
       "1004    13,200 Km  1498 CC  Unregistered Car Owner       Manual   25.6 kmpl   \n",
       "1005    10,000 Km  1498 CC  Unregistered Car Owner       Manual   25.6 kmpl   \n",
       "1006    19,800 Km  1498 CC  Unregistered Car Owner       Manual   21.9 kmpl   \n",
       "\n",
       "      Seats                   Color  GearBox  \n",
       "143     5.0                   White  5 Speed  \n",
       "144     5.0                   Green  5 Speed  \n",
       "781     NaN                              NaN  \n",
       "898     5.0                   White  6-Speed  \n",
       "904     5.0                   White  7 Speed  \n",
       "912     5.0                  Silver  9 Speed  \n",
       "917     5.0                  Silver  5 Speed  \n",
       "918     5.0                   White  6 Speed  \n",
       "1003    5.0      White Orchid Pearl  5 Speed  \n",
       "1004    5.0     Carnekian Red Pearl  6 Speed  \n",
       "1005    5.0    Modern Steel Metalic  6 Speed  \n",
       "1006    7.0  Golden Brown Metallica  6 Speed  "
      ]
     },
     "execution_count": 9,
     "metadata": {},
     "output_type": "execute_result"
    }
   ],
   "source": [
    "# checking Year field for NaN values\n",
    "missing_year = df.loc[:,'Year'].isnull()\n",
    "df[missing_year]"
   ]
  },
  {
   "cell_type": "code",
   "execution_count": 10,
   "id": "524b1481-0a24-485c-9c41-da16f45f4b37",
   "metadata": {},
   "outputs": [],
   "source": [
    "# removing hondacity with no values\n",
    "hondacity = df[df.apply(lambda row: row.astype(str).str.contains('Honda City I-dtec Zx').any(), axis=1)]\n",
    "hci = hondacity.index\n",
    "df.drop(hci, inplace=True)"
   ]
  },
  {
   "cell_type": "code",
   "execution_count": 11,
   "id": "11c8066d-9eba-4d88-96ba-fcea588724c6",
   "metadata": {},
   "outputs": [],
   "source": [
    "# removing unregistered cars\n",
    "unregistered = df[df.apply(lambda row: row.astype(str).str.contains('Unregistered Car Owner').any(), axis=1)]\n",
    "unregisteredi = unregistered.index\n",
    "df.drop(unregisteredi, inplace=True)"
   ]
  },
  {
   "cell_type": "code",
   "execution_count": 12,
   "id": "05dff04f-595a-41b6-b17f-555976efa39b",
   "metadata": {},
   "outputs": [],
   "source": [
    "# this row had no values\n",
    "df.drop(781, inplace=True)"
   ]
  },
  {
   "cell_type": "code",
   "execution_count": 13,
   "id": "ff9cb6be-22e1-4e29-aa33-2405cb82c086",
   "metadata": {},
   "outputs": [],
   "source": [
    "# applying forward fill method to fill na fields in Year column\n",
    "df['Year'].fillna(method='ffill', inplace=True)"
   ]
  },
  {
   "cell_type": "code",
   "execution_count": 14,
   "id": "4ca60b49-2929-4de4-9a38-7ae2c7fac317",
   "metadata": {},
   "outputs": [
    {
     "data": {
      "text/html": [
       "<div>\n",
       "<style scoped>\n",
       "    .dataframe tbody tr th:only-of-type {\n",
       "        vertical-align: middle;\n",
       "    }\n",
       "\n",
       "    .dataframe tbody tr th {\n",
       "        vertical-align: top;\n",
       "    }\n",
       "\n",
       "    .dataframe thead th {\n",
       "        text-align: right;\n",
       "    }\n",
       "</style>\n",
       "<table border=\"1\" class=\"dataframe\">\n",
       "  <thead>\n",
       "    <tr style=\"text-align: right;\">\n",
       "      <th></th>\n",
       "      <th>Name</th>\n",
       "      <th>Price</th>\n",
       "      <th>Year</th>\n",
       "      <th>Fuel</th>\n",
       "      <th>KMS</th>\n",
       "      <th>Engine</th>\n",
       "      <th>Owners</th>\n",
       "      <th>Transmission</th>\n",
       "      <th>Mileage</th>\n",
       "      <th>Seats</th>\n",
       "      <th>Color</th>\n",
       "      <th>GearBox</th>\n",
       "    </tr>\n",
       "  </thead>\n",
       "  <tbody>\n",
       "    <tr>\n",
       "      <th>597</th>\n",
       "      <td>Mahindra E2o Plus P6</td>\n",
       "      <td>3.99 Lakh*</td>\n",
       "      <td>2017.0</td>\n",
       "      <td>Electric(Battery)</td>\n",
       "      <td>16,000 Km</td>\n",
       "      <td>NaN</td>\n",
       "      <td>First Owner</td>\n",
       "      <td>Automatic</td>\n",
       "      <td>110 kmpl</td>\n",
       "      <td>4.0</td>\n",
       "      <td>White</td>\n",
       "      <td>Direct Drive</td>\n",
       "    </tr>\n",
       "    <tr>\n",
       "      <th>792</th>\n",
       "      <td>Maruti Omni Bsiii 8-str W/ Immobiliser</td>\n",
       "      <td>1.70 Lakh*</td>\n",
       "      <td>2010.0</td>\n",
       "      <td>Petrol</td>\n",
       "      <td>1,38,001 Km</td>\n",
       "      <td>NaN</td>\n",
       "      <td>Second Owner</td>\n",
       "      <td>Manual</td>\n",
       "      <td>NaN</td>\n",
       "      <td>NaN</td>\n",
       "      <td></td>\n",
       "      <td>NaN</td>\n",
       "    </tr>\n",
       "    <tr>\n",
       "      <th>849</th>\n",
       "      <td>Maruti Wagon R Vx</td>\n",
       "      <td>1.35 Lakh*</td>\n",
       "      <td>2007.0</td>\n",
       "      <td>Petrol</td>\n",
       "      <td>1,20,000 kms</td>\n",
       "      <td>NaN</td>\n",
       "      <td>Second Owner</td>\n",
       "      <td>Manual</td>\n",
       "      <td>12.0 kmpl</td>\n",
       "      <td>5.0</td>\n",
       "      <td></td>\n",
       "      <td>NaN</td>\n",
       "    </tr>\n",
       "  </tbody>\n",
       "</table>\n",
       "</div>"
      ],
      "text/plain": [
       "                                       Name       Price    Year  \\\n",
       "597                    Mahindra E2o Plus P6  3.99 Lakh*  2017.0   \n",
       "792  Maruti Omni Bsiii 8-str W/ Immobiliser  1.70 Lakh*  2010.0   \n",
       "849                       Maruti Wagon R Vx  1.35 Lakh*  2007.0   \n",
       "\n",
       "                  Fuel           KMS Engine        Owners Transmission  \\\n",
       "597  Electric(Battery)     16,000 Km    NaN   First Owner    Automatic   \n",
       "792             Petrol   1,38,001 Km    NaN  Second Owner       Manual   \n",
       "849             Petrol  1,20,000 kms    NaN  Second Owner       Manual   \n",
       "\n",
       "       Mileage  Seats  Color       GearBox  \n",
       "597   110 kmpl    4.0  White  Direct Drive  \n",
       "792        NaN    NaN                  NaN  \n",
       "849  12.0 kmpl    5.0                  NaN  "
      ]
     },
     "execution_count": 14,
     "metadata": {},
     "output_type": "execute_result"
    }
   ],
   "source": [
    "# checking Engine field for NaN values\n",
    "missing_engine = df.loc[:,'Engine'].isnull()\n",
    "df[missing_engine]"
   ]
  },
  {
   "cell_type": "code",
   "execution_count": 15,
   "id": "4ea8f301-b96d-4755-832d-546e45c21bf4",
   "metadata": {},
   "outputs": [
    {
     "data": {
      "text/plain": [
       "'899 CC'"
      ]
     },
     "execution_count": 15,
     "metadata": {},
     "output_type": "execute_result"
    }
   ],
   "source": [
    "# filling Engine na values\n",
    "df.at[597, 'Engine'] = 0\n",
    "df.loc[597]['Engine']\n",
    "\n",
    "df.at[849, 'Engine'] = '899 CC'\n",
    "df.loc[849, 'Engine']"
   ]
  },
  {
   "cell_type": "code",
   "execution_count": 16,
   "id": "4437c7fd-6ae3-4504-b00f-6e8e2f4e85a0",
   "metadata": {},
   "outputs": [],
   "source": [
    "# this row had no values\n",
    "df.drop(792, inplace=True)"
   ]
  },
  {
   "cell_type": "code",
   "execution_count": 17,
   "id": "d5c32221-6a5c-4157-b54d-cf32ff94b931",
   "metadata": {},
   "outputs": [
    {
     "data": {
      "text/html": [
       "<div>\n",
       "<style scoped>\n",
       "    .dataframe tbody tr th:only-of-type {\n",
       "        vertical-align: middle;\n",
       "    }\n",
       "\n",
       "    .dataframe tbody tr th {\n",
       "        vertical-align: top;\n",
       "    }\n",
       "\n",
       "    .dataframe thead th {\n",
       "        text-align: right;\n",
       "    }\n",
       "</style>\n",
       "<table border=\"1\" class=\"dataframe\">\n",
       "  <thead>\n",
       "    <tr style=\"text-align: right;\">\n",
       "      <th></th>\n",
       "      <th>Name</th>\n",
       "      <th>Price</th>\n",
       "      <th>Year</th>\n",
       "      <th>Fuel</th>\n",
       "      <th>KMS</th>\n",
       "      <th>Engine</th>\n",
       "      <th>Owners</th>\n",
       "      <th>Transmission</th>\n",
       "      <th>Mileage</th>\n",
       "      <th>Seats</th>\n",
       "      <th>Color</th>\n",
       "      <th>GearBox</th>\n",
       "    </tr>\n",
       "  </thead>\n",
       "  <tbody>\n",
       "    <tr>\n",
       "      <th>64</th>\n",
       "      <td>Skoda Superb Klement</td>\n",
       "      <td>38 Lakh*</td>\n",
       "      <td>2021.0</td>\n",
       "      <td>Petrol</td>\n",
       "      <td>2,584 Km</td>\n",
       "      <td>1798 CC</td>\n",
       "      <td>First Owner</td>\n",
       "      <td>Manual</td>\n",
       "      <td>NaN</td>\n",
       "      <td>NaN</td>\n",
       "      <td>Grey</td>\n",
       "      <td>NaN</td>\n",
       "    </tr>\n",
       "    <tr>\n",
       "      <th>127</th>\n",
       "      <td>Maruti Swift Vdi Bsiv</td>\n",
       "      <td>2.25 Lakh*</td>\n",
       "      <td>2009.0</td>\n",
       "      <td>Diesel</td>\n",
       "      <td>84,000 Km</td>\n",
       "      <td>1248 CC</td>\n",
       "      <td>Second Owner</td>\n",
       "      <td>Manual</td>\n",
       "      <td>17.8 kmpl</td>\n",
       "      <td>5.0</td>\n",
       "      <td>Red</td>\n",
       "      <td>NaN</td>\n",
       "    </tr>\n",
       "    <tr>\n",
       "      <th>229</th>\n",
       "      <td>Mahindra Bolero Lx</td>\n",
       "      <td>3.80 Lakh*</td>\n",
       "      <td>2011.0</td>\n",
       "      <td>Diesel</td>\n",
       "      <td>1,15,300 Km</td>\n",
       "      <td>2523 CC</td>\n",
       "      <td>Second Owner</td>\n",
       "      <td>Manual</td>\n",
       "      <td>13.6 kmpl</td>\n",
       "      <td>7.0</td>\n",
       "      <td>Silver</td>\n",
       "      <td>NaN</td>\n",
       "    </tr>\n",
       "    <tr>\n",
       "      <th>257</th>\n",
       "      <td>Hyundai Santro Xing Xo Erlx Euro Ii</td>\n",
       "      <td>1.55 Lakh*</td>\n",
       "      <td>2007.0</td>\n",
       "      <td>Petrol</td>\n",
       "      <td>80,000 Km</td>\n",
       "      <td>1086 CC</td>\n",
       "      <td>Second Owner</td>\n",
       "      <td>Manual</td>\n",
       "      <td>17 kmpl</td>\n",
       "      <td>5.0</td>\n",
       "      <td>White</td>\n",
       "      <td>NaN</td>\n",
       "    </tr>\n",
       "    <tr>\n",
       "      <th>263</th>\n",
       "      <td>Toyota Etios Liva G</td>\n",
       "      <td>3.45 Lakh*</td>\n",
       "      <td>2011.0</td>\n",
       "      <td>Petrol</td>\n",
       "      <td>81,000 Km</td>\n",
       "      <td>1197 CC</td>\n",
       "      <td>First Owner</td>\n",
       "      <td>Manual</td>\n",
       "      <td>18.3 kmpl</td>\n",
       "      <td>5.0</td>\n",
       "      <td>Silver</td>\n",
       "      <td>NaN</td>\n",
       "    </tr>\n",
       "    <tr>\n",
       "      <th>321</th>\n",
       "      <td>Mahindra Scorpio VLX 4X4</td>\n",
       "      <td>4.75 Lakh*</td>\n",
       "      <td>2012.0</td>\n",
       "      <td>Diesel</td>\n",
       "      <td>1,20,000 kms</td>\n",
       "      <td>2179 CC</td>\n",
       "      <td>Third Owner</td>\n",
       "      <td>Manual</td>\n",
       "      <td>12.05 kmpl</td>\n",
       "      <td>NaN</td>\n",
       "      <td></td>\n",
       "      <td>NaN</td>\n",
       "    </tr>\n",
       "    <tr>\n",
       "      <th>373</th>\n",
       "      <td>Honda Jazz Select Edition</td>\n",
       "      <td>2.95 Lakh*</td>\n",
       "      <td>2011.0</td>\n",
       "      <td>Petrol</td>\n",
       "      <td>88,598 Km</td>\n",
       "      <td>1198 CC</td>\n",
       "      <td>First Owner</td>\n",
       "      <td>Manual</td>\n",
       "      <td>16.7 kmpl</td>\n",
       "      <td>NaN</td>\n",
       "      <td>Red</td>\n",
       "      <td>NaN</td>\n",
       "    </tr>\n",
       "    <tr>\n",
       "      <th>456</th>\n",
       "      <td>Honda City 1.5 Exi</td>\n",
       "      <td>1.50 Lakh*</td>\n",
       "      <td>2005.0</td>\n",
       "      <td>Petrol</td>\n",
       "      <td>1,33,000 Km</td>\n",
       "      <td>1493 CC</td>\n",
       "      <td>Second Owner</td>\n",
       "      <td>Manual</td>\n",
       "      <td>13 kmpl</td>\n",
       "      <td>NaN</td>\n",
       "      <td>Silver</td>\n",
       "      <td>NaN</td>\n",
       "    </tr>\n",
       "    <tr>\n",
       "      <th>831</th>\n",
       "      <td>Hyundai Santro Gls Ii - Euro I</td>\n",
       "      <td>1.20 Lakh*</td>\n",
       "      <td>2006.0</td>\n",
       "      <td>Petrol</td>\n",
       "      <td>78,000 Km</td>\n",
       "      <td>999 CC</td>\n",
       "      <td>First Owner</td>\n",
       "      <td>Manual</td>\n",
       "      <td>NaN</td>\n",
       "      <td>5.0</td>\n",
       "      <td>Silver</td>\n",
       "      <td>NaN</td>\n",
       "    </tr>\n",
       "    <tr>\n",
       "      <th>843</th>\n",
       "      <td>Toyota Etios V</td>\n",
       "      <td>3 Lakh*</td>\n",
       "      <td>2012.0</td>\n",
       "      <td>Petrol</td>\n",
       "      <td>1,00,000 kms</td>\n",
       "      <td>1496 CC</td>\n",
       "      <td>Second Owner</td>\n",
       "      <td>Manual</td>\n",
       "      <td>17.6 kmpl</td>\n",
       "      <td>5.0</td>\n",
       "      <td></td>\n",
       "      <td>NaN</td>\n",
       "    </tr>\n",
       "    <tr>\n",
       "      <th>849</th>\n",
       "      <td>Maruti Wagon R Vx</td>\n",
       "      <td>1.35 Lakh*</td>\n",
       "      <td>2007.0</td>\n",
       "      <td>Petrol</td>\n",
       "      <td>1,20,000 kms</td>\n",
       "      <td>899 CC</td>\n",
       "      <td>Second Owner</td>\n",
       "      <td>Manual</td>\n",
       "      <td>12.0 kmpl</td>\n",
       "      <td>5.0</td>\n",
       "      <td></td>\n",
       "      <td>NaN</td>\n",
       "    </tr>\n",
       "    <tr>\n",
       "      <th>945</th>\n",
       "      <td>Volkswagen Vento Petrol Trendline At</td>\n",
       "      <td>3.20 Lakh*</td>\n",
       "      <td>2011.0</td>\n",
       "      <td>Petrol</td>\n",
       "      <td>66,000 Km</td>\n",
       "      <td>1598 CC</td>\n",
       "      <td>Second Owner</td>\n",
       "      <td>Automatic</td>\n",
       "      <td>15.4 kmpl</td>\n",
       "      <td>5.0</td>\n",
       "      <td>White</td>\n",
       "      <td>NaN</td>\n",
       "    </tr>\n",
       "    <tr>\n",
       "      <th>969</th>\n",
       "      <td>Toyota Qualis Gs G4</td>\n",
       "      <td>1.80 Lakh*</td>\n",
       "      <td>2003.0</td>\n",
       "      <td>Diesel</td>\n",
       "      <td>1,75,000 Km</td>\n",
       "      <td>2446 CC</td>\n",
       "      <td>Second Owner</td>\n",
       "      <td>Manual</td>\n",
       "      <td>NaN</td>\n",
       "      <td>8.0</td>\n",
       "      <td>Silver</td>\n",
       "      <td>NaN</td>\n",
       "    </tr>\n",
       "  </tbody>\n",
       "</table>\n",
       "</div>"
      ],
      "text/plain": [
       "                                     Name       Price    Year    Fuel  \\\n",
       "64                   Skoda Superb Klement    38 Lakh*  2021.0  Petrol   \n",
       "127                 Maruti Swift Vdi Bsiv  2.25 Lakh*  2009.0  Diesel   \n",
       "229                    Mahindra Bolero Lx  3.80 Lakh*  2011.0  Diesel   \n",
       "257   Hyundai Santro Xing Xo Erlx Euro Ii  1.55 Lakh*  2007.0  Petrol   \n",
       "263                   Toyota Etios Liva G  3.45 Lakh*  2011.0  Petrol   \n",
       "321              Mahindra Scorpio VLX 4X4  4.75 Lakh*  2012.0  Diesel   \n",
       "373             Honda Jazz Select Edition  2.95 Lakh*  2011.0  Petrol   \n",
       "456                    Honda City 1.5 Exi  1.50 Lakh*  2005.0  Petrol   \n",
       "831        Hyundai Santro Gls Ii - Euro I  1.20 Lakh*  2006.0  Petrol   \n",
       "843                        Toyota Etios V     3 Lakh*  2012.0  Petrol   \n",
       "849                     Maruti Wagon R Vx  1.35 Lakh*  2007.0  Petrol   \n",
       "945  Volkswagen Vento Petrol Trendline At  3.20 Lakh*  2011.0  Petrol   \n",
       "969                   Toyota Qualis Gs G4  1.80 Lakh*  2003.0  Diesel   \n",
       "\n",
       "              KMS   Engine        Owners Transmission     Mileage  Seats  \\\n",
       "64       2,584 Km  1798 CC   First Owner       Manual         NaN    NaN   \n",
       "127     84,000 Km  1248 CC  Second Owner       Manual   17.8 kmpl    5.0   \n",
       "229   1,15,300 Km  2523 CC  Second Owner       Manual   13.6 kmpl    7.0   \n",
       "257     80,000 Km  1086 CC  Second Owner       Manual     17 kmpl    5.0   \n",
       "263     81,000 Km  1197 CC   First Owner       Manual   18.3 kmpl    5.0   \n",
       "321  1,20,000 kms  2179 CC   Third Owner       Manual  12.05 kmpl    NaN   \n",
       "373     88,598 Km  1198 CC   First Owner       Manual   16.7 kmpl    NaN   \n",
       "456   1,33,000 Km  1493 CC  Second Owner       Manual     13 kmpl    NaN   \n",
       "831     78,000 Km   999 CC   First Owner       Manual         NaN    5.0   \n",
       "843  1,00,000 kms  1496 CC  Second Owner       Manual   17.6 kmpl    5.0   \n",
       "849  1,20,000 kms   899 CC  Second Owner       Manual   12.0 kmpl    5.0   \n",
       "945     66,000 Km  1598 CC  Second Owner    Automatic   15.4 kmpl    5.0   \n",
       "969   1,75,000 Km  2446 CC  Second Owner       Manual         NaN    8.0   \n",
       "\n",
       "      Color GearBox  \n",
       "64     Grey     NaN  \n",
       "127     Red     NaN  \n",
       "229  Silver     NaN  \n",
       "257   White     NaN  \n",
       "263  Silver     NaN  \n",
       "321             NaN  \n",
       "373     Red     NaN  \n",
       "456  Silver     NaN  \n",
       "831  Silver     NaN  \n",
       "843             NaN  \n",
       "849             NaN  \n",
       "945   White     NaN  \n",
       "969  Silver     NaN  "
      ]
     },
     "execution_count": 17,
     "metadata": {},
     "output_type": "execute_result"
    }
   ],
   "source": [
    "# checking GearBox field for NaN values\n",
    "missing_gearbox = df.loc[:,'GearBox'].isnull()\n",
    "df[missing_gearbox]"
   ]
  },
  {
   "cell_type": "code",
   "execution_count": 18,
   "id": "97576b9a-6a73-466e-b75d-5ac7f503be8a",
   "metadata": {},
   "outputs": [],
   "source": [
    "# applying forward fill method to fill na fields in GearBox column\n",
    "df['GearBox'].fillna(method='ffill', inplace=True)"
   ]
  },
  {
   "cell_type": "code",
   "execution_count": 19,
   "id": "74050b6a-d9a5-4c42-86cb-b3ee676478b0",
   "metadata": {},
   "outputs": [],
   "source": [
    "df.loc[df['Name'] == \"Hyundai Santro Xing Gl\", \"Mileage\"] = \"17.92 kmpl\""
   ]
  },
  {
   "cell_type": "code",
   "execution_count": 20,
   "id": "f5d64739-7fc1-4494-af57-ad300c51d258",
   "metadata": {},
   "outputs": [],
   "source": [
    "df.loc[df['Name'] == \"Mahindra Thar Lx 4-str Hard Top Diesel At\", \"Mileage\"] = \"13.1 kmpl\""
   ]
  },
  {
   "cell_type": "code",
   "execution_count": 21,
   "id": "1b6f5ab4-a2c0-49f0-b447-b95ef9dfd3f8",
   "metadata": {},
   "outputs": [],
   "source": [
    "df.loc[df['Name'] == \"Skoda Superb Klement\", \"Mileage\"] = \"15.1 kmpl\""
   ]
  },
  {
   "cell_type": "code",
   "execution_count": 22,
   "id": "51e3d181-1a99-43b3-b69c-9e0369c222f3",
   "metadata": {},
   "outputs": [],
   "source": [
    "df['Mileage'].fillna(method='ffill', inplace=True)"
   ]
  },
  {
   "cell_type": "code",
   "execution_count": 23,
   "id": "2c04dcbb-676e-4d92-98c4-6bfdce2dcd14",
   "metadata": {},
   "outputs": [
    {
     "data": {
      "text/html": [
       "<div>\n",
       "<style scoped>\n",
       "    .dataframe tbody tr th:only-of-type {\n",
       "        vertical-align: middle;\n",
       "    }\n",
       "\n",
       "    .dataframe tbody tr th {\n",
       "        vertical-align: top;\n",
       "    }\n",
       "\n",
       "    .dataframe thead th {\n",
       "        text-align: right;\n",
       "    }\n",
       "</style>\n",
       "<table border=\"1\" class=\"dataframe\">\n",
       "  <thead>\n",
       "    <tr style=\"text-align: right;\">\n",
       "      <th></th>\n",
       "      <th>Name</th>\n",
       "      <th>Price</th>\n",
       "      <th>Year</th>\n",
       "      <th>Fuel</th>\n",
       "      <th>KMS</th>\n",
       "      <th>Engine</th>\n",
       "      <th>Owners</th>\n",
       "      <th>Transmission</th>\n",
       "      <th>Mileage</th>\n",
       "      <th>Seats</th>\n",
       "      <th>Color</th>\n",
       "      <th>GearBox</th>\n",
       "    </tr>\n",
       "  </thead>\n",
       "  <tbody>\n",
       "  </tbody>\n",
       "</table>\n",
       "</div>"
      ],
      "text/plain": [
       "Empty DataFrame\n",
       "Columns: [Name, Price, Year, Fuel, KMS, Engine, Owners, Transmission, Mileage, Seats, Color, GearBox]\n",
       "Index: []"
      ]
     },
     "execution_count": 23,
     "metadata": {},
     "output_type": "execute_result"
    }
   ],
   "source": [
    "# checking Mileage field for NaN values\n",
    "missing_mileage = df.loc[:,'Mileage'].isnull()\n",
    "df[missing_mileage]"
   ]
  },
  {
   "cell_type": "code",
   "execution_count": 24,
   "id": "2d6bf26a-53c6-4c47-aa5a-e1a505e407c1",
   "metadata": {},
   "outputs": [
    {
     "data": {
      "text/html": [
       "<div>\n",
       "<style scoped>\n",
       "    .dataframe tbody tr th:only-of-type {\n",
       "        vertical-align: middle;\n",
       "    }\n",
       "\n",
       "    .dataframe tbody tr th {\n",
       "        vertical-align: top;\n",
       "    }\n",
       "\n",
       "    .dataframe thead th {\n",
       "        text-align: right;\n",
       "    }\n",
       "</style>\n",
       "<table border=\"1\" class=\"dataframe\">\n",
       "  <thead>\n",
       "    <tr style=\"text-align: right;\">\n",
       "      <th></th>\n",
       "      <th>Name</th>\n",
       "      <th>Price</th>\n",
       "      <th>Year</th>\n",
       "      <th>Fuel</th>\n",
       "      <th>KMS</th>\n",
       "      <th>Engine</th>\n",
       "      <th>Owners</th>\n",
       "      <th>Transmission</th>\n",
       "      <th>Mileage</th>\n",
       "      <th>Seats</th>\n",
       "      <th>Color</th>\n",
       "      <th>GearBox</th>\n",
       "    </tr>\n",
       "  </thead>\n",
       "  <tbody>\n",
       "    <tr>\n",
       "      <th>64</th>\n",
       "      <td>Skoda Superb Klement</td>\n",
       "      <td>38 Lakh*</td>\n",
       "      <td>2021.0</td>\n",
       "      <td>Petrol</td>\n",
       "      <td>2,584 Km</td>\n",
       "      <td>1798 CC</td>\n",
       "      <td>First Owner</td>\n",
       "      <td>Manual</td>\n",
       "      <td>15.1 kmpl</td>\n",
       "      <td>NaN</td>\n",
       "      <td>Grey</td>\n",
       "      <td>5 Speed</td>\n",
       "    </tr>\n",
       "    <tr>\n",
       "      <th>321</th>\n",
       "      <td>Mahindra Scorpio VLX 4X4</td>\n",
       "      <td>4.75 Lakh*</td>\n",
       "      <td>2012.0</td>\n",
       "      <td>Diesel</td>\n",
       "      <td>1,20,000 kms</td>\n",
       "      <td>2179 CC</td>\n",
       "      <td>Third Owner</td>\n",
       "      <td>Manual</td>\n",
       "      <td>12.05 kmpl</td>\n",
       "      <td>NaN</td>\n",
       "      <td></td>\n",
       "      <td>5-Speed</td>\n",
       "    </tr>\n",
       "    <tr>\n",
       "      <th>373</th>\n",
       "      <td>Honda Jazz Select Edition</td>\n",
       "      <td>2.95 Lakh*</td>\n",
       "      <td>2011.0</td>\n",
       "      <td>Petrol</td>\n",
       "      <td>88,598 Km</td>\n",
       "      <td>1198 CC</td>\n",
       "      <td>First Owner</td>\n",
       "      <td>Manual</td>\n",
       "      <td>16.7 kmpl</td>\n",
       "      <td>NaN</td>\n",
       "      <td>Red</td>\n",
       "      <td>5 Speed</td>\n",
       "    </tr>\n",
       "    <tr>\n",
       "      <th>456</th>\n",
       "      <td>Honda City 1.5 Exi</td>\n",
       "      <td>1.50 Lakh*</td>\n",
       "      <td>2005.0</td>\n",
       "      <td>Petrol</td>\n",
       "      <td>1,33,000 Km</td>\n",
       "      <td>1493 CC</td>\n",
       "      <td>Second Owner</td>\n",
       "      <td>Manual</td>\n",
       "      <td>13 kmpl</td>\n",
       "      <td>NaN</td>\n",
       "      <td>Silver</td>\n",
       "      <td>7 Speed</td>\n",
       "    </tr>\n",
       "  </tbody>\n",
       "</table>\n",
       "</div>"
      ],
      "text/plain": [
       "                          Name       Price    Year    Fuel           KMS  \\\n",
       "64        Skoda Superb Klement    38 Lakh*  2021.0  Petrol      2,584 Km   \n",
       "321   Mahindra Scorpio VLX 4X4  4.75 Lakh*  2012.0  Diesel  1,20,000 kms   \n",
       "373  Honda Jazz Select Edition  2.95 Lakh*  2011.0  Petrol     88,598 Km   \n",
       "456         Honda City 1.5 Exi  1.50 Lakh*  2005.0  Petrol   1,33,000 Km   \n",
       "\n",
       "      Engine        Owners Transmission     Mileage  Seats   Color  GearBox  \n",
       "64   1798 CC   First Owner       Manual   15.1 kmpl    NaN    Grey  5 Speed  \n",
       "321  2179 CC   Third Owner       Manual  12.05 kmpl    NaN          5-Speed  \n",
       "373  1198 CC   First Owner       Manual   16.7 kmpl    NaN     Red  5 Speed  \n",
       "456  1493 CC  Second Owner       Manual     13 kmpl    NaN  Silver  7 Speed  "
      ]
     },
     "execution_count": 24,
     "metadata": {},
     "output_type": "execute_result"
    }
   ],
   "source": [
    "# checking Seats field for NaN values\n",
    "missing_seat = df.loc[:,'Seats'].isnull()\n",
    "df[missing_seat]"
   ]
  },
  {
   "cell_type": "code",
   "execution_count": 25,
   "id": "e94cc4bb-9797-45f1-b045-1991a7b9ddc2",
   "metadata": {},
   "outputs": [
    {
     "data": {
      "text/plain": [
       "7.0"
      ]
     },
     "execution_count": 25,
     "metadata": {},
     "output_type": "execute_result"
    }
   ],
   "source": [
    "df.at[321, 'Seats'] = 7\n",
    "df.loc[321, 'Seats']"
   ]
  },
  {
   "cell_type": "code",
   "execution_count": 26,
   "id": "9b154c87-07f1-4660-b9ff-9b6f578343fb",
   "metadata": {},
   "outputs": [],
   "source": [
    "# applying forward fill method to fill na fields in Seats column\n",
    "df['Seats'].fillna(method='ffill', inplace=True)"
   ]
  },
  {
   "cell_type": "markdown",
   "id": "8c7db7ba-478e-44dd-b36f-f9654925b827",
   "metadata": {
    "jp-MarkdownHeadingCollapsed": true,
    "tags": []
   },
   "source": [
    "### Backup DataFrame."
   ]
  },
  {
   "cell_type": "code",
   "execution_count": 29,
   "id": "a733da09-0b31-44c0-9eba-27474b41dd2c",
   "metadata": {},
   "outputs": [],
   "source": [
    "backup_df = df.copy()"
   ]
  },
  {
   "cell_type": "markdown",
   "id": "c92e3cc7-bddd-4cdc-9c51-d124c10fce0d",
   "metadata": {
    "jp-MarkdownHeadingCollapsed": true,
    "tags": []
   },
   "source": [
    "### Formatting and Transforming Price"
   ]
  },
  {
   "cell_type": "code",
   "execution_count": 30,
   "id": "42eb53ad-afa4-4dd2-aa9f-63797b60af4e",
   "metadata": {},
   "outputs": [],
   "source": [
    "df = backup_df.copy()"
   ]
  },
  {
   "cell_type": "code",
   "execution_count": 31,
   "id": "20705906-bafa-4173-9a11-e6add6504ab5",
   "metadata": {},
   "outputs": [
    {
     "data": {
      "text/plain": [
       "Name             object\n",
       "Price            object\n",
       "Year            float64\n",
       "Fuel             object\n",
       "KMS              object\n",
       "Engine           object\n",
       "Owners           object\n",
       "Transmission     object\n",
       "Mileage          object\n",
       "Seats           float64\n",
       "Color            object\n",
       "GearBox          object\n",
       "dtype: object"
      ]
     },
     "execution_count": 31,
     "metadata": {},
     "output_type": "execute_result"
    }
   ],
   "source": [
    "# checking datatypes of each column\n",
    "df.dtypes"
   ]
  },
  {
   "cell_type": "code",
   "execution_count": 32,
   "id": "72f99fa1-ecf4-48cc-85cd-77b7c5a613fc",
   "metadata": {},
   "outputs": [],
   "source": [
    "# Converting Year from float64 to int64\n",
    "df['Year'] = df['Year'].astype(np.int64)"
   ]
  },
  {
   "cell_type": "code",
   "execution_count": 33,
   "id": "69e2fc7e-51e4-4169-b1b3-83b7a688722d",
   "metadata": {},
   "outputs": [],
   "source": [
    "# Converting Seats from float64 to int64\n",
    "df['Seats'] = df['Seats'].astype(np.int64)"
   ]
  },
  {
   "cell_type": "code",
   "execution_count": 34,
   "id": "6a4563ed-07c3-4006-8e95-3be893b9e7ce",
   "metadata": {},
   "outputs": [],
   "source": [
    "df['Price'] = df['Price'].str.replace('Lakh\\*','',regex=True)"
   ]
  },
  {
   "cell_type": "code",
   "execution_count": 35,
   "id": "75754b51-dedf-4654-80c0-2a4859c35a52",
   "metadata": {},
   "outputs": [],
   "source": [
    "df['Price'] = df['Price'].str.replace(' ','')"
   ]
  },
  {
   "cell_type": "code",
   "execution_count": 38,
   "id": "820bcf08-acc8-4564-bd0a-161bb95be18e",
   "metadata": {},
   "outputs": [],
   "source": [
    "df['Price'] = df['Price'].str.replace('\\*','',regex=True)"
   ]
  },
  {
   "cell_type": "code",
   "execution_count": 39,
   "id": "37dda086-e2ef-43ef-b6aa-19ebda4fda62",
   "metadata": {},
   "outputs": [
    {
     "data": {
      "text/plain": [
       "0       24,05,000\n",
       "1        8,97,000\n",
       "2        4,68,000\n",
       "3        3,42,000\n",
       "4        1,93,000\n",
       "          ...    \n",
       "1017          1.6\n",
       "1018          5.5\n",
       "1019          3.5\n",
       "1020            2\n",
       "1021         5.25\n",
       "Name: Price, Length: 1016, dtype: object"
      ]
     },
     "execution_count": 39,
     "metadata": {},
     "output_type": "execute_result"
    }
   ],
   "source": [
    "df['Price']"
   ]
  },
  {
   "cell_type": "code",
   "execution_count": 37,
   "id": "2a9d2795-0c8f-450d-8013-c63d0d222a5b",
   "metadata": {},
   "outputs": [
    {
     "data": {
      "text/html": [
       "<div>\n",
       "<style scoped>\n",
       "    .dataframe tbody tr th:only-of-type {\n",
       "        vertical-align: middle;\n",
       "    }\n",
       "\n",
       "    .dataframe tbody tr th {\n",
       "        vertical-align: top;\n",
       "    }\n",
       "\n",
       "    .dataframe thead th {\n",
       "        text-align: right;\n",
       "    }\n",
       "</style>\n",
       "<table border=\"1\" class=\"dataframe\">\n",
       "  <thead>\n",
       "    <tr style=\"text-align: right;\">\n",
       "      <th></th>\n",
       "      <th>Year</th>\n",
       "      <th>Seats</th>\n",
       "    </tr>\n",
       "    <tr>\n",
       "      <th>Price</th>\n",
       "      <th></th>\n",
       "      <th></th>\n",
       "    </tr>\n",
       "  </thead>\n",
       "  <tbody>\n",
       "    <tr>\n",
       "      <th>1</th>\n",
       "      <td>120829</td>\n",
       "      <td>307</td>\n",
       "    </tr>\n",
       "    <tr>\n",
       "      <th>2</th>\n",
       "      <td>126986</td>\n",
       "      <td>336</td>\n",
       "    </tr>\n",
       "    <tr>\n",
       "      <th>3</th>\n",
       "      <td>76489</td>\n",
       "      <td>211</td>\n",
       "    </tr>\n",
       "    <tr>\n",
       "      <th>4</th>\n",
       "      <td>1333237</td>\n",
       "      <td>3411</td>\n",
       "    </tr>\n",
       "    <tr>\n",
       "      <th>5</th>\n",
       "      <td>250046</td>\n",
       "      <td>669</td>\n",
       "    </tr>\n",
       "    <tr>\n",
       "      <th>6</th>\n",
       "      <td>20099</td>\n",
       "      <td>45</td>\n",
       "    </tr>\n",
       "    <tr>\n",
       "      <th>8</th>\n",
       "      <td>114960</td>\n",
       "      <td>283</td>\n",
       "    </tr>\n",
       "    <tr>\n",
       "      <th>9</th>\n",
       "      <td>4040</td>\n",
       "      <td>10</td>\n",
       "    </tr>\n",
       "  </tbody>\n",
       "</table>\n",
       "</div>"
      ],
      "text/plain": [
       "          Year  Seats\n",
       "Price                \n",
       "1       120829    307\n",
       "2       126986    336\n",
       "3        76489    211\n",
       "4      1333237   3411\n",
       "5       250046    669\n",
       "6        20099     45\n",
       "8       114960    283\n",
       "9         4040     10"
      ]
     },
     "execution_count": 37,
     "metadata": {},
     "output_type": "execute_result"
    }
   ],
   "source": [
    "df.groupby(df['Price'].str.len()).sum()"
   ]
  },
  {
   "cell_type": "code",
   "execution_count": null,
   "id": "1209accc-520d-47de-a8fe-28d253ed3b3a",
   "metadata": {},
   "outputs": [],
   "source": [
    "# PRICE_1\n",
    "# ------- 24,05,000 -------\n",
    "# Len of price before removing comma -> 9, Format -> 24,05,000\n",
    "# Len of price after removing comma -> 7, Format -> 2405000 -- no need to edit it  [[ DONE! ]]\n",
    "\n",
    "# PRICE_2\n",
    "# ------- 4,19,000 -------\n",
    "# Len of price before removing comma -> 8, Format -> 4,19,000\n",
    "# Len of price after removing comma -> 6, Format -> 419000 -- no need to edit it  [[ DONE! ]]\n",
    "\n",
    "# PRICE_3\n",
    "# ------- 85,000 -------\n",
    "# Len of price before removing comma -> 6, Format -> 85,000 == 85000\n",
    "# Len of price after removing comma -> 5, Format -> 85000 -- no need to edit it\n",
    "# One row having 'Cr' [[NEED TO REMOVE IT]]                                      [[ DONE! ]]\n",
    "\n",
    "# PRICE_4\n",
    "# ------- 24.99 ------- \n",
    "# Len of price before removing dot -> 5, Format -> 24.99Lakhs == 24.99.000\n",
    "# Len of price after removing dot  -> 4, Format -> 2499 -- need to add 000 zeros [[ DONE! ]]\n",
    "\n",
    "# PRICE_5\n",
    "# ------- 1.80 ------- \n",
    "# Len of price before removing dot -> 4, Format -> 1.80Lakhs == 1.80.000\n",
    "# Len of price after removing dot  -> 3, Format -> 180 -- need to add 000 zeros  [[ DONE! ]]\n",
    "\n",
    "# PRICE_6\n",
    "# ------- 3.5 -------\n",
    "# Len of price before removing dot -> 3, Format -> 3.5Lakhs == 3.50.000\n",
    "# Len of price after removing dot  -> 2, Format -> 35 -- need to add 0000 zeros  [[ DONE! ]]\n",
    "\n",
    "# PRICE_7\n",
    "# ------- 24 ------- two digits without dot \n",
    "# Len of price -> 2, Format -> 24Lakhs == 24.00.000 -- need to add 00000 zeros\n",
    "\n",
    "# PRICE_8\n",
    "# ------- 6 ------- one digit price\n",
    "# Len of price -> 1, Format -> 6Lakh == 6.00.000 -- need to add 00000 zeros      [[ DONE! ]]"
   ]
  },
  {
   "cell_type": "code",
   "execution_count": 40,
   "id": "f68ffb22-b1ca-47c6-b1e9-045454626228",
   "metadata": {},
   "outputs": [],
   "source": [
    "format_pricedf = df.copy()"
   ]
  },
  {
   "cell_type": "code",
   "execution_count": 41,
   "id": "aa1b2f05-46ad-4129-8751-344d8bdfcff1",
   "metadata": {},
   "outputs": [],
   "source": [
    "# adding 'lakhslakhslakhs' to two digit price without dot which are actually lakhs for convenience\n",
    "filter_len = format_pricedf['Price'].str.len()==2"
   ]
  },
  {
   "cell_type": "code",
   "execution_count": 42,
   "id": "fb2ce57e-2243-4ce0-85ed-d28cb02f9b66",
   "metadata": {},
   "outputs": [],
   "source": [
    "format_pricedf.loc[filter_len,'Price'] = format_pricedf[filter_len]['Price'] + 'TripleTripleTriple'"
   ]
  },
  {
   "cell_type": "code",
   "execution_count": 43,
   "id": "044f711b-13e3-45a2-a782-23251e298747",
   "metadata": {},
   "outputs": [],
   "source": [
    "format_pricedf['Price'] = format_pricedf['Price'].str.replace('\\.','',regex=True)"
   ]
  },
  {
   "cell_type": "code",
   "execution_count": 44,
   "id": "e7129f60-51a7-4143-8bc6-475aeede4440",
   "metadata": {},
   "outputs": [],
   "source": [
    "format_pricedf['Price'] = format_pricedf['Price'].str.replace('\\,','',regex=True)"
   ]
  },
  {
   "cell_type": "code",
   "execution_count": 45,
   "id": "682d0568-2e96-4b2e-a91d-e0493f135ee8",
   "metadata": {},
   "outputs": [],
   "source": [
    "format_pricedf['modified_price'] = format_pricedf['Price']"
   ]
  },
  {
   "cell_type": "code",
   "execution_count": 46,
   "id": "fd40482c-bb60-47fd-8d46-fa8925a15a61",
   "metadata": {},
   "outputs": [],
   "source": [
    "# operation for PRICE_6\n",
    "filter_len = format_pricedf['Price'].str.len()==2"
   ]
  },
  {
   "cell_type": "code",
   "execution_count": 47,
   "id": "1e0c2847-5360-40c7-8caa-972bfbd55796",
   "metadata": {},
   "outputs": [],
   "source": [
    "format_pricedf.loc[filter_len,'modified_price'] = format_pricedf[filter_len]['Price'] + '0000'"
   ]
  },
  {
   "cell_type": "code",
   "execution_count": 48,
   "id": "a0561f5d-98dc-4f31-b002-0c8836679e16",
   "metadata": {},
   "outputs": [],
   "source": [
    "# operation for PRICE_5\n",
    "filter_len = format_pricedf['Price'].str.len()==3"
   ]
  },
  {
   "cell_type": "code",
   "execution_count": 49,
   "id": "3bedad9c-57ef-42f5-a4de-5b6cdc0d773d",
   "metadata": {},
   "outputs": [],
   "source": [
    "format_pricedf.loc[filter_len,'modified_price'] = format_pricedf[filter_len]['Price'] + '000'"
   ]
  },
  {
   "cell_type": "code",
   "execution_count": 50,
   "id": "334f9cc8-1ff8-4608-8ad2-f468300367f5",
   "metadata": {},
   "outputs": [],
   "source": [
    "# operation for PRICE_4\n",
    "filter_len = format_pricedf['Price'].str.len()==4"
   ]
  },
  {
   "cell_type": "code",
   "execution_count": 51,
   "id": "620daffe-ac95-4e7c-aff1-c86b70a1e24b",
   "metadata": {},
   "outputs": [],
   "source": [
    "format_pricedf.loc[filter_len,'modified_price'] = format_pricedf[filter_len]['Price'] + '000'"
   ]
  },
  {
   "cell_type": "code",
   "execution_count": 52,
   "id": "13d38438-8249-4e66-abb3-84f9acfdb03b",
   "metadata": {},
   "outputs": [],
   "source": [
    "# operation for PRICE_8\n",
    "filter_len = format_pricedf['Price'].str.len()==1"
   ]
  },
  {
   "cell_type": "code",
   "execution_count": 53,
   "id": "e07c4e94-ca66-4d4b-9b11-4603c9277080",
   "metadata": {},
   "outputs": [],
   "source": [
    "format_pricedf.loc[filter_len,'modified_price'] = format_pricedf[filter_len]['Price'] + '00000'"
   ]
  },
  {
   "cell_type": "code",
   "execution_count": 54,
   "id": "713da866-4e53-4910-94a6-c0321e3a6f40",
   "metadata": {},
   "outputs": [],
   "source": [
    "# operation for PRICE_3\n",
    "format_pricedf.loc[734,'modified_price'] = '11800000'"
   ]
  },
  {
   "cell_type": "code",
   "execution_count": 55,
   "id": "3d503589-3e78-4384-943b-7094516a3e19",
   "metadata": {},
   "outputs": [],
   "source": [
    "# operation for PRICE_7\n",
    "format_pricedf['Price'] = format_pricedf['Price'].str.replace('TripleTripleTriple','',regex=True)\n",
    "format_pricedf['modified_price'] = format_pricedf['modified_price'].str.replace('TripleTripleTriple','',regex=True)"
   ]
  },
  {
   "cell_type": "code",
   "execution_count": 56,
   "id": "8293d85d-31b4-4d1f-8353-96846ad26a1b",
   "metadata": {},
   "outputs": [],
   "source": [
    "filter_len = format_pricedf['Price'].str.len()==2\n",
    "format_pricedf.loc[filter_len,'modified_price'] = format_pricedf[filter_len]['Price'] + '00000'"
   ]
  },
  {
   "cell_type": "code",
   "execution_count": 57,
   "id": "6ec25e87-d37f-4ab4-84e1-23fc5c99c016",
   "metadata": {},
   "outputs": [
    {
     "data": {
      "text/html": [
       "<div>\n",
       "<style scoped>\n",
       "    .dataframe tbody tr th:only-of-type {\n",
       "        vertical-align: middle;\n",
       "    }\n",
       "\n",
       "    .dataframe tbody tr th {\n",
       "        vertical-align: top;\n",
       "    }\n",
       "\n",
       "    .dataframe thead th {\n",
       "        text-align: right;\n",
       "    }\n",
       "</style>\n",
       "<table border=\"1\" class=\"dataframe\">\n",
       "  <thead>\n",
       "    <tr style=\"text-align: right;\">\n",
       "      <th></th>\n",
       "      <th>Name</th>\n",
       "      <th>Price</th>\n",
       "      <th>Year</th>\n",
       "      <th>Fuel</th>\n",
       "      <th>KMS</th>\n",
       "      <th>Engine</th>\n",
       "      <th>Owners</th>\n",
       "      <th>Transmission</th>\n",
       "      <th>Mileage</th>\n",
       "      <th>Seats</th>\n",
       "      <th>Color</th>\n",
       "      <th>GearBox</th>\n",
       "      <th>modified_price</th>\n",
       "    </tr>\n",
       "  </thead>\n",
       "  <tbody>\n",
       "  </tbody>\n",
       "</table>\n",
       "</div>"
      ],
      "text/plain": [
       "Empty DataFrame\n",
       "Columns: [Name, Price, Year, Fuel, KMS, Engine, Owners, Transmission, Mileage, Seats, Color, GearBox, modified_price]\n",
       "Index: []"
      ]
     },
     "execution_count": 57,
     "metadata": {},
     "output_type": "execute_result"
    }
   ],
   "source": [
    "# checking values for the given len\n",
    "format_pricedf[format_pricedf['modified_price'].str.len()==2]"
   ]
  },
  {
   "cell_type": "code",
   "execution_count": 58,
   "id": "1ee6e0cd-8782-41e0-b70f-e6d4c3dd7c0e",
   "metadata": {},
   "outputs": [],
   "source": [
    "format_pricedf.drop('Price',axis=1,inplace=True)"
   ]
  },
  {
   "cell_type": "code",
   "execution_count": 59,
   "id": "0f471064-4aea-4af5-84db-27df34a3e67b",
   "metadata": {},
   "outputs": [],
   "source": [
    "format_pricedf['Price'] = format_pricedf['modified_price']"
   ]
  },
  {
   "cell_type": "code",
   "execution_count": 60,
   "id": "81e3bdda-c43b-47d6-a1dd-13b6cd15b25e",
   "metadata": {},
   "outputs": [],
   "source": [
    "format_pricedf.drop('modified_price',axis=1,inplace=True)"
   ]
  },
  {
   "cell_type": "code",
   "execution_count": 61,
   "id": "c4570ccc-d8f1-45e6-91c5-5c112465647f",
   "metadata": {},
   "outputs": [],
   "source": [
    "# Converting Price from float64 to int64\n",
    "format_pricedf['Price'] = format_pricedf['Price'].astype(np.int64)"
   ]
  },
  {
   "cell_type": "code",
   "execution_count": null,
   "id": "3e772289-928a-4c88-98ff-b32c08145cf0",
   "metadata": {},
   "outputs": [],
   "source": [
    "format_pricedf.dtypes"
   ]
  },
  {
   "cell_type": "markdown",
   "id": "7bbcd92b-4724-46e2-8040-428a178b6066",
   "metadata": {
    "jp-MarkdownHeadingCollapsed": true,
    "tags": []
   },
   "source": [
    "### Backup DataFrame after Formatting Price"
   ]
  },
  {
   "cell_type": "code",
   "execution_count": 64,
   "id": "4b5b0709-7032-412b-96b0-46414c59be77",
   "metadata": {},
   "outputs": [],
   "source": [
    "backupaft_price = format_pricedf.copy()"
   ]
  },
  {
   "cell_type": "markdown",
   "id": "07c66c5c-a5f4-4ce9-aa65-99a2c6e9a7d0",
   "metadata": {
    "jp-MarkdownHeadingCollapsed": true,
    "tags": []
   },
   "source": [
    "### Formatting and Transforming Engine"
   ]
  },
  {
   "cell_type": "code",
   "execution_count": 65,
   "id": "e0f01387-4170-486d-9d70-55769861c1ac",
   "metadata": {},
   "outputs": [],
   "source": [
    "format_engine = backupaft_price.copy()"
   ]
  },
  {
   "cell_type": "code",
   "execution_count": 66,
   "id": "60fe5319-8d1e-492e-8b0c-d8564798db2f",
   "metadata": {},
   "outputs": [],
   "source": [
    "format_engine['Engine'] = format_engine['Engine'].str.replace('cc','')"
   ]
  },
  {
   "cell_type": "code",
   "execution_count": 67,
   "id": "baebf7eb-a1b4-4f20-912a-5e9b4b945ec7",
   "metadata": {},
   "outputs": [],
   "source": [
    "format_engine['Engine'] = format_engine['Engine'].str.replace('CC','')"
   ]
  },
  {
   "cell_type": "code",
   "execution_count": 68,
   "id": "02c99c0e-d67d-4a68-bf79-ed3fc77e4f86",
   "metadata": {},
   "outputs": [],
   "source": [
    "format_engine['Engine'] = format_engine['Engine'].str.replace(' ','')"
   ]
  },
  {
   "cell_type": "code",
   "execution_count": 69,
   "id": "ea9c4e3a-c85f-4be4-858e-40b685a7c640",
   "metadata": {},
   "outputs": [],
   "source": [
    "# Electric Engine --> One CC Engine\n",
    "format_engine['Engine'].fillna(1, inplace=True)"
   ]
  },
  {
   "cell_type": "code",
   "execution_count": 70,
   "id": "0e0b2d6a-4290-49b4-9ae1-ccc87bc183c5",
   "metadata": {},
   "outputs": [],
   "source": [
    "# Converting Engine from float64 to int64\n",
    "format_engine['Engine'] = format_engine['Engine'].astype(np.int64)"
   ]
  },
  {
   "cell_type": "markdown",
   "id": "d172e1d2-2498-4a12-b0a6-7b0b3e8da3d3",
   "metadata": {
    "jp-MarkdownHeadingCollapsed": true,
    "tags": []
   },
   "source": [
    "### Backup Data after Formatting Engine"
   ]
  },
  {
   "cell_type": "code",
   "execution_count": 71,
   "id": "27c1ece3-ea5a-402c-9b9f-3afe170d22f2",
   "metadata": {},
   "outputs": [],
   "source": [
    "backupaft_engine = format_engine.copy()"
   ]
  },
  {
   "cell_type": "markdown",
   "id": "6204294b-7e70-4196-8cfd-60f7e82b296a",
   "metadata": {
    "jp-MarkdownHeadingCollapsed": true,
    "tags": []
   },
   "source": [
    "### Formatting and Transforming Mileage"
   ]
  },
  {
   "cell_type": "code",
   "execution_count": 72,
   "id": "2aea5c1a-c14a-485b-a068-00714c7cc251",
   "metadata": {},
   "outputs": [],
   "source": [
    "format_mileage = backupaft_engine.copy()"
   ]
  },
  {
   "cell_type": "code",
   "execution_count": 73,
   "id": "d4ceaad1-c7b3-4168-993b-742cd68b42e0",
   "metadata": {},
   "outputs": [],
   "source": [
    "format_mileage['Mileage'] = format_mileage['Mileage'].str.replace('kmpl','')"
   ]
  },
  {
   "cell_type": "code",
   "execution_count": 74,
   "id": "211c2592-aa90-4d24-9a29-26aa6ea1c197",
   "metadata": {},
   "outputs": [],
   "source": [
    "format_mileage['Mileage'] = format_mileage['Mileage'].str.replace(' ','')"
   ]
  },
  {
   "cell_type": "code",
   "execution_count": 75,
   "id": "344fae80-e229-49d6-b212-d17f62491946",
   "metadata": {},
   "outputs": [],
   "source": [
    "format_mileage['Mileage'] = format_mileage['Mileage'].str.replace('km/kg','')"
   ]
  },
  {
   "cell_type": "code",
   "execution_count": 76,
   "id": "2e4b226c-4a44-4ac6-acd9-0059f9cbf0c1",
   "metadata": {},
   "outputs": [],
   "source": [
    "format_mileage['Mileage'] = format_mileage['Mileage'].astype(np.float64)"
   ]
  },
  {
   "cell_type": "code",
   "execution_count": 77,
   "id": "ee8ef89f-a528-4557-83b6-7bb6cee3e027",
   "metadata": {},
   "outputs": [
    {
     "data": {
      "text/plain": [
       "Name             object\n",
       "Year              int64\n",
       "Fuel             object\n",
       "KMS              object\n",
       "Engine            int64\n",
       "Owners           object\n",
       "Transmission     object\n",
       "Mileage         float64\n",
       "Seats             int64\n",
       "Color            object\n",
       "GearBox          object\n",
       "Price             int64\n",
       "dtype: object"
      ]
     },
     "execution_count": 77,
     "metadata": {},
     "output_type": "execute_result"
    }
   ],
   "source": [
    "format_mileage.dtypes"
   ]
  },
  {
   "cell_type": "markdown",
   "id": "ba4e9879-c961-4410-a62d-77c5fa2babc0",
   "metadata": {
    "jp-MarkdownHeadingCollapsed": true,
    "tags": []
   },
   "source": [
    "### Backup DataFrame after Formatting Mileage"
   ]
  },
  {
   "cell_type": "code",
   "execution_count": 79,
   "id": "6aad5e03-dc27-4028-9bdc-a6d2151ca17a",
   "metadata": {},
   "outputs": [],
   "source": [
    "backupaft_mileage = format_mileage.copy()"
   ]
  },
  {
   "cell_type": "markdown",
   "id": "efcdd5a8-1af9-4309-a724-cb144a81d321",
   "metadata": {
    "jp-MarkdownHeadingCollapsed": true,
    "tags": []
   },
   "source": [
    "### Formatting and Transforming KMS"
   ]
  },
  {
   "cell_type": "code",
   "execution_count": 80,
   "id": "6544f656-d933-44c0-88fe-e8d79da64c9a",
   "metadata": {},
   "outputs": [],
   "source": [
    "format_kms = backupaft_mileage.copy()"
   ]
  },
  {
   "cell_type": "code",
   "execution_count": 81,
   "id": "d75d118b-f02e-4319-b984-2d01f2b4b169",
   "metadata": {},
   "outputs": [],
   "source": [
    "format_kms['KMS'] = format_kms['KMS'].str.replace('kms','')\n",
    "format_kms['KMS'] = format_kms['KMS'].str.replace('Kms','')"
   ]
  },
  {
   "cell_type": "code",
   "execution_count": 82,
   "id": "581a6437-0e2a-4d0a-ac3e-60e23a2457b3",
   "metadata": {},
   "outputs": [],
   "source": [
    "format_kms['KMS'] = format_kms['KMS'].str.replace(' ','')"
   ]
  },
  {
   "cell_type": "code",
   "execution_count": 83,
   "id": "8f8026ad-a307-412e-9fe4-65a0c858690c",
   "metadata": {},
   "outputs": [],
   "source": [
    "format_kms['KMS'] = format_kms['KMS'].str.replace(',','')"
   ]
  },
  {
   "cell_type": "code",
   "execution_count": 84,
   "id": "1ee2351e-5478-4350-bb87-d98b4b92865e",
   "metadata": {},
   "outputs": [],
   "source": [
    "format_kms['KMS'] = format_kms['KMS'].str.replace('Km','')"
   ]
  },
  {
   "cell_type": "code",
   "execution_count": 85,
   "id": "b4e116ef-cc02-4a16-93e1-223a94524725",
   "metadata": {},
   "outputs": [],
   "source": [
    "format_kms['KMS'] = format_kms['KMS'].astype(np.int64)"
   ]
  },
  {
   "cell_type": "markdown",
   "id": "d338868e-b6c4-4ea2-95db-1868168510d9",
   "metadata": {
    "jp-MarkdownHeadingCollapsed": true,
    "tags": []
   },
   "source": [
    "### Backup DataFrame after Transforming KMS"
   ]
  },
  {
   "cell_type": "code",
   "execution_count": 86,
   "id": "9af14bba-7d16-4a66-aaef-1e5b694f5563",
   "metadata": {},
   "outputs": [],
   "source": [
    "backupaft_kms = format_kms.copy()"
   ]
  },
  {
   "cell_type": "markdown",
   "id": "9c6ffa8d-83b3-4f51-8151-ea04121f4f2b",
   "metadata": {
    "jp-MarkdownHeadingCollapsed": true,
    "tags": []
   },
   "source": [
    "### Formatting and Transforming Owners"
   ]
  },
  {
   "cell_type": "code",
   "execution_count": 87,
   "id": "6eac1079-cefe-40fa-aeb5-54fe66a6c1dd",
   "metadata": {},
   "outputs": [],
   "source": [
    "format_owners = backupaft_kms.copy()"
   ]
  },
  {
   "cell_type": "code",
   "execution_count": 88,
   "id": "7a44a188-bcd6-4a16-9755-2b610b99c8cf",
   "metadata": {},
   "outputs": [],
   "source": [
    "format_owners['Owners'] = format_owners['Owners'].replace({\n",
    "    \"1st Owner\": 1,\n",
    "    \"2nd Owner\": 2,\n",
    "    \"First Owner\": 1,\n",
    "    \"Fourth & Above Owner\": 4,\n",
    "    \"Second Owner\": 2,\n",
    "    \"Third Owner\": 3,\n",
    "})"
   ]
  },
  {
   "cell_type": "code",
   "execution_count": null,
   "id": "8fb419e3-064e-44a6-babd-b92d2f8642c9",
   "metadata": {},
   "outputs": [],
   "source": [
    "format_owners['Owners']"
   ]
  },
  {
   "cell_type": "markdown",
   "id": "133b3931-2b76-4183-b0a9-e376a8b681ec",
   "metadata": {
    "jp-MarkdownHeadingCollapsed": true,
    "tags": []
   },
   "source": [
    "### Backup DataFrame after Transforming Owners"
   ]
  },
  {
   "cell_type": "code",
   "execution_count": 91,
   "id": "087c6b9e-7e7d-411c-9c3a-774db4e661c0",
   "metadata": {},
   "outputs": [],
   "source": [
    "backupaft_owners = format_owners.copy()"
   ]
  },
  {
   "cell_type": "markdown",
   "id": "19d52d3c-4faa-4caa-a1d0-bf416cff51d7",
   "metadata": {
    "jp-MarkdownHeadingCollapsed": true,
    "tags": []
   },
   "source": [
    "### Formatting and Transforming Transmission"
   ]
  },
  {
   "cell_type": "code",
   "execution_count": 92,
   "id": "d3e7d41d-b3af-4b23-9026-cd0322e17124",
   "metadata": {},
   "outputs": [],
   "source": [
    "format_transmission = backupaft_owners.copy()"
   ]
  },
  {
   "cell_type": "code",
   "execution_count": 93,
   "id": "7175d0a9-01c2-4854-b79b-78e17a98db99",
   "metadata": {},
   "outputs": [
    {
     "name": "stdout",
     "output_type": "stream",
     "text": [
      "Automatic\n",
      "Manual\n"
     ]
    }
   ],
   "source": [
    "grouped = format_transmission.groupby('Transmission')\n",
    "for name,group in grouped:\n",
    "    print(name)"
   ]
  },
  {
   "cell_type": "code",
   "execution_count": 94,
   "id": "87868fab-0c1a-45d6-a81a-47b8a216e519",
   "metadata": {},
   "outputs": [],
   "source": [
    "format_transmission['Transmission'] = format_transmission['Transmission'].replace({\n",
    "    \"Manual\": 1,\n",
    "    \"Automatic\": 2\n",
    "})"
   ]
  },
  {
   "cell_type": "markdown",
   "id": "e2278aa2-fcba-4b24-9d56-7d7d87b094ca",
   "metadata": {
    "jp-MarkdownHeadingCollapsed": true,
    "tags": []
   },
   "source": [
    "### Backup DataFrame after Transforming Transmission"
   ]
  },
  {
   "cell_type": "code",
   "execution_count": 96,
   "id": "14e47954-e40e-43a4-9953-1a17851348c7",
   "metadata": {},
   "outputs": [],
   "source": [
    "backupaft_transmission = format_transmission.copy()"
   ]
  },
  {
   "cell_type": "markdown",
   "id": "6bc17669-49c2-4f79-b992-e49895114934",
   "metadata": {
    "jp-MarkdownHeadingCollapsed": true,
    "tags": []
   },
   "source": [
    "### Formatting and Transforming Fuel"
   ]
  },
  {
   "cell_type": "code",
   "execution_count": 97,
   "id": "4156cc5e-d281-439b-86f8-a3ea2e757d00",
   "metadata": {},
   "outputs": [],
   "source": [
    "format_fuel = backupaft_transmission.copy()"
   ]
  },
  {
   "cell_type": "code",
   "execution_count": 98,
   "id": "71c784c5-8153-4e5b-b51f-3724142ffbe3",
   "metadata": {},
   "outputs": [
    {
     "name": "stdout",
     "output_type": "stream",
     "text": [
      "CNG\n",
      "Diesel\n",
      "Electric(Battery)\n",
      "Petrol\n"
     ]
    }
   ],
   "source": [
    "fuel_group = format_fuel.groupby('Fuel')\n",
    "for name,group in fuel_group:\n",
    "    print(name)"
   ]
  },
  {
   "cell_type": "code",
   "execution_count": 99,
   "id": "ffb98ac4-6976-4f6b-b1a8-b97e47c89016",
   "metadata": {},
   "outputs": [],
   "source": [
    "format_fuel['Fuel'] = format_fuel['Fuel'].replace({\n",
    "    \"Petrol\": 1,\n",
    "    \"Diesel\": 2,\n",
    "    \"CNG\": 3,\n",
    "    \"Electric(Battery)\": 4\n",
    "})"
   ]
  },
  {
   "cell_type": "markdown",
   "id": "40543434-136b-45e1-9c7f-16f06e4f001d",
   "metadata": {
    "jp-MarkdownHeadingCollapsed": true,
    "tags": []
   },
   "source": [
    "### Backup DataFrame after Transforming Fuel"
   ]
  },
  {
   "cell_type": "code",
   "execution_count": 100,
   "id": "6a6c7cf8-4d0f-4885-af9c-98dd8d9e698e",
   "metadata": {},
   "outputs": [],
   "source": [
    "backupaft_fuel = format_fuel.copy()"
   ]
  },
  {
   "cell_type": "markdown",
   "id": "7f9bf83d-8d1b-4efa-82b8-7adbaf77f5d0",
   "metadata": {
    "jp-MarkdownHeadingCollapsed": true,
    "tags": []
   },
   "source": [
    "### Formatting and Transforming GearBox"
   ]
  },
  {
   "cell_type": "code",
   "execution_count": 202,
   "id": "cb453c26-a04d-4bed-bb2a-64a944dabd7c",
   "metadata": {},
   "outputs": [],
   "source": [
    "format_gearbox = backupaft_fuel.copy()"
   ]
  },
  {
   "cell_type": "code",
   "execution_count": 111,
   "id": "2b448cc7-f81d-490b-851b-b64c0cf11125",
   "metadata": {},
   "outputs": [],
   "source": [
    "format_gearbox.to_csv('./backupaft_fuel.csv')"
   ]
  },
  {
   "cell_type": "code",
   "execution_count": null,
   "id": "478c35d6-b9eb-48e5-bd24-ebe81138db8b",
   "metadata": {},
   "outputs": [],
   "source": [
    "gearboxgrouped = format_gearbox.groupby('GearBox')\n",
    "for name,group in gearboxgrouped:\n",
    "    print(name)"
   ]
  },
  {
   "cell_type": "code",
   "execution_count": 203,
   "id": "5ec5d2f6-21d8-466e-8cd9-33edbadc92c7",
   "metadata": {},
   "outputs": [],
   "source": [
    "format_gearbox['GearBox'] = format_gearbox['GearBox'].replace({\n",
    "    \"Five Speed Manual Transmission\": '5',\n",
    "    \"Five Speed Manual Transmission Gearbox\": '5',\n",
    "    \"Six Speed Automatic Transmission\": '6',\n",
    "    \"Direct Drive\": '1'\n",
    "})"
   ]
  },
  {
   "cell_type": "code",
   "execution_count": 204,
   "id": "b2794b27-94d7-4b89-b230-985f91805413",
   "metadata": {},
   "outputs": [],
   "source": [
    "format_gearbox['GearBox'] = format_gearbox['GearBox'].str.replace('Speed','')\n",
    "format_gearbox['GearBox'] = format_gearbox['GearBox'].str.replace('speed','')\n",
    "format_gearbox['GearBox'] = format_gearbox['GearBox'].str.replace('-','')\n",
    "format_gearbox['GearBox'] = format_gearbox['GearBox'].str.replace(' ','')"
   ]
  },
  {
   "cell_type": "code",
   "execution_count": 205,
   "id": "9ed33bbe-80a7-4948-8fab-9f9e72b9cdcc",
   "metadata": {},
   "outputs": [],
   "source": [
    "format_gearbox['GearBox'] = format_gearbox['GearBox'].str.replace('Steptronic','')\n",
    "format_gearbox['GearBox'] = format_gearbox['GearBox'].str.replace('Tiptronic','')\n",
    "format_gearbox['GearBox'] = format_gearbox['GearBox'].str.replace('Sport','')\n",
    "format_gearbox['GearBox'] = format_gearbox['GearBox'].str.replace('Manual','')\n",
    "format_gearbox['GearBox'] = format_gearbox['GearBox'].str.replace('iMT','')\n",
    "format_gearbox['GearBox'] = format_gearbox['GearBox'].str.replace('GDCT7DualClutchTransmission','')"
   ]
  },
  {
   "cell_type": "code",
   "execution_count": 207,
   "id": "c51099c7-d049-4743-8a11-f9f9559e9f2f",
   "metadata": {},
   "outputs": [],
   "source": [
    "format_gearbox['GearBox'] = format_gearbox['GearBox'].str.replace('7DSG','7')\n",
    "format_gearbox['GearBox'] = format_gearbox['GearBox'].str.replace('5CVT','5')\n",
    "format_gearbox['GearBox'] = format_gearbox['GearBox'].str.replace('6IVT','6')\n",
    "format_gearbox['GearBox'] = format_gearbox['GearBox'].str.replace('7CVT','7')"
   ]
  },
  {
   "cell_type": "code",
   "execution_count": 209,
   "id": "783e3698-f4d9-4ca4-b45b-8a917b41ea44",
   "metadata": {},
   "outputs": [],
   "source": [
    "format_gearbox['GearBox'] = format_gearbox['GearBox'].str.replace('STronic','',regex=True)\n",
    "format_gearbox['GearBox'] = format_gearbox['GearBox'].str.replace('CVT','7')"
   ]
  },
  {
   "cell_type": "code",
   "execution_count": 211,
   "id": "9049cbde-ce81-4ce9-a3f9-e099ae8bf4b9",
   "metadata": {},
   "outputs": [],
   "source": [
    "format_gearbox['GearBox'] = format_gearbox['GearBox'].str.replace('\\+','',regex=True)\n",
    "format_gearbox['GearBox'] = format_gearbox['GearBox'].str.replace('ATPaddleShifters','',regex=True)"
   ]
  },
  {
   "cell_type": "code",
   "execution_count": 213,
   "id": "af306a42-2343-4aa9-b708-7e2f3a21b150",
   "metadata": {},
   "outputs": [],
   "source": [
    "format_gearbox['GearBox'] = format_gearbox['GearBox'].str.replace('CableTypeGearShift','',regex=True)\n",
    "format_gearbox['GearBox'] = format_gearbox['GearBox'].str.replace('(','',regex=True)\n",
    "format_gearbox['GearBox'] = format_gearbox['GearBox'].str.replace(')','',regex=True)"
   ]
  },
  {
   "cell_type": "code",
   "execution_count": 215,
   "id": "8e8be6f0-13a9-438e-8262-6f6a8981b0e8",
   "metadata": {},
   "outputs": [],
   "source": [
    "format_gearbox['GearBox'] = format_gearbox['GearBox'].str.replace('withSequentialShift','')\n",
    "format_gearbox['GearBox'] = format_gearbox['GearBox'].str.replace('AutomaticTransmission','')\n",
    "format_gearbox['GearBox'] = format_gearbox['GearBox'].str.replace('AGS','5')"
   ]
  },
  {
   "cell_type": "code",
   "execution_count": 219,
   "id": "eee2347c-8893-457d-9ebb-8e0582028f00",
   "metadata": {},
   "outputs": [],
   "source": [
    "format_gearbox['GearBox'] = format_gearbox['GearBox'].astype(np.int64)"
   ]
  },
  {
   "cell_type": "markdown",
   "id": "cac19d06-99b0-409a-a918-d1acbf0f3bb4",
   "metadata": {
    "jp-MarkdownHeadingCollapsed": true,
    "tags": []
   },
   "source": [
    "### Backup after Formatting GearBox"
   ]
  },
  {
   "cell_type": "code",
   "execution_count": 222,
   "id": "454b5097-5743-4e6c-bc59-fadc9f27eebe",
   "metadata": {},
   "outputs": [],
   "source": [
    "backupaft_gearbox = format_gearbox.copy()"
   ]
  },
  {
   "cell_type": "markdown",
   "id": "15a0fd89-60c5-4361-b6bd-aed50cc669a2",
   "metadata": {
    "tags": []
   },
   "source": [
    "### Formatting and Transforming Name"
   ]
  },
  {
   "cell_type": "code",
   "execution_count": 224,
   "id": "0b7c28de-9808-4636-b071-1eacc88b1665",
   "metadata": {},
   "outputs": [],
   "source": [
    "format_name = backupaft_gearbox.copy()"
   ]
  },
  {
   "cell_type": "code",
   "execution_count": 227,
   "id": "25b9e4d6-433c-4a88-8302-5b487d766577",
   "metadata": {},
   "outputs": [],
   "source": [
    "format_name.to_csv('./GearBoxBackup/backupaft_gearbox.csv')"
   ]
  },
  {
   "cell_type": "code",
   "execution_count": null,
   "id": "9ff4950f-6cfa-407a-a1d4-1f68aa6d131a",
   "metadata": {},
   "outputs": [],
   "source": [
    "namegroup = format_name.groupby('Name')\n",
    "for name,group in namegroup:\n",
    "    print(name)"
   ]
  },
  {
   "cell_type": "code",
   "execution_count": 253,
   "id": "75888934-84fc-411f-ba78-e5bb06f583c5",
   "metadata": {},
   "outputs": [],
   "source": [
    "format_name.loc[format_name['Name'].str.split(' ').str.get(0).str.isnumeric(), 'Name'] = format_name.loc[format_name['Name'].str.split(' ').str.get(0).str.isnumeric(), 'Name'].str.split(' ').str[1:].str.join(\" \")"
   ]
  },
  {
   "cell_type": "code",
   "execution_count": 263,
   "id": "0d05c785-8efb-494e-a784-90064a7161d1",
   "metadata": {},
   "outputs": [],
   "source": [
    "format_name['Name'] = format_name['Name'].str.split(' ').str[:3].str.join(' ')"
   ]
  },
  {
   "cell_type": "code",
   "execution_count": null,
   "id": "6476c652-4b1c-4a26-8c2e-d09cbdc28459",
   "metadata": {},
   "outputs": [],
   "source": [
    "name_grouped = format_name.groupby(format_name['Name'].str.split(' ').str[0])\n",
    "for name,group in name_grouped:\n",
    "    print(name)"
   ]
  },
  {
   "cell_type": "code",
   "execution_count": null,
   "id": "43f510ff-c194-4292-8ef2-30f0d10503d9",
   "metadata": {},
   "outputs": [],
   "source": [
    "format_name[format_name['Name'].str.contains('Mercedes-benz')]"
   ]
  },
  {
   "cell_type": "code",
   "execution_count": 282,
   "id": "dd8d1435-2e4b-4ccf-8cc0-91a5ad6412a8",
   "metadata": {},
   "outputs": [],
   "source": [
    "format_name['Name'] = format_name['Name'].str.replace('Bmw','BMW')"
   ]
  },
  {
   "cell_type": "code",
   "execution_count": 288,
   "id": "cec4a43d-388e-4c38-a31d-371709870057",
   "metadata": {},
   "outputs": [],
   "source": [
    "format_name['Name'] = format_name['Name'].str.replace('Mercedes-benz','Mercedes-Benz')"
   ]
  },
  {
   "cell_type": "code",
   "execution_count": 291,
   "id": "55c8721d-8818-4ec1-a534-51c0abb05184",
   "metadata": {},
   "outputs": [],
   "source": [
    "format_name['Company'] = format_name['Name'].str.split(' ').str[0]"
   ]
  },
  {
   "cell_type": "markdown",
   "id": "e2e6a328-4ff7-46bf-a9f4-69d588ad4c4f",
   "metadata": {
    "jp-MarkdownHeadingCollapsed": true,
    "tags": []
   },
   "source": [
    "### Backup DataFrame after Transforming Name"
   ]
  },
  {
   "cell_type": "code",
   "execution_count": 293,
   "id": "f3da4ea1-e7fe-4f02-953b-5243b5ba0f9e",
   "metadata": {},
   "outputs": [],
   "source": [
    "backupaft_name = format_name.copy()"
   ]
  },
  {
   "cell_type": "markdown",
   "id": "6cb30b20-0644-4dbc-8123-38ea7cf94ef8",
   "metadata": {
    "jp-MarkdownHeadingCollapsed": true,
    "tags": []
   },
   "source": [
    "### Formatting and Transforming Color"
   ]
  },
  {
   "cell_type": "code",
   "execution_count": 297,
   "id": "192812e4-5bf3-4b19-b811-110aeb7df77e",
   "metadata": {},
   "outputs": [],
   "source": [
    "format_color = backupaft_name.copy()"
   ]
  },
  {
   "cell_type": "code",
   "execution_count": 298,
   "id": "aeb872bf-74d2-4802-85b4-d35fef4e5aaa",
   "metadata": {},
   "outputs": [],
   "source": [
    "format_color.to_csv('./NameBackup/backupaft_name.csv')"
   ]
  },
  {
   "cell_type": "code",
   "execution_count": 330,
   "id": "d1df7ffe-8446-4499-988f-2820607cb94d",
   "metadata": {},
   "outputs": [],
   "source": [
    "format_color.drop('Color',axis=1,inplace=True)"
   ]
  },
  {
   "cell_type": "code",
   "execution_count": null,
   "id": "65d673da-7830-4d74-933c-87a6663f9497",
   "metadata": {},
   "outputs": [],
   "source": [
    "format_color"
   ]
  },
  {
   "cell_type": "markdown",
   "id": "4a9e55a6-7ce9-4164-b7df-63f979c0d229",
   "metadata": {
    "jp-MarkdownHeadingCollapsed": true,
    "tags": []
   },
   "source": [
    "### Backup after Transforming Color"
   ]
  },
  {
   "cell_type": "code",
   "execution_count": 333,
   "id": "4ef93523-bc92-459f-8e4b-0b4f1caf11d3",
   "metadata": {},
   "outputs": [],
   "source": [
    "backupaft_color = format_color.copy()"
   ]
  },
  {
   "cell_type": "code",
   "execution_count": 335,
   "id": "bce07969-1ecc-460c-936a-ddf4feb3d69b",
   "metadata": {},
   "outputs": [],
   "source": [
    "backupaft_color.to_csv('./Final/finaldata.csv')"
   ]
  },
  {
   "cell_type": "markdown",
   "id": "2c99f769-68e1-47e2-a656-4205faeb54d2",
   "metadata": {
    "tags": []
   },
   "source": [
    "### Working with Cleaned Data"
   ]
  },
  {
   "cell_type": "code",
   "execution_count": 336,
   "id": "0c152b0a-0045-42f7-b667-be752495dcc5",
   "metadata": {},
   "outputs": [],
   "source": [
    "cleaned_df = backupaft_color.copy()"
   ]
  },
  {
   "cell_type": "code",
   "execution_count": 337,
   "id": "927d5b5f-a5fd-49b8-a313-ecd948480e36",
   "metadata": {},
   "outputs": [
    {
     "data": {
      "text/html": [
       "<div>\n",
       "<style scoped>\n",
       "    .dataframe tbody tr th:only-of-type {\n",
       "        vertical-align: middle;\n",
       "    }\n",
       "\n",
       "    .dataframe tbody tr th {\n",
       "        vertical-align: top;\n",
       "    }\n",
       "\n",
       "    .dataframe thead th {\n",
       "        text-align: right;\n",
       "    }\n",
       "</style>\n",
       "<table border=\"1\" class=\"dataframe\">\n",
       "  <thead>\n",
       "    <tr style=\"text-align: right;\">\n",
       "      <th></th>\n",
       "      <th>Name</th>\n",
       "      <th>Year</th>\n",
       "      <th>Fuel</th>\n",
       "      <th>KMS</th>\n",
       "      <th>Engine</th>\n",
       "      <th>Owners</th>\n",
       "      <th>Transmission</th>\n",
       "      <th>Mileage</th>\n",
       "      <th>Seats</th>\n",
       "      <th>GearBox</th>\n",
       "      <th>Price</th>\n",
       "      <th>Company</th>\n",
       "    </tr>\n",
       "  </thead>\n",
       "  <tbody>\n",
       "    <tr>\n",
       "      <th>0</th>\n",
       "      <td>Jeep Compass Trailhawk</td>\n",
       "      <td>2019</td>\n",
       "      <td>2</td>\n",
       "      <td>70007</td>\n",
       "      <td>1956</td>\n",
       "      <td>1</td>\n",
       "      <td>2</td>\n",
       "      <td>16.30</td>\n",
       "      <td>5</td>\n",
       "      <td>9</td>\n",
       "      <td>2405000</td>\n",
       "      <td>Jeep</td>\n",
       "    </tr>\n",
       "    <tr>\n",
       "      <th>1</th>\n",
       "      <td>Hyundai i20</td>\n",
       "      <td>2021</td>\n",
       "      <td>1</td>\n",
       "      <td>16670</td>\n",
       "      <td>1197</td>\n",
       "      <td>1</td>\n",
       "      <td>1</td>\n",
       "      <td>21.00</td>\n",
       "      <td>5</td>\n",
       "      <td>5</td>\n",
       "      <td>897000</td>\n",
       "      <td>Hyundai</td>\n",
       "    </tr>\n",
       "    <tr>\n",
       "      <th>2</th>\n",
       "      <td>Hyundai Grand i10</td>\n",
       "      <td>2015</td>\n",
       "      <td>1</td>\n",
       "      <td>62393</td>\n",
       "      <td>1197</td>\n",
       "      <td>2</td>\n",
       "      <td>2</td>\n",
       "      <td>18.90</td>\n",
       "      <td>5</td>\n",
       "      <td>4</td>\n",
       "      <td>468000</td>\n",
       "      <td>Hyundai</td>\n",
       "    </tr>\n",
       "    <tr>\n",
       "      <th>3</th>\n",
       "      <td>Hyundai i10</td>\n",
       "      <td>2014</td>\n",
       "      <td>1</td>\n",
       "      <td>42328</td>\n",
       "      <td>1086</td>\n",
       "      <td>1</td>\n",
       "      <td>1</td>\n",
       "      <td>19.81</td>\n",
       "      <td>5</td>\n",
       "      <td>5</td>\n",
       "      <td>342000</td>\n",
       "      <td>Hyundai</td>\n",
       "    </tr>\n",
       "    <tr>\n",
       "      <th>4</th>\n",
       "      <td>Tata Nano</td>\n",
       "      <td>2017</td>\n",
       "      <td>1</td>\n",
       "      <td>12039</td>\n",
       "      <td>624</td>\n",
       "      <td>1</td>\n",
       "      <td>1</td>\n",
       "      <td>25.40</td>\n",
       "      <td>4</td>\n",
       "      <td>4</td>\n",
       "      <td>193000</td>\n",
       "      <td>Tata</td>\n",
       "    </tr>\n",
       "    <tr>\n",
       "      <th>...</th>\n",
       "      <td>...</td>\n",
       "      <td>...</td>\n",
       "      <td>...</td>\n",
       "      <td>...</td>\n",
       "      <td>...</td>\n",
       "      <td>...</td>\n",
       "      <td>...</td>\n",
       "      <td>...</td>\n",
       "      <td>...</td>\n",
       "      <td>...</td>\n",
       "      <td>...</td>\n",
       "      <td>...</td>\n",
       "    </tr>\n",
       "    <tr>\n",
       "      <th>1017</th>\n",
       "      <td>Maruti Alto LXi</td>\n",
       "      <td>2009</td>\n",
       "      <td>1</td>\n",
       "      <td>50000</td>\n",
       "      <td>796</td>\n",
       "      <td>1</td>\n",
       "      <td>1</td>\n",
       "      <td>19.70</td>\n",
       "      <td>5</td>\n",
       "      <td>5</td>\n",
       "      <td>1600000</td>\n",
       "      <td>Maruti</td>\n",
       "    </tr>\n",
       "    <tr>\n",
       "      <th>1018</th>\n",
       "      <td>Maruti Ertiga VDI</td>\n",
       "      <td>2014</td>\n",
       "      <td>2</td>\n",
       "      <td>225000</td>\n",
       "      <td>1248</td>\n",
       "      <td>1</td>\n",
       "      <td>1</td>\n",
       "      <td>20.77</td>\n",
       "      <td>7</td>\n",
       "      <td>5</td>\n",
       "      <td>5500000</td>\n",
       "      <td>Maruti</td>\n",
       "    </tr>\n",
       "    <tr>\n",
       "      <th>1019</th>\n",
       "      <td>Volkswagen Vento IPL</td>\n",
       "      <td>2011</td>\n",
       "      <td>1</td>\n",
       "      <td>50000</td>\n",
       "      <td>1598</td>\n",
       "      <td>4</td>\n",
       "      <td>2</td>\n",
       "      <td>14.80</td>\n",
       "      <td>5</td>\n",
       "      <td>6</td>\n",
       "      <td>3500000</td>\n",
       "      <td>Volkswagen</td>\n",
       "    </tr>\n",
       "    <tr>\n",
       "      <th>1020</th>\n",
       "      <td>Toyota Corolla Altis</td>\n",
       "      <td>2008</td>\n",
       "      <td>1</td>\n",
       "      <td>90000</td>\n",
       "      <td>1798</td>\n",
       "      <td>3</td>\n",
       "      <td>1</td>\n",
       "      <td>14.53</td>\n",
       "      <td>5</td>\n",
       "      <td>6</td>\n",
       "      <td>200000</td>\n",
       "      <td>Toyota</td>\n",
       "    </tr>\n",
       "    <tr>\n",
       "      <th>1021</th>\n",
       "      <td>Mahindra Scorpio M2DI</td>\n",
       "      <td>2012</td>\n",
       "      <td>2</td>\n",
       "      <td>120000</td>\n",
       "      <td>2179</td>\n",
       "      <td>3</td>\n",
       "      <td>1</td>\n",
       "      <td>13.50</td>\n",
       "      <td>5</td>\n",
       "      <td>5</td>\n",
       "      <td>525000</td>\n",
       "      <td>Mahindra</td>\n",
       "    </tr>\n",
       "  </tbody>\n",
       "</table>\n",
       "<p>1016 rows × 12 columns</p>\n",
       "</div>"
      ],
      "text/plain": [
       "                        Name  Year  Fuel     KMS  Engine  Owners  \\\n",
       "0     Jeep Compass Trailhawk  2019     2   70007    1956       1   \n",
       "1                Hyundai i20  2021     1   16670    1197       1   \n",
       "2          Hyundai Grand i10  2015     1   62393    1197       2   \n",
       "3                Hyundai i10  2014     1   42328    1086       1   \n",
       "4                  Tata Nano  2017     1   12039     624       1   \n",
       "...                      ...   ...   ...     ...     ...     ...   \n",
       "1017         Maruti Alto LXi  2009     1   50000     796       1   \n",
       "1018       Maruti Ertiga VDI  2014     2  225000    1248       1   \n",
       "1019    Volkswagen Vento IPL  2011     1   50000    1598       4   \n",
       "1020    Toyota Corolla Altis  2008     1   90000    1798       3   \n",
       "1021   Mahindra Scorpio M2DI  2012     2  120000    2179       3   \n",
       "\n",
       "      Transmission  Mileage  Seats  GearBox    Price     Company  \n",
       "0                2    16.30      5        9  2405000        Jeep  \n",
       "1                1    21.00      5        5   897000     Hyundai  \n",
       "2                2    18.90      5        4   468000     Hyundai  \n",
       "3                1    19.81      5        5   342000     Hyundai  \n",
       "4                1    25.40      4        4   193000        Tata  \n",
       "...            ...      ...    ...      ...      ...         ...  \n",
       "1017             1    19.70      5        5  1600000      Maruti  \n",
       "1018             1    20.77      7        5  5500000      Maruti  \n",
       "1019             2    14.80      5        6  3500000  Volkswagen  \n",
       "1020             1    14.53      5        6   200000      Toyota  \n",
       "1021             1    13.50      5        5   525000    Mahindra  \n",
       "\n",
       "[1016 rows x 12 columns]"
      ]
     },
     "execution_count": 337,
     "metadata": {},
     "output_type": "execute_result"
    }
   ],
   "source": [
    "cleaned_df"
   ]
  },
  {
   "cell_type": "code",
   "execution_count": 338,
   "id": "17cff36b-e6f4-4a6c-bfba-a6db260652e8",
   "metadata": {},
   "outputs": [],
   "source": [
    "cleaned_df.to_csv('./Final/finalsetone.csv')"
   ]
  },
  {
   "cell_type": "code",
   "execution_count": 2,
   "id": "0302033f-9837-4def-a8c1-21dda2425c08",
   "metadata": {},
   "outputs": [],
   "source": [
    "setone = pd.read_csv('./Final/finalsetone.csv')"
   ]
  },
  {
   "cell_type": "code",
   "execution_count": 4,
   "id": "dbc8a844-5cc5-4287-b866-55ca1a9336c0",
   "metadata": {},
   "outputs": [
    {
     "data": {
      "text/html": [
       "<div>\n",
       "<style scoped>\n",
       "    .dataframe tbody tr th:only-of-type {\n",
       "        vertical-align: middle;\n",
       "    }\n",
       "\n",
       "    .dataframe tbody tr th {\n",
       "        vertical-align: top;\n",
       "    }\n",
       "\n",
       "    .dataframe thead th {\n",
       "        text-align: right;\n",
       "    }\n",
       "</style>\n",
       "<table border=\"1\" class=\"dataframe\">\n",
       "  <thead>\n",
       "    <tr style=\"text-align: right;\">\n",
       "      <th></th>\n",
       "      <th>Name</th>\n",
       "      <th>Year</th>\n",
       "      <th>Fuel</th>\n",
       "      <th>KMS</th>\n",
       "      <th>Engine</th>\n",
       "      <th>Owners</th>\n",
       "      <th>Transmission</th>\n",
       "      <th>Mileage</th>\n",
       "      <th>Seats</th>\n",
       "      <th>GearBox</th>\n",
       "      <th>Price</th>\n",
       "      <th>Company</th>\n",
       "    </tr>\n",
       "  </thead>\n",
       "  <tbody>\n",
       "    <tr>\n",
       "      <th>0</th>\n",
       "      <td>Jeep Compass Trailhawk</td>\n",
       "      <td>2019</td>\n",
       "      <td>2</td>\n",
       "      <td>70007</td>\n",
       "      <td>1956</td>\n",
       "      <td>1</td>\n",
       "      <td>2</td>\n",
       "      <td>16.30</td>\n",
       "      <td>5</td>\n",
       "      <td>9</td>\n",
       "      <td>2405000</td>\n",
       "      <td>Jeep</td>\n",
       "    </tr>\n",
       "    <tr>\n",
       "      <th>1</th>\n",
       "      <td>Hyundai i20</td>\n",
       "      <td>2021</td>\n",
       "      <td>1</td>\n",
       "      <td>16670</td>\n",
       "      <td>1197</td>\n",
       "      <td>1</td>\n",
       "      <td>1</td>\n",
       "      <td>21.00</td>\n",
       "      <td>5</td>\n",
       "      <td>5</td>\n",
       "      <td>897000</td>\n",
       "      <td>Hyundai</td>\n",
       "    </tr>\n",
       "    <tr>\n",
       "      <th>2</th>\n",
       "      <td>Hyundai Grand i10</td>\n",
       "      <td>2015</td>\n",
       "      <td>1</td>\n",
       "      <td>62393</td>\n",
       "      <td>1197</td>\n",
       "      <td>2</td>\n",
       "      <td>2</td>\n",
       "      <td>18.90</td>\n",
       "      <td>5</td>\n",
       "      <td>4</td>\n",
       "      <td>468000</td>\n",
       "      <td>Hyundai</td>\n",
       "    </tr>\n",
       "    <tr>\n",
       "      <th>3</th>\n",
       "      <td>Hyundai i10</td>\n",
       "      <td>2014</td>\n",
       "      <td>1</td>\n",
       "      <td>42328</td>\n",
       "      <td>1086</td>\n",
       "      <td>1</td>\n",
       "      <td>1</td>\n",
       "      <td>19.81</td>\n",
       "      <td>5</td>\n",
       "      <td>5</td>\n",
       "      <td>342000</td>\n",
       "      <td>Hyundai</td>\n",
       "    </tr>\n",
       "    <tr>\n",
       "      <th>4</th>\n",
       "      <td>Tata Nano</td>\n",
       "      <td>2017</td>\n",
       "      <td>1</td>\n",
       "      <td>12039</td>\n",
       "      <td>624</td>\n",
       "      <td>1</td>\n",
       "      <td>1</td>\n",
       "      <td>25.40</td>\n",
       "      <td>4</td>\n",
       "      <td>4</td>\n",
       "      <td>193000</td>\n",
       "      <td>Tata</td>\n",
       "    </tr>\n",
       "    <tr>\n",
       "      <th>...</th>\n",
       "      <td>...</td>\n",
       "      <td>...</td>\n",
       "      <td>...</td>\n",
       "      <td>...</td>\n",
       "      <td>...</td>\n",
       "      <td>...</td>\n",
       "      <td>...</td>\n",
       "      <td>...</td>\n",
       "      <td>...</td>\n",
       "      <td>...</td>\n",
       "      <td>...</td>\n",
       "      <td>...</td>\n",
       "    </tr>\n",
       "    <tr>\n",
       "      <th>1011</th>\n",
       "      <td>Maruti Alto LXi</td>\n",
       "      <td>2009</td>\n",
       "      <td>1</td>\n",
       "      <td>50000</td>\n",
       "      <td>796</td>\n",
       "      <td>1</td>\n",
       "      <td>1</td>\n",
       "      <td>19.70</td>\n",
       "      <td>5</td>\n",
       "      <td>5</td>\n",
       "      <td>1600000</td>\n",
       "      <td>Maruti</td>\n",
       "    </tr>\n",
       "    <tr>\n",
       "      <th>1012</th>\n",
       "      <td>Maruti Ertiga VDI</td>\n",
       "      <td>2014</td>\n",
       "      <td>2</td>\n",
       "      <td>225000</td>\n",
       "      <td>1248</td>\n",
       "      <td>1</td>\n",
       "      <td>1</td>\n",
       "      <td>20.77</td>\n",
       "      <td>7</td>\n",
       "      <td>5</td>\n",
       "      <td>5500000</td>\n",
       "      <td>Maruti</td>\n",
       "    </tr>\n",
       "    <tr>\n",
       "      <th>1013</th>\n",
       "      <td>Volkswagen Vento IPL</td>\n",
       "      <td>2011</td>\n",
       "      <td>1</td>\n",
       "      <td>50000</td>\n",
       "      <td>1598</td>\n",
       "      <td>4</td>\n",
       "      <td>2</td>\n",
       "      <td>14.80</td>\n",
       "      <td>5</td>\n",
       "      <td>6</td>\n",
       "      <td>3500000</td>\n",
       "      <td>Volkswagen</td>\n",
       "    </tr>\n",
       "    <tr>\n",
       "      <th>1014</th>\n",
       "      <td>Toyota Corolla Altis</td>\n",
       "      <td>2008</td>\n",
       "      <td>1</td>\n",
       "      <td>90000</td>\n",
       "      <td>1798</td>\n",
       "      <td>3</td>\n",
       "      <td>1</td>\n",
       "      <td>14.53</td>\n",
       "      <td>5</td>\n",
       "      <td>6</td>\n",
       "      <td>200000</td>\n",
       "      <td>Toyota</td>\n",
       "    </tr>\n",
       "    <tr>\n",
       "      <th>1015</th>\n",
       "      <td>Mahindra Scorpio M2DI</td>\n",
       "      <td>2012</td>\n",
       "      <td>2</td>\n",
       "      <td>120000</td>\n",
       "      <td>2179</td>\n",
       "      <td>3</td>\n",
       "      <td>1</td>\n",
       "      <td>13.50</td>\n",
       "      <td>5</td>\n",
       "      <td>5</td>\n",
       "      <td>525000</td>\n",
       "      <td>Mahindra</td>\n",
       "    </tr>\n",
       "  </tbody>\n",
       "</table>\n",
       "<p>1016 rows × 12 columns</p>\n",
       "</div>"
      ],
      "text/plain": [
       "                        Name  Year  Fuel     KMS  Engine  Owners  \\\n",
       "0     Jeep Compass Trailhawk  2019     2   70007    1956       1   \n",
       "1                Hyundai i20  2021     1   16670    1197       1   \n",
       "2          Hyundai Grand i10  2015     1   62393    1197       2   \n",
       "3                Hyundai i10  2014     1   42328    1086       1   \n",
       "4                  Tata Nano  2017     1   12039     624       1   \n",
       "...                      ...   ...   ...     ...     ...     ...   \n",
       "1011         Maruti Alto LXi  2009     1   50000     796       1   \n",
       "1012       Maruti Ertiga VDI  2014     2  225000    1248       1   \n",
       "1013    Volkswagen Vento IPL  2011     1   50000    1598       4   \n",
       "1014    Toyota Corolla Altis  2008     1   90000    1798       3   \n",
       "1015   Mahindra Scorpio M2DI  2012     2  120000    2179       3   \n",
       "\n",
       "      Transmission  Mileage  Seats  GearBox    Price     Company  \n",
       "0                2    16.30      5        9  2405000        Jeep  \n",
       "1                1    21.00      5        5   897000     Hyundai  \n",
       "2                2    18.90      5        4   468000     Hyundai  \n",
       "3                1    19.81      5        5   342000     Hyundai  \n",
       "4                1    25.40      4        4   193000        Tata  \n",
       "...            ...      ...    ...      ...      ...         ...  \n",
       "1011             1    19.70      5        5  1600000      Maruti  \n",
       "1012             1    20.77      7        5  5500000      Maruti  \n",
       "1013             2    14.80      5        6  3500000  Volkswagen  \n",
       "1014             1    14.53      5        6   200000      Toyota  \n",
       "1015             1    13.50      5        5   525000    Mahindra  \n",
       "\n",
       "[1016 rows x 12 columns]"
      ]
     },
     "execution_count": 4,
     "metadata": {},
     "output_type": "execute_result"
    }
   ],
   "source": [
    "setone.drop('Unnamed: 0',axis=1,inplace=True)\n",
    "setone"
   ]
  },
  {
   "cell_type": "code",
   "execution_count": 7,
   "id": "e6b51f08-3aa3-4e4f-9857-b5d447704423",
   "metadata": {},
   "outputs": [],
   "source": [
    "setone['Name'] = setone['Name'].str.split(' ').str[:2].str.join(' ')"
   ]
  },
  {
   "cell_type": "code",
   "execution_count": 10,
   "id": "b0d7f968-4662-43f3-83a8-0a07aece285e",
   "metadata": {},
   "outputs": [],
   "source": [
    "setone.to_csv('./Final/CorrectedData/correctsetone.csv')"
   ]
  },
  {
   "cell_type": "code",
   "execution_count": null,
   "id": "de8442d2-bfeb-4878-8bd6-822678a5d8be",
   "metadata": {},
   "outputs": [],
   "source": []
  },
  {
   "cell_type": "code",
   "execution_count": null,
   "id": "10a16a40-cf16-43b3-b926-bb485fa6d806",
   "metadata": {},
   "outputs": [],
   "source": []
  }
 ],
 "metadata": {
  "kernelspec": {
   "display_name": "Python 3 (ipykernel)",
   "language": "python",
   "name": "python3"
  },
  "language_info": {
   "codemirror_mode": {
    "name": "ipython",
    "version": 3
   },
   "file_extension": ".py",
   "mimetype": "text/x-python",
   "name": "python",
   "nbconvert_exporter": "python",
   "pygments_lexer": "ipython3",
   "version": "3.9.1"
  }
 },
 "nbformat": 4,
 "nbformat_minor": 5
}
